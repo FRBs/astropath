{
 "cells": [
  {
   "cell_type": "markdown",
   "metadata": {},
   "source": [
    "# GW Example\n",
    "\n",
    "## v2 -- Refactor with localization"
   ]
  },
  {
   "cell_type": "code",
   "execution_count": 1,
   "metadata": {},
   "outputs": [],
   "source": [
    "%matplotlib notebook"
   ]
  },
  {
   "cell_type": "code",
   "execution_count": 12,
   "metadata": {},
   "outputs": [],
   "source": [
    "# imports\n",
    "from importlib import reload\n",
    "import os\n",
    "from pkg_resources import resource_filename\n",
    "import numpy as np\n",
    "\n",
    "import healpy as hp\n",
    "import pandas\n",
    "\n",
    "from astropy.io import fits\n",
    "from astropy.table import Table\n",
    "from astropy.coordinates import SkyCoord\n",
    "\n",
    "from astropath import bayesian\n",
    "from astropath import localization"
   ]
  },
  {
   "cell_type": "markdown",
   "metadata": {},
   "source": [
    "# LIGO example -- GW170817"
   ]
  },
  {
   "cell_type": "code",
   "execution_count": 2,
   "metadata": {},
   "outputs": [],
   "source": [
    "lfile = os.path.join(resource_filename('astropath', 'data'), 'gw_examples', \n",
    "                     'GW170817_skymap.fits.gz')"
   ]
  },
  {
   "cell_type": "code",
   "execution_count": 3,
   "metadata": {},
   "outputs": [
    {
     "name": "stderr",
     "output_type": "stream",
     "text": [
      "/home/xavier/anaconda3/lib/python3.7/site-packages/healpy/fitsfunc.py:369: UserWarning: If you are not specifying the input dtype and using the default np.float64 dtype of read_map(), please consider that it will change in a future version to None as to keep the same dtype of the input file: please explicitly set the dtype if it is important to you.\n",
      "  \"If you are not specifying the input dtype and using the default \"\n",
      "/home/xavier/anaconda3/lib/python3.7/site-packages/healpy/fitsfunc.py:391: UserWarning: NSIDE = 1024\n",
      "  warnings.warn(\"NSIDE = {0:d}\".format(nside))\n",
      "/home/xavier/anaconda3/lib/python3.7/site-packages/healpy/fitsfunc.py:400: UserWarning: ORDERING = NESTED in fits file\n",
      "  warnings.warn(\"ORDERING = {0:s} in fits file\".format(ordering))\n",
      "/home/xavier/anaconda3/lib/python3.7/site-packages/healpy/fitsfunc.py:428: UserWarning: INDXSCHM = IMPLICIT\n",
      "  warnings.warn(\"INDXSCHM = {0:s}\".format(schm))\n",
      "/home/xavier/anaconda3/lib/python3.7/site-packages/healpy/fitsfunc.py:486: UserWarning: Ordering converted to RING\n",
      "  warnings.warn(\"Ordering converted to RING\")\n"
     ]
    }
   ],
   "source": [
    "gw170817 = hp.read_map(lfile)"
   ]
  },
  {
   "cell_type": "code",
   "execution_count": 4,
   "metadata": {},
   "outputs": [
    {
     "data": {
      "text/plain": [
       "XTENSION= 'BINTABLE'           / binary table extension                         \n",
       "BITPIX  =                    8 / array data type                                \n",
       "NAXIS   =                    2 / number of array dimensions                     \n",
       "NAXIS1  =                   32 / length of dimension 1                          \n",
       "NAXIS2  =             12582912 / length of dimension 2                          \n",
       "PCOUNT  =                    0 / number of group parameters                     \n",
       "GCOUNT  =                    1 / number of groups                               \n",
       "TFIELDS =                    4 / number of table fields                         \n",
       "TTYPE1  = 'PROB    '                                                            \n",
       "TFORM1  = 'D       '                                                            \n",
       "TUNIT1  = 'pix-1   '                                                            \n",
       "TTYPE2  = 'DISTMU  '                                                            \n",
       "TFORM2  = 'D       '                                                            \n",
       "TUNIT2  = 'Mpc     '                                                            \n",
       "TTYPE3  = 'DISTSIGMA'                                                           \n",
       "TFORM3  = 'D       '                                                            \n",
       "TUNIT3  = 'Mpc     '                                                            \n",
       "TTYPE4  = 'DISTNORM'                                                            \n",
       "TFORM4  = 'D       '                                                            \n",
       "TUNIT4  = 'Mpc-2   '                                                            \n",
       "PIXTYPE = 'HEALPIX '           / HEALPIX pixelisation                           \n",
       "ORDERING= 'NESTED  '           / Pixel ordering scheme: RING, NESTED, or NUNIQ  \n",
       "COORDSYS= 'C       '           / Ecliptic, Galactic or Celestial (equatorial)   \n",
       "NSIDE   =                 1024 / Resolution parameter of HEALPIX                \n",
       "INDXSCHM= 'IMPLICIT'           / Indexing: IMPLICIT or EXPLICIT                 \n",
       "OBJECT  = 'GW170817'           / Unique identifier for this event               \n",
       "DATE-OBS= '2017-08-17T12:41:04.429464' / UTC date of the observation            \n",
       "MJD-OBS =    57982.52852348908 / modified Julian date of the observation        \n",
       "DATE    = '2019-05-08T21:51:56.613850' / UTC date of file creation              \n",
       "CREATOR = 'ligo-skymap-from-samples' / Program that created this file           \n",
       "ORIGIN  = 'LIGO/Virgo'         / Organization responsible for this FITS file    \n",
       "DISTMEAN=    38.03408225450563 / Posterior mean distance (Mpc)                  \n",
       "DISTSTD =    7.499686641911211 / Posterior standard deviation of distance (Mpc) \n",
       "VCSVERS = 'ligo.skymap 0.0.15' / Software version                               \n",
       "VCSREV  = '65fc6500a1e117fec2e27550a8e9b10c9792ffca' / Software revision (Git)  \n",
       "DATE-BLD= '2018-09-04T14:19:20' / Software build date                           \n",
       "HISTORY                                                                         \n",
       "HISTORY Generated by running the following script:                              \n",
       "HISTORY ligo-skymap-from-samples --seed 170817 --outdir . --objid GW170817 --fit\n",
       "HISTORY soutname MCMC_TF2_LowSpin_AllSky.fits.gz MCMC_TF2_LowSpin_AllSky_post.da\n",
       "HISTORY t                                                                       "
      ]
     },
     "execution_count": 4,
     "metadata": {},
     "output_type": "execute_result"
    }
   ],
   "source": [
    "header = fits.open(lfile)[1].header\n",
    "header"
   ]
  },
  {
   "cell_type": "code",
   "execution_count": 5,
   "metadata": {},
   "outputs": [
    {
     "name": "stderr",
     "output_type": "stream",
     "text": [
      "/home/xavier/anaconda3/lib/python3.7/site-packages/healpy/projaxes.py:920: MatplotlibDeprecationWarning: You are modifying the state of a globally registered colormap. In future versions, you will not be able to modify a registered colormap in-place. To remove this warning, you can make a copy of the colormap first. cmap = copy.copy(mpl.cm.get_cmap(\"viridis\"))\n",
      "  newcm.set_over(newcm(1.0))\n",
      "/home/xavier/anaconda3/lib/python3.7/site-packages/healpy/projaxes.py:921: MatplotlibDeprecationWarning: You are modifying the state of a globally registered colormap. In future versions, you will not be able to modify a registered colormap in-place. To remove this warning, you can make a copy of the colormap first. cmap = copy.copy(mpl.cm.get_cmap(\"viridis\"))\n",
      "  newcm.set_under(bgcolor)\n",
      "/home/xavier/anaconda3/lib/python3.7/site-packages/healpy/projaxes.py:922: MatplotlibDeprecationWarning: You are modifying the state of a globally registered colormap. In future versions, you will not be able to modify a registered colormap in-place. To remove this warning, you can make a copy of the colormap first. cmap = copy.copy(mpl.cm.get_cmap(\"viridis\"))\n",
      "  newcm.set_bad(badcolor)\n",
      "/home/xavier/anaconda3/lib/python3.7/site-packages/healpy/projaxes.py:211: MatplotlibDeprecationWarning: Passing parameters norm and vmin/vmax simultaneously is deprecated since 3.3 and will become an error two minor releases later. Please pass vmin/vmax directly to the norm when creating it.\n",
      "  **kwds\n",
      "/home/xavier/anaconda3/lib/python3.7/site-packages/healpy/projaxes.py:543: UserWarning: 0.0 180.0 -180.0 180.0\n",
      "  pmin / dtor, pmax / dtor, mmin / dtor, mmax / dtor\n",
      "/home/xavier/anaconda3/lib/python3.7/site-packages/healpy/projaxes.py:658: UserWarning: The interval between parallels is 30 deg -0.00'.\n",
      "  vdeg, varcmin\n",
      "/home/xavier/anaconda3/lib/python3.7/site-packages/healpy/projaxes.py:666: UserWarning: The interval between meridians is 30 deg -0.00'.\n",
      "  vdeg, varcmin\n"
     ]
    },
    {
     "data": {
      "image/png": "[encoded data removed]",
      "text/plain": [
       "<Figure size 612x388.8 with 2 Axes>"
      ]
     },
     "metadata": {
      "needs_background": "light"
     },
     "output_type": "display_data"
    }
   ],
   "source": [
    "hp.mollview(\n",
    "    gw170817,\n",
    "    coord=[\"C\"],\n",
    "    title=\"GW170817\",\n",
    "    #unit=\"mK\",\n",
    "    #norm=\"hist\",\n",
    "    #min=-1,\n",
    "    #max=1,\n",
    ")\n",
    "hp.graticule()"
   ]
  },
  {
   "cell_type": "markdown",
   "metadata": {},
   "source": [
    "## Galaxies\n",
    "    https://vizier.u-strasbg.fr/viz-bin/VizieR?-source=VII/275"
   ]
  },
  {
   "cell_type": "code",
   "execution_count": 10,
   "metadata": {},
   "outputs": [],
   "source": [
    "galfile = os.path.join(resource_filename('astropath', 'data'), 'gw_examples', \n",
    "                     'GW170817_galaxies.csv')"
   ]
  },
  {
   "cell_type": "code",
   "execution_count": 15,
   "metadata": {},
   "outputs": [],
   "source": [
    "cut_galaxies = pandas.read_csv(galfile, index_col=0)"
   ]
  },
  {
   "cell_type": "code",
   "execution_count": 16,
   "metadata": {},
   "outputs": [
    {
     "data": {
      "text/html": [
       "<div>\n",
       "<style scoped>\n",
       "    .dataframe tbody tr th:only-of-type {\n",
       "        vertical-align: middle;\n",
       "    }\n",
       "\n",
       "    .dataframe tbody tr th {\n",
       "        vertical-align: top;\n",
       "    }\n",
       "\n",
       "    .dataframe thead th {\n",
       "        text-align: right;\n",
       "    }\n",
       "</style>\n",
       "<table border=\"1\" class=\"dataframe\">\n",
       "  <thead>\n",
       "    <tr style=\"text-align: right;\">\n",
       "      <th></th>\n",
       "      <th>RAJ2000</th>\n",
       "      <th>DEJ2000</th>\n",
       "      <th>Dist</th>\n",
       "      <th>Bmag</th>\n",
       "      <th>BmagHyp</th>\n",
       "      <th>ImagHyp</th>\n",
       "      <th>modzHyp</th>\n",
       "      <th>mod0Hyp</th>\n",
       "      <th>logd25Hyp</th>\n",
       "      <th>logr25Hyp</th>\n",
       "      <th>...</th>\n",
       "      <th>BmagGWGC</th>\n",
       "      <th>maj</th>\n",
       "      <th>min</th>\n",
       "      <th>PAGWGC</th>\n",
       "      <th>DistGWGC</th>\n",
       "      <th>Kmag2MPZ</th>\n",
       "      <th>Bmag2MPZ</th>\n",
       "      <th>zsp2MPZ</th>\n",
       "      <th>zph2MPZ</th>\n",
       "      <th>Flag</th>\n",
       "    </tr>\n",
       "  </thead>\n",
       "  <tbody>\n",
       "    <tr>\n",
       "      <th>667013</th>\n",
       "      <td>357.169220</td>\n",
       "      <td>-2.362345</td>\n",
       "      <td>92.028</td>\n",
       "      <td>15.33</td>\n",
       "      <td>15.81</td>\n",
       "      <td>14.02</td>\n",
       "      <td>34.92</td>\n",
       "      <td>NaN</td>\n",
       "      <td>0.85</td>\n",
       "      <td>0.19</td>\n",
       "      <td>...</td>\n",
       "      <td>15.33</td>\n",
       "      <td>0.708</td>\n",
       "      <td>0.457</td>\n",
       "      <td>136.2</td>\n",
       "      <td>92.028</td>\n",
       "      <td>12.761</td>\n",
       "      <td>15.622</td>\n",
       "      <td>0.02219</td>\n",
       "      <td>0.031973</td>\n",
       "      <td>0</td>\n",
       "    </tr>\n",
       "    <tr>\n",
       "      <th>667018</th>\n",
       "      <td>150.132019</td>\n",
       "      <td>-31.244976</td>\n",
       "      <td>31.583</td>\n",
       "      <td>12.60</td>\n",
       "      <td>12.95</td>\n",
       "      <td>10.66</td>\n",
       "      <td>32.62</td>\n",
       "      <td>NaN</td>\n",
       "      <td>1.31</td>\n",
       "      <td>0.15</td>\n",
       "      <td>...</td>\n",
       "      <td>12.60</td>\n",
       "      <td>2.042</td>\n",
       "      <td>1.446</td>\n",
       "      <td>179.9</td>\n",
       "      <td>31.583</td>\n",
       "      <td>8.792</td>\n",
       "      <td>12.490</td>\n",
       "      <td>0.00813</td>\n",
       "      <td>0.008867</td>\n",
       "      <td>0</td>\n",
       "    </tr>\n",
       "    <tr>\n",
       "      <th>667030</th>\n",
       "      <td>76.325119</td>\n",
       "      <td>-9.147248</td>\n",
       "      <td>44.347</td>\n",
       "      <td>12.53</td>\n",
       "      <td>13.03</td>\n",
       "      <td>10.86</td>\n",
       "      <td>33.33</td>\n",
       "      <td>NaN</td>\n",
       "      <td>1.43</td>\n",
       "      <td>0.35</td>\n",
       "      <td>...</td>\n",
       "      <td>12.53</td>\n",
       "      <td>1.816</td>\n",
       "      <td>0.890</td>\n",
       "      <td>112.0</td>\n",
       "      <td>44.347</td>\n",
       "      <td>8.818</td>\n",
       "      <td>12.735</td>\n",
       "      <td>0.01090</td>\n",
       "      <td>0.010972</td>\n",
       "      <td>0</td>\n",
       "    </tr>\n",
       "    <tr>\n",
       "      <th>667044</th>\n",
       "      <td>338.249908</td>\n",
       "      <td>-20.094194</td>\n",
       "      <td>80.264</td>\n",
       "      <td>14.13</td>\n",
       "      <td>14.43</td>\n",
       "      <td>13.35</td>\n",
       "      <td>34.57</td>\n",
       "      <td>NaN</td>\n",
       "      <td>1.05</td>\n",
       "      <td>0.03</td>\n",
       "      <td>...</td>\n",
       "      <td>14.13</td>\n",
       "      <td>0.830</td>\n",
       "      <td>0.772</td>\n",
       "      <td>NaN</td>\n",
       "      <td>80.264</td>\n",
       "      <td>12.792</td>\n",
       "      <td>14.575</td>\n",
       "      <td>0.01905</td>\n",
       "      <td>0.011343</td>\n",
       "      <td>0</td>\n",
       "    </tr>\n",
       "    <tr>\n",
       "      <th>667076</th>\n",
       "      <td>138.796539</td>\n",
       "      <td>29.252758</td>\n",
       "      <td>88.167</td>\n",
       "      <td>16.19</td>\n",
       "      <td>17.13</td>\n",
       "      <td>NaN</td>\n",
       "      <td>34.83</td>\n",
       "      <td>NaN</td>\n",
       "      <td>0.72</td>\n",
       "      <td>0.46</td>\n",
       "      <td>...</td>\n",
       "      <td>16.19</td>\n",
       "      <td>0.525</td>\n",
       "      <td>0.182</td>\n",
       "      <td>2.4</td>\n",
       "      <td>88.167</td>\n",
       "      <td>13.127</td>\n",
       "      <td>16.320</td>\n",
       "      <td>0.02080</td>\n",
       "      <td>0.062994</td>\n",
       "      <td>0</td>\n",
       "    </tr>\n",
       "  </tbody>\n",
       "</table>\n",
       "<p>5 rows × 31 columns</p>\n",
       "</div>"
      ],
      "text/plain": [
       "           RAJ2000    DEJ2000    Dist   Bmag  BmagHyp  ImagHyp  modzHyp  \\\n",
       "667013  357.169220  -2.362345  92.028  15.33    15.81    14.02    34.92   \n",
       "667018  150.132019 -31.244976  31.583  12.60    12.95    10.66    32.62   \n",
       "667030   76.325119  -9.147248  44.347  12.53    13.03    10.86    33.33   \n",
       "667044  338.249908 -20.094194  80.264  14.13    14.43    13.35    34.57   \n",
       "667076  138.796539  29.252758  88.167  16.19    17.13      NaN    34.83   \n",
       "\n",
       "        mod0Hyp  logd25Hyp  logr25Hyp  ...  BmagGWGC    maj    min  PAGWGC  \\\n",
       "667013      NaN       0.85       0.19  ...     15.33  0.708  0.457   136.2   \n",
       "667018      NaN       1.31       0.15  ...     12.60  2.042  1.446   179.9   \n",
       "667030      NaN       1.43       0.35  ...     12.53  1.816  0.890   112.0   \n",
       "667044      NaN       1.05       0.03  ...     14.13  0.830  0.772     NaN   \n",
       "667076      NaN       0.72       0.46  ...     16.19  0.525  0.182     2.4   \n",
       "\n",
       "        DistGWGC  Kmag2MPZ  Bmag2MPZ  zsp2MPZ   zph2MPZ  Flag  \n",
       "667013    92.028    12.761    15.622  0.02219  0.031973     0  \n",
       "667018    31.583     8.792    12.490  0.00813  0.008867     0  \n",
       "667030    44.347     8.818    12.735  0.01090  0.010972     0  \n",
       "667044    80.264    12.792    14.575  0.01905  0.011343     0  \n",
       "667076    88.167    13.127    16.320  0.02080  0.062994     0  \n",
       "\n",
       "[5 rows x 31 columns]"
      ]
     },
     "execution_count": 16,
     "metadata": {},
     "output_type": "execute_result"
    }
   ],
   "source": [
    "cut_galaxies.head()"
   ]
  },
  {
   "cell_type": "markdown",
   "metadata": {},
   "source": [
    "### Coordinates"
   ]
  },
  {
   "cell_type": "code",
   "execution_count": 17,
   "metadata": {},
   "outputs": [],
   "source": [
    "cut_gal_coord = SkyCoord(ra=cut_galaxies.RAJ2000, dec=cut_galaxies.DEJ2000, unit='deg')"
   ]
  },
  {
   "cell_type": "code",
   "execution_count": 19,
   "metadata": {},
   "outputs": [],
   "source": [
    "ngc_4993 = SkyCoord('13h09m47.706s -23d23m01.79s', frame='icrs')"
   ]
  },
  {
   "cell_type": "code",
   "execution_count": 20,
   "metadata": {},
   "outputs": [
    {
     "data": {
      "text/latex": [
       "$6.96812e-05\\mathrm{{}^{\\prime}}$"
      ],
      "text/plain": [
       "<Angle 6.9681154e-05 arcmin>"
      ]
     },
     "execution_count": 20,
     "metadata": {},
     "output_type": "execute_result"
    }
   ],
   "source": [
    "np.min(ngc_4993.separation(cut_gal_coord).to('arcmin'))"
   ]
  },
  {
   "cell_type": "code",
   "execution_count": 21,
   "metadata": {},
   "outputs": [
    {
     "data": {
      "text/plain": [
       "11"
      ]
     },
     "execution_count": 21,
     "metadata": {},
     "output_type": "execute_result"
    }
   ],
   "source": [
    "np.argmin(ngc_4993.separation(cut_gal_coord))"
   ]
  },
  {
   "cell_type": "code",
   "execution_count": 22,
   "metadata": {},
   "outputs": [
    {
     "data": {
      "text/plain": [
       "RAJ2000      197.448776\n",
       "DEJ2000      -23.383831\n",
       "Dist          33.806000\n",
       "Bmag          12.870000\n",
       "BmagHyp       13.450000\n",
       "ImagHyp       11.310000\n",
       "modzHyp       33.130000\n",
       "mod0Hyp             NaN\n",
       "logd25Hyp      1.190000\n",
       "logr25Hyp      0.060000\n",
       "logdcHyp       1.260000\n",
       "PAHyp        173.200000\n",
       "BmagHypC      12.870000\n",
       "ImagHypC      11.080000\n",
       "U-BHypC             NaN\n",
       "B-VHypC             NaN\n",
       "Jmag2         10.292000\n",
       "Hmag2          9.599000\n",
       "Kmag2          9.330000\n",
       "a_b            0.900000\n",
       "PAK          -20.000000\n",
       "BmagGWGC      12.870000\n",
       "maj            0.932000\n",
       "min            0.792000\n",
       "PAGWGC       173.200000\n",
       "DistGWGC      33.806000\n",
       "Kmag2MPZ       9.285000\n",
       "Bmag2MPZ      13.160000\n",
       "zsp2MPZ        0.009680\n",
       "zph2MPZ        0.012307\n",
       "Flag           0.000000\n",
       "Name: 667145, dtype: float64"
      ]
     },
     "execution_count": 22,
     "metadata": {},
     "output_type": "execute_result"
    }
   ],
   "source": [
    "cut_galaxies.iloc[11]"
   ]
  },
  {
   "cell_type": "markdown",
   "metadata": {},
   "source": [
    "# PATH time"
   ]
  },
  {
   "cell_type": "markdown",
   "metadata": {},
   "source": [
    "## Priors"
   ]
  },
  {
   "cell_type": "code",
   "execution_count": 23,
   "metadata": {},
   "outputs": [],
   "source": [
    "offset_prior = dict(method='exp', \n",
    "                   max=6., # units of ang_size\n",
    "                   ang_size=cut_galaxies.maj.values*60., # arcsec\n",
    "                  )\n",
    "priors = dict(offset=offset_prior, \n",
    "              O='inverse', \n",
    "              U=0., \n",
    "              name='Adopted')"
   ]
  },
  {
   "cell_type": "markdown",
   "metadata": {},
   "source": [
    "### Raw"
   ]
  },
  {
   "cell_type": "code",
   "execution_count": 24,
   "metadata": {},
   "outputs": [],
   "source": [
    "raw_prior_Oi = bayesian.raw_prior_Oi(priors['O'],\n",
    "                                     cut_galaxies.Bmag.values)\n",
    "cut_galaxies['P_O_raw'] = raw_prior_Oi"
   ]
  },
  {
   "cell_type": "markdown",
   "metadata": {},
   "source": [
    "### Normalize"
   ]
  },
  {
   "cell_type": "code",
   "execution_count": 25,
   "metadata": {},
   "outputs": [],
   "source": [
    "cut_galaxies['P_O'] = bayesian.renorm_priors(cut_galaxies.P_O_raw.values, priors['U'])"
   ]
  },
  {
   "cell_type": "markdown",
   "metadata": {},
   "source": [
    "## Calculate $p(x|O)$"
   ]
  },
  {
   "cell_type": "markdown",
   "metadata": {},
   "source": [
    "## Localization"
   ]
  },
  {
   "cell_type": "code",
   "execution_count": 26,
   "metadata": {},
   "outputs": [],
   "source": [
    "localiz = dict(type='healpix',\n",
    "               healpix_data=gw170817,\n",
    "               healpix_nside=header['NSIDE'],\n",
    "               healpix_ordering='NESTED',\n",
    "               healpix_coord='C')\n",
    "assert localization.vette_localization(localiz)"
   ]
  },
  {
   "cell_type": "code",
   "execution_count": 27,
   "metadata": {},
   "outputs": [],
   "source": [
    "reload(bayesian)\n",
    "p_xOi = bayesian.px_Oi_local(localiz, \n",
    "                      cut_gal_coord, offset_prior)#, debug=True)"
   ]
  },
  {
   "cell_type": "code",
   "execution_count": 28,
   "metadata": {},
   "outputs": [],
   "source": [
    "cut_galaxies['p_xO'] = p_xOi"
   ]
  },
  {
   "cell_type": "markdown",
   "metadata": {},
   "source": [
    "## $p(x)$"
   ]
  },
  {
   "cell_type": "code",
   "execution_count": 29,
   "metadata": {},
   "outputs": [
    {
     "data": {
      "text/plain": [
       "0.00033370749677562306"
      ]
     },
     "execution_count": 29,
     "metadata": {},
     "output_type": "execute_result"
    }
   ],
   "source": [
    "p_x = np.sum(cut_galaxies.P_O * cut_galaxies.p_xO)\n",
    "p_x"
   ]
  },
  {
   "cell_type": "markdown",
   "metadata": {},
   "source": [
    "## Posteriors $P(O|x)$"
   ]
  },
  {
   "cell_type": "code",
   "execution_count": 30,
   "metadata": {},
   "outputs": [],
   "source": [
    "P_Oix = cut_galaxies.P_O * p_xOi / p_x\n",
    "cut_galaxies['P_Ox'] = P_Oix"
   ]
  },
  {
   "cell_type": "code",
   "execution_count": 31,
   "metadata": {},
   "outputs": [
    {
     "data": {
      "text/html": [
       "<div>\n",
       "<style scoped>\n",
       "    .dataframe tbody tr th:only-of-type {\n",
       "        vertical-align: middle;\n",
       "    }\n",
       "\n",
       "    .dataframe tbody tr th {\n",
       "        vertical-align: top;\n",
       "    }\n",
       "\n",
       "    .dataframe thead th {\n",
       "        text-align: right;\n",
       "    }\n",
       "</style>\n",
       "<table border=\"1\" class=\"dataframe\">\n",
       "  <thead>\n",
       "    <tr style=\"text-align: right;\">\n",
       "      <th></th>\n",
       "      <th>RAJ2000</th>\n",
       "      <th>DEJ2000</th>\n",
       "      <th>Bmag</th>\n",
       "      <th>maj</th>\n",
       "      <th>P_O</th>\n",
       "      <th>p_xO</th>\n",
       "      <th>P_Ox</th>\n",
       "    </tr>\n",
       "  </thead>\n",
       "  <tbody>\n",
       "    <tr>\n",
       "      <th>667145</th>\n",
       "      <td>197.448776</td>\n",
       "      <td>-23.383831</td>\n",
       "      <td>12.87</td>\n",
       "      <td>0.932</td>\n",
       "      <td>0.006478</td>\n",
       "      <td>5.151239e-02</td>\n",
       "      <td>9.999950e-01</td>\n",
       "    </tr>\n",
       "    <tr>\n",
       "      <th>668837</th>\n",
       "      <td>193.861099</td>\n",
       "      <td>-20.892786</td>\n",
       "      <td>15.73</td>\n",
       "      <td>0.776</td>\n",
       "      <td>0.000128</td>\n",
       "      <td>1.295437e-05</td>\n",
       "      <td>4.952312e-06</td>\n",
       "    </tr>\n",
       "    <tr>\n",
       "      <th>667931</th>\n",
       "      <td>194.469193</td>\n",
       "      <td>-22.638481</td>\n",
       "      <td>15.52</td>\n",
       "      <td>1.047</td>\n",
       "      <td>0.000167</td>\n",
       "      <td>5.217267e-09</td>\n",
       "      <td>2.614253e-09</td>\n",
       "    </tr>\n",
       "    <tr>\n",
       "      <th>671560</th>\n",
       "      <td>206.735901</td>\n",
       "      <td>-39.884365</td>\n",
       "      <td>14.88</td>\n",
       "      <td>0.757</td>\n",
       "      <td>0.000388</td>\n",
       "      <td>2.236647e-11</td>\n",
       "      <td>2.600846e-11</td>\n",
       "    </tr>\n",
       "    <tr>\n",
       "      <th>670857</th>\n",
       "      <td>192.973251</td>\n",
       "      <td>-12.604387</td>\n",
       "      <td>16.27</td>\n",
       "      <td>0.468</td>\n",
       "      <td>0.000064</td>\n",
       "      <td>4.714698e-11</td>\n",
       "      <td>9.103227e-12</td>\n",
       "    </tr>\n",
       "    <tr>\n",
       "      <th>...</th>\n",
       "      <td>...</td>\n",
       "      <td>...</td>\n",
       "      <td>...</td>\n",
       "      <td>...</td>\n",
       "      <td>...</td>\n",
       "      <td>...</td>\n",
       "      <td>...</td>\n",
       "    </tr>\n",
       "    <tr>\n",
       "      <th>668699</th>\n",
       "      <td>180.701767</td>\n",
       "      <td>21.145529</td>\n",
       "      <td>16.00</td>\n",
       "      <td>0.871</td>\n",
       "      <td>0.000090</td>\n",
       "      <td>0.000000e+00</td>\n",
       "      <td>0.000000e+00</td>\n",
       "    </tr>\n",
       "    <tr>\n",
       "      <th>668667</th>\n",
       "      <td>110.026970</td>\n",
       "      <td>53.010151</td>\n",
       "      <td>14.28</td>\n",
       "      <td>0.757</td>\n",
       "      <td>0.000875</td>\n",
       "      <td>0.000000e+00</td>\n",
       "      <td>0.000000e+00</td>\n",
       "    </tr>\n",
       "    <tr>\n",
       "      <th>668650</th>\n",
       "      <td>140.950027</td>\n",
       "      <td>2.112878</td>\n",
       "      <td>15.07</td>\n",
       "      <td>0.630</td>\n",
       "      <td>0.000301</td>\n",
       "      <td>0.000000e+00</td>\n",
       "      <td>0.000000e+00</td>\n",
       "    </tr>\n",
       "    <tr>\n",
       "      <th>668626</th>\n",
       "      <td>21.381145</td>\n",
       "      <td>32.136272</td>\n",
       "      <td>13.63</td>\n",
       "      <td>1.582</td>\n",
       "      <td>0.002167</td>\n",
       "      <td>0.000000e+00</td>\n",
       "      <td>0.000000e+00</td>\n",
       "    </tr>\n",
       "    <tr>\n",
       "      <th>671999</th>\n",
       "      <td>171.504303</td>\n",
       "      <td>1.984145</td>\n",
       "      <td>14.04</td>\n",
       "      <td>0.775</td>\n",
       "      <td>0.001219</td>\n",
       "      <td>0.000000e+00</td>\n",
       "      <td>0.000000e+00</td>\n",
       "    </tr>\n",
       "  </tbody>\n",
       "</table>\n",
       "<p>390 rows × 7 columns</p>\n",
       "</div>"
      ],
      "text/plain": [
       "           RAJ2000    DEJ2000   Bmag    maj       P_O          p_xO  \\\n",
       "667145  197.448776 -23.383831  12.87  0.932  0.006478  5.151239e-02   \n",
       "668837  193.861099 -20.892786  15.73  0.776  0.000128  1.295437e-05   \n",
       "667931  194.469193 -22.638481  15.52  1.047  0.000167  5.217267e-09   \n",
       "671560  206.735901 -39.884365  14.88  0.757  0.000388  2.236647e-11   \n",
       "670857  192.973251 -12.604387  16.27  0.468  0.000064  4.714698e-11   \n",
       "...            ...        ...    ...    ...       ...           ...   \n",
       "668699  180.701767  21.145529  16.00  0.871  0.000090  0.000000e+00   \n",
       "668667  110.026970  53.010151  14.28  0.757  0.000875  0.000000e+00   \n",
       "668650  140.950027   2.112878  15.07  0.630  0.000301  0.000000e+00   \n",
       "668626   21.381145  32.136272  13.63  1.582  0.002167  0.000000e+00   \n",
       "671999  171.504303   1.984145  14.04  0.775  0.001219  0.000000e+00   \n",
       "\n",
       "                P_Ox  \n",
       "667145  9.999950e-01  \n",
       "668837  4.952312e-06  \n",
       "667931  2.614253e-09  \n",
       "671560  2.600846e-11  \n",
       "670857  9.103227e-12  \n",
       "...              ...  \n",
       "668699  0.000000e+00  \n",
       "668667  0.000000e+00  \n",
       "668650  0.000000e+00  \n",
       "668626  0.000000e+00  \n",
       "671999  0.000000e+00  \n",
       "\n",
       "[390 rows x 7 columns]"
      ]
     },
     "execution_count": 31,
     "metadata": {},
     "output_type": "execute_result"
    }
   ],
   "source": [
    "cut_galaxies[['RAJ2000', 'DEJ2000', 'Bmag', 'maj', 'P_O', 'p_xO', 'P_Ox']].sort_values('P_Ox', ascending=False)"
   ]
  },
  {
   "cell_type": "markdown",
   "metadata": {},
   "source": [
    "## F'ing A"
   ]
  },
  {
   "cell_type": "markdown",
   "metadata": {},
   "source": [
    "----"
   ]
  },
  {
   "cell_type": "markdown",
   "metadata": {},
   "source": [
    "# Multi order\n",
    "    https://emfollow.docs.ligo.org/userguide/tutorial/multiorder_skymaps.html"
   ]
  },
  {
   "cell_type": "code",
   "execution_count": 28,
   "metadata": {},
   "outputs": [],
   "source": [
    "mofile = os.path.join(resource_filename('astropath', 'data'), 'gw_examples', \n",
    "                     'GW190814_PublicationSamples.multiorder.fits')"
   ]
  },
  {
   "cell_type": "markdown",
   "metadata": {},
   "source": [
    "----"
   ]
  }
 ],
 "metadata": {
  "kernelspec": {
   "display_name": "Python 3",
   "language": "python",
   "name": "python3"
  },
  "language_info": {
   "codemirror_mode": {
    "name": "ipython",
    "version": 3
   },
   "file_extension": ".py",
   "mimetype": "text/x-python",
   "name": "python",
   "nbconvert_exporter": "python",
   "pygments_lexer": "ipython3",
   "version": "3.7.8"
  }
 },
 "nbformat": 4,
 "nbformat_minor": 4
}
