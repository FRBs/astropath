{
 "cells": [
  {
   "cell_type": "markdown",
   "id": "08a2f779",
   "metadata": {},
   "source": [
    "# FRB 190520 (approximate)"
   ]
  },
  {
   "cell_type": "code",
   "execution_count": 10,
   "id": "1c6350e5",
   "metadata": {},
   "outputs": [],
   "source": [
    "# imports\n",
    "from importlib import reload\n",
    "import os\n",
    "from pkg_resources import resource_filename\n",
    "\n",
    "import numpy as np\n",
    "\n",
    "import pandas\n",
    "\n",
    "from astropy.coordinates import SkyCoord\n",
    "from astropy import units\n",
    "\n",
    "from frb.galaxies import nebular\n",
    "\n",
    "from astropath import path\n",
    "from astropath import localization"
   ]
  },
  {
   "cell_type": "markdown",
   "id": "ebba58ba",
   "metadata": {},
   "source": [
    "# Instantiate"
   ]
  },
  {
   "cell_type": "code",
   "execution_count": 3,
   "id": "a4e262b9",
   "metadata": {},
   "outputs": [],
   "source": [
    "Path = path.PATH()"
   ]
  },
  {
   "cell_type": "markdown",
   "id": "dadc4948",
   "metadata": {},
   "source": [
    "# FRB"
   ]
  },
  {
   "cell_type": "markdown",
   "id": "c1d8b9eb",
   "metadata": {},
   "source": [
    "## FRB Coord"
   ]
  },
  {
   "cell_type": "code",
   "execution_count": 5,
   "id": "fee2e7a4",
   "metadata": {},
   "outputs": [
    {
     "data": {
      "text/plain": [
       "<SkyCoord (ICRS): (ra, dec) in deg\n",
       "    (240.51778333, -11.28814444)>"
      ]
     },
     "execution_count": 5,
     "metadata": {},
     "output_type": "execute_result"
    }
   ],
   "source": [
    "frb_coord = SkyCoord('16h02m04.268s -11d17m17.32s', frame='icrs')\n",
    "frb_coord"
   ]
  },
  {
   "cell_type": "markdown",
   "id": "880a987f",
   "metadata": {},
   "source": [
    "## Error"
   ]
  },
  {
   "cell_type": "code",
   "execution_count": 6,
   "id": "33fc1bfe",
   "metadata": {},
   "outputs": [],
   "source": [
    "eellipse = dict(a=0.125, b=0.125, theta=0.)"
   ]
  },
  {
   "cell_type": "code",
   "execution_count": 8,
   "id": "2c03a744",
   "metadata": {},
   "outputs": [
    {
     "data": {
      "text/plain": [
       "{'type': 'eellipse',\n",
       " 'center_coord': <SkyCoord (ICRS): (ra, dec) in deg\n",
       "     (240.51778333, -11.28814444)>,\n",
       " 'eellipse': {'a': 0.125, 'b': 0.125, 'theta': 0.0}}"
      ]
     },
     "execution_count": 8,
     "metadata": {},
     "output_type": "execute_result"
    }
   ],
   "source": [
    "Path.init_localization('eellipse', center_coord=frb_coord, eellipse=eellipse)\n",
    "Path.localiz"
   ]
  },
  {
   "cell_type": "markdown",
   "id": "6396e9d9",
   "metadata": {},
   "source": [
    "# Galactic Extinction"
   ]
  },
  {
   "cell_type": "code",
   "execution_count": 12,
   "id": "f9ec5fb7",
   "metadata": {},
   "outputs": [
    {
     "data": {
      "text/plain": [
       "{'refPixelValue': 0.2866,\n",
       " 'meanValue': 0.2903,\n",
       " 'std': 0.005,\n",
       " 'maxValue': 0.3026,\n",
       " 'minValue': 0.2808}"
      ]
     },
     "execution_count": 12,
     "metadata": {},
     "output_type": "execute_result"
    }
   ],
   "source": [
    "nebular.get_ebv(frb_coord)"
   ]
  },
  {
   "cell_type": "markdown",
   "id": "213d9864",
   "metadata": {},
   "source": [
    "# Candidates (kludgy)"
   ]
  },
  {
   "cell_type": "markdown",
   "id": "879a6b0c",
   "metadata": {},
   "source": [
    "## From the paper"
   ]
  },
  {
   "cell_type": "code",
   "execution_count": 14,
   "id": "96e27ee2",
   "metadata": {},
   "outputs": [],
   "source": [
    "gal1_coord = SkyCoord('J160204.31-111718.5',  unit=(units.hourangle, units.deg))\n",
    "gal1_r = 21.  #"
   ]
  },
  {
   "cell_type": "code",
   "execution_count": 23,
   "id": "64d51d93",
   "metadata": {},
   "outputs": [],
   "source": [
    "gal2_coord = gal1_coord.directional_offset_by(135.*units.deg, 1*units.arcsec)\n",
    "gal2_r = 21.7"
   ]
  },
  {
   "cell_type": "markdown",
   "id": "b5b755bd",
   "metadata": {},
   "source": [
    "## Table"
   ]
  },
  {
   "cell_type": "code",
   "execution_count": 24,
   "id": "2d77872a",
   "metadata": {},
   "outputs": [
    {
     "data": {
      "text/html": [
       "<div>\n",
       "<style scoped>\n",
       "    .dataframe tbody tr th:only-of-type {\n",
       "        vertical-align: middle;\n",
       "    }\n",
       "\n",
       "    .dataframe tbody tr th {\n",
       "        vertical-align: top;\n",
       "    }\n",
       "\n",
       "    .dataframe thead th {\n",
       "        text-align: right;\n",
       "    }\n",
       "</style>\n",
       "<table border=\"1\" class=\"dataframe\">\n",
       "  <thead>\n",
       "    <tr style=\"text-align: right;\">\n",
       "      <th></th>\n",
       "      <th>ra</th>\n",
       "      <th>dec</th>\n",
       "      <th>half_light</th>\n",
       "      <th>r_mag</th>\n",
       "    </tr>\n",
       "  </thead>\n",
       "  <tbody>\n",
       "    <tr>\n",
       "      <th>0</th>\n",
       "      <td>240.517958</td>\n",
       "      <td>-11.288472</td>\n",
       "      <td>0.5</td>\n",
       "      <td>21.0</td>\n",
       "    </tr>\n",
       "    <tr>\n",
       "      <th>1</th>\n",
       "      <td>240.518159</td>\n",
       "      <td>-11.288669</td>\n",
       "      <td>0.5</td>\n",
       "      <td>21.7</td>\n",
       "    </tr>\n",
       "  </tbody>\n",
       "</table>\n",
       "</div>"
      ],
      "text/plain": [
       "           ra        dec  half_light  r_mag\n",
       "0  240.517958 -11.288472         0.5   21.0\n",
       "1  240.518159 -11.288669         0.5   21.7"
      ]
     },
     "execution_count": 24,
     "metadata": {},
     "output_type": "execute_result"
    }
   ],
   "source": [
    "candidates = pandas.DataFrame({'ra': [gal1_coord.ra.value, \n",
    "                                     gal2_coord.ra.value],\n",
    "                              'dec': [gal1_coord.dec.value, \n",
    "                                     gal2_coord.dec.value],\n",
    "                              'half_light': [0.5, 0.5], # Made up\n",
    "                               'r_mag': [gal1_r, gal2_r]\n",
    "                              })\n",
    "candidates"
   ]
  },
  {
   "cell_type": "markdown",
   "id": "8dbd0ac1",
   "metadata": {},
   "source": [
    "## Init in PATH"
   ]
  },
  {
   "cell_type": "code",
   "execution_count": 27,
   "id": "8629ad2b",
   "metadata": {},
   "outputs": [],
   "source": [
    "Path.init_candidates(candidates.ra.values,\n",
    "                     candidates.dec.values,\n",
    "                     candidates.half_light.values,\n",
    "                     mag=candidates.r_mag.values)"
   ]
  },
  {
   "cell_type": "markdown",
   "id": "4ab7a98f",
   "metadata": {},
   "source": [
    "# Priors"
   ]
  },
  {
   "cell_type": "markdown",
   "id": "089dbe4f",
   "metadata": {},
   "source": [
    "## Candidate prior"
   ]
  },
  {
   "cell_type": "code",
   "execution_count": 29,
   "id": "c3012a82",
   "metadata": {},
   "outputs": [],
   "source": [
    "Path.init_cand_prior('inverse', P_U=0.3)  # Trying non-zero P(U) first"
   ]
  },
  {
   "cell_type": "markdown",
   "id": "791da73a",
   "metadata": {},
   "source": [
    "## Offset prior"
   ]
  },
  {
   "cell_type": "code",
   "execution_count": 30,
   "id": "352b8528",
   "metadata": {},
   "outputs": [],
   "source": [
    "Path.init_theta_prior('exp', 6.)"
   ]
  },
  {
   "cell_type": "markdown",
   "id": "b1d349b5",
   "metadata": {},
   "source": [
    "## Calculate"
   ]
  },
  {
   "cell_type": "code",
   "execution_count": 31,
   "id": "7d22f4f2",
   "metadata": {},
   "outputs": [
    {
     "data": {
      "text/plain": [
       "array([0.46159993, 0.23840007])"
      ]
     },
     "execution_count": 31,
     "metadata": {},
     "output_type": "execute_result"
    }
   ],
   "source": [
    "Path.calc_priors()"
   ]
  },
  {
   "cell_type": "code",
   "execution_count": 32,
   "id": "664d60b4",
   "metadata": {},
   "outputs": [
    {
     "data": {
      "text/html": [
       "<div>\n",
       "<style scoped>\n",
       "    .dataframe tbody tr th:only-of-type {\n",
       "        vertical-align: middle;\n",
       "    }\n",
       "\n",
       "    .dataframe tbody tr th {\n",
       "        vertical-align: top;\n",
       "    }\n",
       "\n",
       "    .dataframe thead th {\n",
       "        text-align: right;\n",
       "    }\n",
       "</style>\n",
       "<table border=\"1\" class=\"dataframe\">\n",
       "  <thead>\n",
       "    <tr style=\"text-align: right;\">\n",
       "      <th></th>\n",
       "      <th>ra</th>\n",
       "      <th>dec</th>\n",
       "      <th>ang_size</th>\n",
       "      <th>mag</th>\n",
       "      <th>P_O</th>\n",
       "    </tr>\n",
       "  </thead>\n",
       "  <tbody>\n",
       "    <tr>\n",
       "      <th>0</th>\n",
       "      <td>240.517958</td>\n",
       "      <td>-11.288472</td>\n",
       "      <td>0.5</td>\n",
       "      <td>21.0</td>\n",
       "      <td>0.4616</td>\n",
       "    </tr>\n",
       "    <tr>\n",
       "      <th>1</th>\n",
       "      <td>240.518159</td>\n",
       "      <td>-11.288669</td>\n",
       "      <td>0.5</td>\n",
       "      <td>21.7</td>\n",
       "      <td>0.2384</td>\n",
       "    </tr>\n",
       "  </tbody>\n",
       "</table>\n",
       "</div>"
      ],
      "text/plain": [
       "           ra        dec  ang_size   mag     P_O\n",
       "0  240.517958 -11.288472       0.5  21.0  0.4616\n",
       "1  240.518159 -11.288669       0.5  21.7  0.2384"
      ]
     },
     "execution_count": 32,
     "metadata": {},
     "output_type": "execute_result"
    }
   ],
   "source": [
    "Path.candidates"
   ]
  },
  {
   "cell_type": "markdown",
   "id": "a09f22c0",
   "metadata": {},
   "source": [
    "# Posteriors"
   ]
  },
  {
   "cell_type": "code",
   "execution_count": 34,
   "id": "86abb567",
   "metadata": {},
   "outputs": [],
   "source": [
    "P_Ox, P_Ux = Path.calc_posteriors('fixed', box_hwidth=30., max_radius=10.)"
   ]
  },
  {
   "cell_type": "code",
   "execution_count": 35,
   "id": "d682d623",
   "metadata": {},
   "outputs": [
    {
     "data": {
      "text/html": [
       "<div>\n",
       "<style scoped>\n",
       "    .dataframe tbody tr th:only-of-type {\n",
       "        vertical-align: middle;\n",
       "    }\n",
       "\n",
       "    .dataframe tbody tr th {\n",
       "        vertical-align: top;\n",
       "    }\n",
       "\n",
       "    .dataframe thead th {\n",
       "        text-align: right;\n",
       "    }\n",
       "</style>\n",
       "<table border=\"1\" class=\"dataframe\">\n",
       "  <thead>\n",
       "    <tr style=\"text-align: right;\">\n",
       "      <th></th>\n",
       "      <th>ra</th>\n",
       "      <th>dec</th>\n",
       "      <th>ang_size</th>\n",
       "      <th>mag</th>\n",
       "      <th>P_O</th>\n",
       "      <th>p_xO</th>\n",
       "      <th>P_Ox</th>\n",
       "    </tr>\n",
       "  </thead>\n",
       "  <tbody>\n",
       "    <tr>\n",
       "      <th>0</th>\n",
       "      <td>240.517958</td>\n",
       "      <td>-11.288472</td>\n",
       "      <td>0.5</td>\n",
       "      <td>21.0</td>\n",
       "      <td>0.4616</td>\n",
       "      <td>0.045227</td>\n",
       "      <td>0.900940</td>\n",
       "    </tr>\n",
       "    <tr>\n",
       "      <th>1</th>\n",
       "      <td>240.518159</td>\n",
       "      <td>-11.288669</td>\n",
       "      <td>0.5</td>\n",
       "      <td>21.7</td>\n",
       "      <td>0.2384</td>\n",
       "      <td>0.006483</td>\n",
       "      <td>0.066694</td>\n",
       "    </tr>\n",
       "  </tbody>\n",
       "</table>\n",
       "</div>"
      ],
      "text/plain": [
       "           ra        dec  ang_size   mag     P_O      p_xO      P_Ox\n",
       "0  240.517958 -11.288472       0.5  21.0  0.4616  0.045227  0.900940\n",
       "1  240.518159 -11.288669       0.5  21.7  0.2384  0.006483  0.066694"
      ]
     },
     "execution_count": 35,
     "metadata": {},
     "output_type": "execute_result"
    }
   ],
   "source": [
    "Path.candidates"
   ]
  },
  {
   "cell_type": "code",
   "execution_count": null,
   "id": "4283f7fb",
   "metadata": {},
   "outputs": [],
   "source": []
  }
 ],
 "metadata": {
  "kernelspec": {
   "display_name": "Python 3 (ipykernel)",
   "language": "python",
   "name": "python3"
  },
  "language_info": {
   "codemirror_mode": {
    "name": "ipython",
    "version": 3
   },
   "file_extension": ".py",
   "mimetype": "text/x-python",
   "name": "python",
   "nbconvert_exporter": "python",
   "pygments_lexer": "ipython3",
   "version": "3.8.5"
  }
 },
 "nbformat": 4,
 "nbformat_minor": 5
}
