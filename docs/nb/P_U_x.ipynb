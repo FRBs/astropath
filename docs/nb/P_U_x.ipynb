{
 "cells": [
  {
   "cell_type": "markdown",
   "metadata": {},
   "source": [
    "# $P(U|x)$ Calculations"
   ]
  },
  {
   "cell_type": "code",
   "execution_count": 1,
   "metadata": {},
   "outputs": [],
   "source": [
    "# imports\n",
    "import os\n",
    "from pkg_resources import resource_filename\n",
    "from importlib import reload\n",
    "\n",
    "import numpy as np\n",
    "\n",
    "import pandas\n",
    "\n",
    "from astropy.coordinates import SkyCoord\n",
    "#from astropy.io import fits\n",
    "\n",
    "from astropath import bayesian"
   ]
  },
  {
   "cell_type": "markdown",
   "metadata": {},
   "source": [
    "# Dummy FRB (based on 121102)"
   ]
  },
  {
   "cell_type": "code",
   "execution_count": 2,
   "metadata": {},
   "outputs": [
    {
     "data": {
      "text/plain": [
       "<SkyCoord (ICRS): (ra, dec) in deg\n",
       "    (82.99458875, 33.14793156)>"
      ]
     },
     "execution_count": 2,
     "metadata": {},
     "output_type": "execute_result"
    }
   ],
   "source": [
    "frb_coord = SkyCoord('05h31m58.7013s +33d08m52.5536s', frame='icrs')\n",
    "frb_coord"
   ]
  },
  {
   "cell_type": "code",
   "execution_count": 3,
   "metadata": {},
   "outputs": [],
   "source": [
    "eellipse = dict(a=0.1, b=0.1, theta=0.)"
   ]
  },
  {
   "cell_type": "markdown",
   "metadata": {},
   "source": [
    "# Galaxies"
   ]
  },
  {
   "cell_type": "code",
   "execution_count": 4,
   "metadata": {},
   "outputs": [],
   "source": [
    "cand_file = os.path.join(resource_filename('astropath', 'data'), 'frb_example', 'frb121102_candidates.csv')"
   ]
  },
  {
   "cell_type": "code",
   "execution_count": 5,
   "metadata": {},
   "outputs": [
    {
     "data": {
      "text/html": [
       "<div>\n",
       "<style scoped>\n",
       "    .dataframe tbody tr th:only-of-type {\n",
       "        vertical-align: middle;\n",
       "    }\n",
       "\n",
       "    .dataframe tbody tr th {\n",
       "        vertical-align: top;\n",
       "    }\n",
       "\n",
       "    .dataframe thead th {\n",
       "        text-align: right;\n",
       "    }\n",
       "</style>\n",
       "<table border=\"1\" class=\"dataframe\">\n",
       "  <thead>\n",
       "    <tr style=\"text-align: right;\">\n",
       "      <th></th>\n",
       "      <th>ra</th>\n",
       "      <th>dec</th>\n",
       "      <th>half_light</th>\n",
       "      <th>GMOS_N_i</th>\n",
       "    </tr>\n",
       "  </thead>\n",
       "  <tbody>\n",
       "    <tr>\n",
       "      <th>3</th>\n",
       "      <td>82.991765</td>\n",
       "      <td>33.146968</td>\n",
       "      <td>0.254012</td>\n",
       "      <td>23.529823</td>\n",
       "    </tr>\n",
       "    <tr>\n",
       "      <th>4</th>\n",
       "      <td>82.992292</td>\n",
       "      <td>33.146890</td>\n",
       "      <td>0.277451</td>\n",
       "      <td>21.584045</td>\n",
       "    </tr>\n",
       "    <tr>\n",
       "      <th>6</th>\n",
       "      <td>82.993687</td>\n",
       "      <td>33.145270</td>\n",
       "      <td>0.307746</td>\n",
       "      <td>20.190046</td>\n",
       "    </tr>\n",
       "    <tr>\n",
       "      <th>7</th>\n",
       "      <td>82.993496</td>\n",
       "      <td>33.147349</td>\n",
       "      <td>0.229700</td>\n",
       "      <td>24.180188</td>\n",
       "    </tr>\n",
       "    <tr>\n",
       "      <th>8</th>\n",
       "      <td>82.993928</td>\n",
       "      <td>33.149159</td>\n",
       "      <td>0.132098</td>\n",
       "      <td>25.062593</td>\n",
       "    </tr>\n",
       "  </tbody>\n",
       "</table>\n",
       "</div>"
      ],
      "text/plain": [
       "          ra        dec  half_light   GMOS_N_i\n",
       "3  82.991765  33.146968    0.254012  23.529823\n",
       "4  82.992292  33.146890    0.277451  21.584045\n",
       "6  82.993687  33.145270    0.307746  20.190046\n",
       "7  82.993496  33.147349    0.229700  24.180188\n",
       "8  82.993928  33.149159    0.132098  25.062593"
      ]
     },
     "execution_count": 5,
     "metadata": {},
     "output_type": "execute_result"
    }
   ],
   "source": [
    "candidates = pandas.read_csv(cand_file, index_col=0)\n",
    "candidates.head()"
   ]
  },
  {
   "cell_type": "code",
   "execution_count": 6,
   "metadata": {},
   "outputs": [
    {
     "data": {
      "text/plain": [
       "<SkyCoord (ICRS): (ra, dec) in deg\n",
       "    [(82.99176537, 33.14696783), (82.99229246, 33.14688994),\n",
       "     (82.99368705, 33.14526968), (82.99349587, 33.14734905),\n",
       "     (82.9939283 , 33.14915907), (82.99423121, 33.14718576),\n",
       "     (82.9945254 , 33.14791209), (82.99484463, 33.15027849),\n",
       "     (82.996021  , 33.14846041), (82.99680541, 33.14898092)]>"
      ]
     },
     "execution_count": 6,
     "metadata": {},
     "output_type": "execute_result"
    }
   ],
   "source": [
    "c_coords = SkyCoord(ra=candidates.ra, dec=candidates.dec, unit='deg')\n",
    "c_coords"
   ]
  },
  {
   "cell_type": "code",
   "execution_count": 7,
   "metadata": {},
   "outputs": [],
   "source": [
    "candidates['sep'] = frb_coord.separation(c_coords).to('arcsec').value"
   ]
  },
  {
   "cell_type": "markdown",
   "metadata": {},
   "source": [
    "# Priors"
   ]
  },
  {
   "cell_type": "markdown",
   "metadata": {},
   "source": [
    "## Guiding dict"
   ]
  },
  {
   "cell_type": "code",
   "execution_count": 8,
   "metadata": {},
   "outputs": [],
   "source": [
    "offset_prior = dict(method='uniform', \n",
    "                    max=6.,\n",
    "                   ang_size=candidates.half_light.values)\n",
    "priors = dict(offset=offset_prior, \n",
    "              O='identical', \n",
    "              U=0.10, \n",
    "              name='Conservative')\n",
    "box_radius = 30. # arcsec"
   ]
  },
  {
   "cell_type": "markdown",
   "metadata": {},
   "source": [
    "## Raw"
   ]
  },
  {
   "cell_type": "code",
   "execution_count": 9,
   "metadata": {},
   "outputs": [],
   "source": [
    "# Raw priors\n",
    "raw_prior_Oi = bayesian.raw_prior_Oi(priors['O'], \n",
    "                                     candidates.GMOS_N_i.values, \n",
    "                                     half_light=candidates.half_light.values)"
   ]
  },
  {
   "cell_type": "code",
   "execution_count": 10,
   "metadata": {},
   "outputs": [
    {
     "data": {
      "text/html": [
       "<div>\n",
       "<style scoped>\n",
       "    .dataframe tbody tr th:only-of-type {\n",
       "        vertical-align: middle;\n",
       "    }\n",
       "\n",
       "    .dataframe tbody tr th {\n",
       "        vertical-align: top;\n",
       "    }\n",
       "\n",
       "    .dataframe thead th {\n",
       "        text-align: right;\n",
       "    }\n",
       "</style>\n",
       "<table border=\"1\" class=\"dataframe\">\n",
       "  <thead>\n",
       "    <tr style=\"text-align: right;\">\n",
       "      <th></th>\n",
       "      <th>ra</th>\n",
       "      <th>dec</th>\n",
       "      <th>half_light</th>\n",
       "      <th>GMOS_N_i</th>\n",
       "      <th>sep</th>\n",
       "      <th>P_O_raw</th>\n",
       "    </tr>\n",
       "  </thead>\n",
       "  <tbody>\n",
       "    <tr>\n",
       "      <th>3</th>\n",
       "      <td>82.991765</td>\n",
       "      <td>33.146968</td>\n",
       "      <td>0.254012</td>\n",
       "      <td>23.529823</td>\n",
       "      <td>9.190131</td>\n",
       "      <td>1.0</td>\n",
       "    </tr>\n",
       "    <tr>\n",
       "      <th>4</th>\n",
       "      <td>82.992292</td>\n",
       "      <td>33.146890</td>\n",
       "      <td>0.277451</td>\n",
       "      <td>21.584045</td>\n",
       "      <td>7.871884</td>\n",
       "      <td>1.0</td>\n",
       "    </tr>\n",
       "    <tr>\n",
       "      <th>6</th>\n",
       "      <td>82.993687</td>\n",
       "      <td>33.145270</td>\n",
       "      <td>0.307746</td>\n",
       "      <td>20.190046</td>\n",
       "      <td>9.960715</td>\n",
       "      <td>1.0</td>\n",
       "    </tr>\n",
       "    <tr>\n",
       "      <th>7</th>\n",
       "      <td>82.993496</td>\n",
       "      <td>33.147349</td>\n",
       "      <td>0.229700</td>\n",
       "      <td>24.180188</td>\n",
       "      <td>3.904953</td>\n",
       "      <td>1.0</td>\n",
       "    </tr>\n",
       "    <tr>\n",
       "      <th>8</th>\n",
       "      <td>82.993928</td>\n",
       "      <td>33.149159</td>\n",
       "      <td>0.132098</td>\n",
       "      <td>25.062593</td>\n",
       "      <td>4.846743</td>\n",
       "      <td>1.0</td>\n",
       "    </tr>\n",
       "    <tr>\n",
       "      <th>9</th>\n",
       "      <td>82.994231</td>\n",
       "      <td>33.147186</td>\n",
       "      <td>0.279821</td>\n",
       "      <td>21.139298</td>\n",
       "      <td>2.893068</td>\n",
       "      <td>1.0</td>\n",
       "    </tr>\n",
       "    <tr>\n",
       "      <th>10</th>\n",
       "      <td>82.994525</td>\n",
       "      <td>33.147912</td>\n",
       "      <td>0.282400</td>\n",
       "      <td>23.516754</td>\n",
       "      <td>0.203389</td>\n",
       "      <td>1.0</td>\n",
       "    </tr>\n",
       "    <tr>\n",
       "      <th>11</th>\n",
       "      <td>82.994845</td>\n",
       "      <td>33.150278</td>\n",
       "      <td>0.147827</td>\n",
       "      <td>24.954572</td>\n",
       "      <td>8.484102</td>\n",
       "      <td>1.0</td>\n",
       "    </tr>\n",
       "    <tr>\n",
       "      <th>12</th>\n",
       "      <td>82.996021</td>\n",
       "      <td>33.148460</td>\n",
       "      <td>0.254041</td>\n",
       "      <td>23.278666</td>\n",
       "      <td>4.718179</td>\n",
       "      <td>1.0</td>\n",
       "    </tr>\n",
       "    <tr>\n",
       "      <th>14</th>\n",
       "      <td>82.996805</td>\n",
       "      <td>33.148981</td>\n",
       "      <td>0.240684</td>\n",
       "      <td>22.907361</td>\n",
       "      <td>7.675323</td>\n",
       "      <td>1.0</td>\n",
       "    </tr>\n",
       "  </tbody>\n",
       "</table>\n",
       "</div>"
      ],
      "text/plain": [
       "           ra        dec  half_light   GMOS_N_i       sep  P_O_raw\n",
       "3   82.991765  33.146968    0.254012  23.529823  9.190131      1.0\n",
       "4   82.992292  33.146890    0.277451  21.584045  7.871884      1.0\n",
       "6   82.993687  33.145270    0.307746  20.190046  9.960715      1.0\n",
       "7   82.993496  33.147349    0.229700  24.180188  3.904953      1.0\n",
       "8   82.993928  33.149159    0.132098  25.062593  4.846743      1.0\n",
       "9   82.994231  33.147186    0.279821  21.139298  2.893068      1.0\n",
       "10  82.994525  33.147912    0.282400  23.516754  0.203389      1.0\n",
       "11  82.994845  33.150278    0.147827  24.954572  8.484102      1.0\n",
       "12  82.996021  33.148460    0.254041  23.278666  4.718179      1.0\n",
       "14  82.996805  33.148981    0.240684  22.907361  7.675323      1.0"
      ]
     },
     "execution_count": 10,
     "metadata": {},
     "output_type": "execute_result"
    }
   ],
   "source": [
    "candidates['P_O_raw'] = raw_prior_Oi\n",
    "candidates"
   ]
  },
  {
   "cell_type": "markdown",
   "metadata": {},
   "source": [
    "## Normalize -- With $P(U) = 0.10$"
   ]
  },
  {
   "cell_type": "code",
   "execution_count": 11,
   "metadata": {},
   "outputs": [
    {
     "data": {
      "text/html": [
       "<div>\n",
       "<style scoped>\n",
       "    .dataframe tbody tr th:only-of-type {\n",
       "        vertical-align: middle;\n",
       "    }\n",
       "\n",
       "    .dataframe tbody tr th {\n",
       "        vertical-align: top;\n",
       "    }\n",
       "\n",
       "    .dataframe thead th {\n",
       "        text-align: right;\n",
       "    }\n",
       "</style>\n",
       "<table border=\"1\" class=\"dataframe\">\n",
       "  <thead>\n",
       "    <tr style=\"text-align: right;\">\n",
       "      <th></th>\n",
       "      <th>ra</th>\n",
       "      <th>dec</th>\n",
       "      <th>half_light</th>\n",
       "      <th>GMOS_N_i</th>\n",
       "      <th>sep</th>\n",
       "      <th>P_O_raw</th>\n",
       "      <th>P_O</th>\n",
       "    </tr>\n",
       "  </thead>\n",
       "  <tbody>\n",
       "    <tr>\n",
       "      <th>3</th>\n",
       "      <td>82.991765</td>\n",
       "      <td>33.146968</td>\n",
       "      <td>0.254012</td>\n",
       "      <td>23.529823</td>\n",
       "      <td>9.190131</td>\n",
       "      <td>1.0</td>\n",
       "      <td>0.09</td>\n",
       "    </tr>\n",
       "    <tr>\n",
       "      <th>4</th>\n",
       "      <td>82.992292</td>\n",
       "      <td>33.146890</td>\n",
       "      <td>0.277451</td>\n",
       "      <td>21.584045</td>\n",
       "      <td>7.871884</td>\n",
       "      <td>1.0</td>\n",
       "      <td>0.09</td>\n",
       "    </tr>\n",
       "    <tr>\n",
       "      <th>6</th>\n",
       "      <td>82.993687</td>\n",
       "      <td>33.145270</td>\n",
       "      <td>0.307746</td>\n",
       "      <td>20.190046</td>\n",
       "      <td>9.960715</td>\n",
       "      <td>1.0</td>\n",
       "      <td>0.09</td>\n",
       "    </tr>\n",
       "    <tr>\n",
       "      <th>7</th>\n",
       "      <td>82.993496</td>\n",
       "      <td>33.147349</td>\n",
       "      <td>0.229700</td>\n",
       "      <td>24.180188</td>\n",
       "      <td>3.904953</td>\n",
       "      <td>1.0</td>\n",
       "      <td>0.09</td>\n",
       "    </tr>\n",
       "    <tr>\n",
       "      <th>8</th>\n",
       "      <td>82.993928</td>\n",
       "      <td>33.149159</td>\n",
       "      <td>0.132098</td>\n",
       "      <td>25.062593</td>\n",
       "      <td>4.846743</td>\n",
       "      <td>1.0</td>\n",
       "      <td>0.09</td>\n",
       "    </tr>\n",
       "    <tr>\n",
       "      <th>9</th>\n",
       "      <td>82.994231</td>\n",
       "      <td>33.147186</td>\n",
       "      <td>0.279821</td>\n",
       "      <td>21.139298</td>\n",
       "      <td>2.893068</td>\n",
       "      <td>1.0</td>\n",
       "      <td>0.09</td>\n",
       "    </tr>\n",
       "    <tr>\n",
       "      <th>10</th>\n",
       "      <td>82.994525</td>\n",
       "      <td>33.147912</td>\n",
       "      <td>0.282400</td>\n",
       "      <td>23.516754</td>\n",
       "      <td>0.203389</td>\n",
       "      <td>1.0</td>\n",
       "      <td>0.09</td>\n",
       "    </tr>\n",
       "    <tr>\n",
       "      <th>11</th>\n",
       "      <td>82.994845</td>\n",
       "      <td>33.150278</td>\n",
       "      <td>0.147827</td>\n",
       "      <td>24.954572</td>\n",
       "      <td>8.484102</td>\n",
       "      <td>1.0</td>\n",
       "      <td>0.09</td>\n",
       "    </tr>\n",
       "    <tr>\n",
       "      <th>12</th>\n",
       "      <td>82.996021</td>\n",
       "      <td>33.148460</td>\n",
       "      <td>0.254041</td>\n",
       "      <td>23.278666</td>\n",
       "      <td>4.718179</td>\n",
       "      <td>1.0</td>\n",
       "      <td>0.09</td>\n",
       "    </tr>\n",
       "    <tr>\n",
       "      <th>14</th>\n",
       "      <td>82.996805</td>\n",
       "      <td>33.148981</td>\n",
       "      <td>0.240684</td>\n",
       "      <td>22.907361</td>\n",
       "      <td>7.675323</td>\n",
       "      <td>1.0</td>\n",
       "      <td>0.09</td>\n",
       "    </tr>\n",
       "  </tbody>\n",
       "</table>\n",
       "</div>"
      ],
      "text/plain": [
       "           ra        dec  half_light   GMOS_N_i       sep  P_O_raw   P_O\n",
       "3   82.991765  33.146968    0.254012  23.529823  9.190131      1.0  0.09\n",
       "4   82.992292  33.146890    0.277451  21.584045  7.871884      1.0  0.09\n",
       "6   82.993687  33.145270    0.307746  20.190046  9.960715      1.0  0.09\n",
       "7   82.993496  33.147349    0.229700  24.180188  3.904953      1.0  0.09\n",
       "8   82.993928  33.149159    0.132098  25.062593  4.846743      1.0  0.09\n",
       "9   82.994231  33.147186    0.279821  21.139298  2.893068      1.0  0.09\n",
       "10  82.994525  33.147912    0.282400  23.516754  0.203389      1.0  0.09\n",
       "11  82.994845  33.150278    0.147827  24.954572  8.484102      1.0  0.09\n",
       "12  82.996021  33.148460    0.254041  23.278666  4.718179      1.0  0.09\n",
       "14  82.996805  33.148981    0.240684  22.907361  7.675323      1.0  0.09"
      ]
     },
     "execution_count": 11,
     "metadata": {},
     "output_type": "execute_result"
    }
   ],
   "source": [
    "candidates['P_O'] = bayesian.renorm_priors(candidates.P_O_raw.values, priors['U'])\n",
    "candidates"
   ]
  },
  {
   "cell_type": "code",
   "execution_count": 12,
   "metadata": {},
   "outputs": [
    {
     "data": {
      "text/plain": [
       "0.8999999999999999"
      ]
     },
     "execution_count": 12,
     "metadata": {},
     "output_type": "execute_result"
    }
   ],
   "source": [
    "np.sum(candidates.P_O)"
   ]
  },
  {
   "cell_type": "markdown",
   "metadata": {},
   "source": [
    "# $p(x)$"
   ]
  },
  {
   "cell_type": "markdown",
   "metadata": {},
   "source": [
    "## $p(x|O)$"
   ]
  },
  {
   "cell_type": "code",
   "execution_count": 13,
   "metadata": {},
   "outputs": [
    {
     "data": {
      "text/plain": [
       "array([0.00000000e+000, 0.00000000e+000, 0.00000000e+000, 4.40181892e-140,\n",
       "       0.00000000e+000, 5.72035937e-033, 5.88213788e+001, 0.00000000e+000,\n",
       "       2.35854039e-223, 0.00000000e+000])"
      ]
     },
     "execution_count": 13,
     "metadata": {},
     "output_type": "execute_result"
    }
   ],
   "source": [
    "p_xOi = bayesian.px_Oi(box_radius,  # box radius for grid, in arcsec\n",
    "                       frb_coord,\n",
    "                       eellipse,\n",
    "                       c_coords,\n",
    "                       priors['offset'])\n",
    "p_xOi"
   ]
  },
  {
   "cell_type": "code",
   "execution_count": 14,
   "metadata": {},
   "outputs": [],
   "source": [
    "candidates['p_xO'] = p_xOi"
   ]
  },
  {
   "cell_type": "markdown",
   "metadata": {},
   "source": [
    "## $p(x|U)$"
   ]
  },
  {
   "cell_type": "code",
   "execution_count": 15,
   "metadata": {},
   "outputs": [
    {
     "data": {
      "text/plain": [
       "940454.7440720972"
      ]
     },
     "execution_count": 15,
     "metadata": {},
     "output_type": "execute_result"
    }
   ],
   "source": [
    "reload(bayesian)\n",
    "p_xU = bayesian.px_U(box_radius)\n",
    "p_xU"
   ]
  },
  {
   "cell_type": "code",
   "execution_count": 21,
   "metadata": {},
   "outputs": [
    {
     "data": {
      "text/plain": [
       "94050.76833129757"
      ]
     },
     "execution_count": 21,
     "metadata": {},
     "output_type": "execute_result"
    }
   ],
   "source": [
    "p_x = np.sum(candidates.P_O * candidates.p_xO) + p_xU*priors['U']\n",
    "p_x"
   ]
  },
  {
   "cell_type": "markdown",
   "metadata": {},
   "source": [
    "# Posteriors"
   ]
  },
  {
   "cell_type": "markdown",
   "metadata": {},
   "source": [
    "## Observed"
   ]
  },
  {
   "cell_type": "code",
   "execution_count": 22,
   "metadata": {},
   "outputs": [],
   "source": [
    "P_Oix = candidates.P_O * p_xOi / p_x\n",
    "candidates['P_Ox'] = P_Oix"
   ]
  },
  {
   "cell_type": "code",
   "execution_count": 23,
   "metadata": {},
   "outputs": [
    {
     "data": {
      "text/html": [
       "<div>\n",
       "<style scoped>\n",
       "    .dataframe tbody tr th:only-of-type {\n",
       "        vertical-align: middle;\n",
       "    }\n",
       "\n",
       "    .dataframe tbody tr th {\n",
       "        vertical-align: top;\n",
       "    }\n",
       "\n",
       "    .dataframe thead th {\n",
       "        text-align: right;\n",
       "    }\n",
       "</style>\n",
       "<table border=\"1\" class=\"dataframe\">\n",
       "  <thead>\n",
       "    <tr style=\"text-align: right;\">\n",
       "      <th></th>\n",
       "      <th>ra</th>\n",
       "      <th>dec</th>\n",
       "      <th>half_light</th>\n",
       "      <th>GMOS_N_i</th>\n",
       "      <th>sep</th>\n",
       "      <th>P_O_raw</th>\n",
       "      <th>P_O</th>\n",
       "      <th>p_xO</th>\n",
       "      <th>P_Ox</th>\n",
       "    </tr>\n",
       "  </thead>\n",
       "  <tbody>\n",
       "    <tr>\n",
       "      <th>3</th>\n",
       "      <td>82.991765</td>\n",
       "      <td>33.146968</td>\n",
       "      <td>0.254012</td>\n",
       "      <td>23.529823</td>\n",
       "      <td>9.190131</td>\n",
       "      <td>1.0</td>\n",
       "      <td>0.09</td>\n",
       "      <td>0.000000e+00</td>\n",
       "      <td>0.000000e+00</td>\n",
       "    </tr>\n",
       "    <tr>\n",
       "      <th>4</th>\n",
       "      <td>82.992292</td>\n",
       "      <td>33.146890</td>\n",
       "      <td>0.277451</td>\n",
       "      <td>21.584045</td>\n",
       "      <td>7.871884</td>\n",
       "      <td>1.0</td>\n",
       "      <td>0.09</td>\n",
       "      <td>0.000000e+00</td>\n",
       "      <td>0.000000e+00</td>\n",
       "    </tr>\n",
       "    <tr>\n",
       "      <th>6</th>\n",
       "      <td>82.993687</td>\n",
       "      <td>33.145270</td>\n",
       "      <td>0.307746</td>\n",
       "      <td>20.190046</td>\n",
       "      <td>9.960715</td>\n",
       "      <td>1.0</td>\n",
       "      <td>0.09</td>\n",
       "      <td>0.000000e+00</td>\n",
       "      <td>0.000000e+00</td>\n",
       "    </tr>\n",
       "    <tr>\n",
       "      <th>7</th>\n",
       "      <td>82.993496</td>\n",
       "      <td>33.147349</td>\n",
       "      <td>0.229700</td>\n",
       "      <td>24.180188</td>\n",
       "      <td>3.904953</td>\n",
       "      <td>1.0</td>\n",
       "      <td>0.09</td>\n",
       "      <td>4.401819e-140</td>\n",
       "      <td>4.212233e-146</td>\n",
       "    </tr>\n",
       "    <tr>\n",
       "      <th>8</th>\n",
       "      <td>82.993928</td>\n",
       "      <td>33.149159</td>\n",
       "      <td>0.132098</td>\n",
       "      <td>25.062593</td>\n",
       "      <td>4.846743</td>\n",
       "      <td>1.0</td>\n",
       "      <td>0.09</td>\n",
       "      <td>0.000000e+00</td>\n",
       "      <td>0.000000e+00</td>\n",
       "    </tr>\n",
       "    <tr>\n",
       "      <th>9</th>\n",
       "      <td>82.994231</td>\n",
       "      <td>33.147186</td>\n",
       "      <td>0.279821</td>\n",
       "      <td>21.139298</td>\n",
       "      <td>2.893068</td>\n",
       "      <td>1.0</td>\n",
       "      <td>0.09</td>\n",
       "      <td>5.720359e-33</td>\n",
       "      <td>5.473983e-39</td>\n",
       "    </tr>\n",
       "    <tr>\n",
       "      <th>10</th>\n",
       "      <td>82.994525</td>\n",
       "      <td>33.147912</td>\n",
       "      <td>0.282400</td>\n",
       "      <td>23.516754</td>\n",
       "      <td>0.203389</td>\n",
       "      <td>1.0</td>\n",
       "      <td>0.09</td>\n",
       "      <td>5.882138e+01</td>\n",
       "      <td>5.628794e-05</td>\n",
       "    </tr>\n",
       "    <tr>\n",
       "      <th>11</th>\n",
       "      <td>82.994845</td>\n",
       "      <td>33.150278</td>\n",
       "      <td>0.147827</td>\n",
       "      <td>24.954572</td>\n",
       "      <td>8.484102</td>\n",
       "      <td>1.0</td>\n",
       "      <td>0.09</td>\n",
       "      <td>0.000000e+00</td>\n",
       "      <td>0.000000e+00</td>\n",
       "    </tr>\n",
       "    <tr>\n",
       "      <th>12</th>\n",
       "      <td>82.996021</td>\n",
       "      <td>33.148460</td>\n",
       "      <td>0.254041</td>\n",
       "      <td>23.278666</td>\n",
       "      <td>4.718179</td>\n",
       "      <td>1.0</td>\n",
       "      <td>0.09</td>\n",
       "      <td>2.358540e-223</td>\n",
       "      <td>2.256958e-229</td>\n",
       "    </tr>\n",
       "    <tr>\n",
       "      <th>14</th>\n",
       "      <td>82.996805</td>\n",
       "      <td>33.148981</td>\n",
       "      <td>0.240684</td>\n",
       "      <td>22.907361</td>\n",
       "      <td>7.675323</td>\n",
       "      <td>1.0</td>\n",
       "      <td>0.09</td>\n",
       "      <td>0.000000e+00</td>\n",
       "      <td>0.000000e+00</td>\n",
       "    </tr>\n",
       "  </tbody>\n",
       "</table>\n",
       "</div>"
      ],
      "text/plain": [
       "           ra        dec  half_light   GMOS_N_i       sep  P_O_raw   P_O  \\\n",
       "3   82.991765  33.146968    0.254012  23.529823  9.190131      1.0  0.09   \n",
       "4   82.992292  33.146890    0.277451  21.584045  7.871884      1.0  0.09   \n",
       "6   82.993687  33.145270    0.307746  20.190046  9.960715      1.0  0.09   \n",
       "7   82.993496  33.147349    0.229700  24.180188  3.904953      1.0  0.09   \n",
       "8   82.993928  33.149159    0.132098  25.062593  4.846743      1.0  0.09   \n",
       "9   82.994231  33.147186    0.279821  21.139298  2.893068      1.0  0.09   \n",
       "10  82.994525  33.147912    0.282400  23.516754  0.203389      1.0  0.09   \n",
       "11  82.994845  33.150278    0.147827  24.954572  8.484102      1.0  0.09   \n",
       "12  82.996021  33.148460    0.254041  23.278666  4.718179      1.0  0.09   \n",
       "14  82.996805  33.148981    0.240684  22.907361  7.675323      1.0  0.09   \n",
       "\n",
       "             p_xO           P_Ox  \n",
       "3    0.000000e+00   0.000000e+00  \n",
       "4    0.000000e+00   0.000000e+00  \n",
       "6    0.000000e+00   0.000000e+00  \n",
       "7   4.401819e-140  4.212233e-146  \n",
       "8    0.000000e+00   0.000000e+00  \n",
       "9    5.720359e-33   5.473983e-39  \n",
       "10   5.882138e+01   5.628794e-05  \n",
       "11   0.000000e+00   0.000000e+00  \n",
       "12  2.358540e-223  2.256958e-229  \n",
       "14   0.000000e+00   0.000000e+00  "
      ]
     },
     "execution_count": 23,
     "metadata": {},
     "output_type": "execute_result"
    }
   ],
   "source": [
    "candidates"
   ]
  },
  {
   "cell_type": "markdown",
   "metadata": {},
   "source": [
    "## Unseen"
   ]
  },
  {
   "cell_type": "code",
   "execution_count": 24,
   "metadata": {},
   "outputs": [
    {
     "data": {
      "text/plain": [
       "0.9999437120591168"
      ]
     },
     "execution_count": 24,
     "metadata": {},
     "output_type": "execute_result"
    }
   ],
   "source": [
    "P_Ux = priors['U'] * p_xU / p_x\n",
    "P_Ux"
   ]
  },
  {
   "cell_type": "markdown",
   "metadata": {},
   "source": [
    "----"
   ]
  },
  {
   "cell_type": "code",
   "execution_count": 20,
   "metadata": {},
   "outputs": [
    {
     "data": {
      "text/plain": [
       "41252.96124941928"
      ]
     },
     "execution_count": 20,
     "metadata": {},
     "output_type": "execute_result"
    }
   ],
   "source": [
    "np.pi * 4 * (180./np.pi)**2"
   ]
  },
  {
   "cell_type": "code",
   "execution_count": null,
   "metadata": {},
   "outputs": [],
   "source": []
  }
 ],
 "metadata": {
  "kernelspec": {
   "display_name": "Python 3",
   "language": "python",
   "name": "python3"
  },
  "language_info": {
   "codemirror_mode": {
    "name": "ipython",
    "version": 3
   },
   "file_extension": ".py",
   "mimetype": "text/x-python",
   "name": "python",
   "nbconvert_exporter": "python",
   "pygments_lexer": "ipython3",
   "version": "3.7.8"
  }
 },
 "nbformat": 4,
 "nbformat_minor": 4
}
