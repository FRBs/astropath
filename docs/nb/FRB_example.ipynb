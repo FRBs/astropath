{
 "cells": [
  {
   "cell_type": "markdown",
   "metadata": {},
   "source": [
    "# FRB example"
   ]
  },
  {
   "cell_type": "code",
   "execution_count": 16,
   "metadata": {},
   "outputs": [],
   "source": [
    "# imports\n",
    "from importlib import reload\n",
    "import os\n",
    "from pkg_resources import resource_filename\n",
    "\n",
    "import numpy as np\n",
    "\n",
    "import pandas\n",
    "\n",
    "from astropy.coordinates import SkyCoord\n",
    "#from astropy.io import fits\n",
    "\n",
    "from astropath import bayesian\n",
    "from astropath import localization"
   ]
  },
  {
   "cell_type": "markdown",
   "metadata": {},
   "source": [
    "# Dummy FRB (based on 180924)"
   ]
  },
  {
   "cell_type": "markdown",
   "metadata": {},
   "source": [
    "## Coord"
   ]
  },
  {
   "cell_type": "code",
   "execution_count": 2,
   "metadata": {},
   "outputs": [
    {
     "data": {
      "text/plain": [
       "<SkyCoord (ICRS): (ra, dec) in deg\n",
       "    (326.10522917, -40.90002778)>"
      ]
     },
     "execution_count": 2,
     "metadata": {},
     "output_type": "execute_result"
    }
   ],
   "source": [
    "frb_coord = SkyCoord('21h44m25.255s -40d54m00.10s', frame='icrs')\n",
    "frb_coord"
   ]
  },
  {
   "cell_type": "markdown",
   "metadata": {},
   "source": [
    "## Error ellipse"
   ]
  },
  {
   "cell_type": "code",
   "execution_count": 34,
   "metadata": {},
   "outputs": [],
   "source": [
    "#eellipse = dict(a=0.3, b=0.1, theta=45.)\n",
    "eellipse = dict(a=0.1, b=0.1, theta=0.)"
   ]
  },
  {
   "cell_type": "markdown",
   "metadata": {},
   "source": [
    "## Localization dict\n",
    "\n",
    "### See astropath/localization.py for the Data model"
   ]
  },
  {
   "cell_type": "code",
   "execution_count": 35,
   "metadata": {},
   "outputs": [],
   "source": [
    "localiz = dict(type='eellipse', frb_coord=frb_coord, frb_eellipse=eellipse)"
   ]
  },
  {
   "cell_type": "code",
   "execution_count": 28,
   "metadata": {},
   "outputs": [],
   "source": [
    "assert localization.vette_localization(localiz)"
   ]
  },
  {
   "cell_type": "markdown",
   "metadata": {},
   "source": [
    "# Candidates"
   ]
  },
  {
   "cell_type": "markdown",
   "metadata": {},
   "source": [
    "## Load"
   ]
  },
  {
   "cell_type": "code",
   "execution_count": 7,
   "metadata": {},
   "outputs": [],
   "source": [
    "cand_file = os.path.join(resource_filename('astropath', 'data'), 'frb_example', 'frb180924_candidates.csv')"
   ]
  },
  {
   "cell_type": "code",
   "execution_count": 8,
   "metadata": {},
   "outputs": [
    {
     "data": {
      "text/html": [
       "<div>\n",
       "<style scoped>\n",
       "    .dataframe tbody tr th:only-of-type {\n",
       "        vertical-align: middle;\n",
       "    }\n",
       "\n",
       "    .dataframe tbody tr th {\n",
       "        vertical-align: top;\n",
       "    }\n",
       "\n",
       "    .dataframe thead th {\n",
       "        text-align: right;\n",
       "    }\n",
       "</style>\n",
       "<table border=\"1\" class=\"dataframe\">\n",
       "  <thead>\n",
       "    <tr style=\"text-align: right;\">\n",
       "      <th></th>\n",
       "      <th>ra</th>\n",
       "      <th>dec</th>\n",
       "      <th>half_light</th>\n",
       "      <th>VLT_FORS2_g</th>\n",
       "    </tr>\n",
       "  </thead>\n",
       "  <tbody>\n",
       "    <tr>\n",
       "      <th>3</th>\n",
       "      <td>326.101738</td>\n",
       "      <td>-40.899771</td>\n",
       "      <td>0.458869</td>\n",
       "      <td>25.295416</td>\n",
       "    </tr>\n",
       "    <tr>\n",
       "      <th>7</th>\n",
       "      <td>326.105365</td>\n",
       "      <td>-40.900239</td>\n",
       "      <td>1.308629</td>\n",
       "      <td>21.319569</td>\n",
       "    </tr>\n",
       "    <tr>\n",
       "      <th>8</th>\n",
       "      <td>326.104186</td>\n",
       "      <td>-40.900180</td>\n",
       "      <td>0.814683</td>\n",
       "      <td>24.272838</td>\n",
       "    </tr>\n",
       "    <tr>\n",
       "      <th>9</th>\n",
       "      <td>326.106237</td>\n",
       "      <td>-40.899279</td>\n",
       "      <td>0.501247</td>\n",
       "      <td>25.474828</td>\n",
       "    </tr>\n",
       "  </tbody>\n",
       "</table>\n",
       "</div>"
      ],
      "text/plain": [
       "           ra        dec  half_light  VLT_FORS2_g\n",
       "3  326.101738 -40.899771    0.458869    25.295416\n",
       "7  326.105365 -40.900239    1.308629    21.319569\n",
       "8  326.104186 -40.900180    0.814683    24.272838\n",
       "9  326.106237 -40.899279    0.501247    25.474828"
      ]
     },
     "execution_count": 8,
     "metadata": {},
     "output_type": "execute_result"
    }
   ],
   "source": [
    "candidates = pandas.read_csv(cand_file, index_col=0)\n",
    "candidates.head()"
   ]
  },
  {
   "cell_type": "markdown",
   "metadata": {},
   "source": [
    "## Coords"
   ]
  },
  {
   "cell_type": "code",
   "execution_count": 9,
   "metadata": {},
   "outputs": [
    {
     "data": {
      "text/plain": [
       "<SkyCoord (ICRS): (ra, dec) in deg\n",
       "    [(326.1017384 , -40.89977098), (326.10536507, -40.90023897),\n",
       "     (326.10418611, -40.90018023), (326.10623701, -40.8992786 )]>"
      ]
     },
     "execution_count": 9,
     "metadata": {},
     "output_type": "execute_result"
    }
   ],
   "source": [
    "c_coords = SkyCoord(ra=candidates.ra, dec=candidates.dec, unit='deg')\n",
    "c_coords"
   ]
  },
  {
   "cell_type": "markdown",
   "metadata": {},
   "source": [
    "# Priors"
   ]
  },
  {
   "cell_type": "markdown",
   "metadata": {},
   "source": [
    "## Guiding dict"
   ]
  },
  {
   "cell_type": "code",
   "execution_count": 10,
   "metadata": {},
   "outputs": [],
   "source": [
    "offset_prior = dict(method='exp', \n",
    "                    max=6.,\n",
    "                   ang_size=candidates.half_light.values)\n",
    "priors = dict(offset=offset_prior, \n",
    "              O='inverse', \n",
    "              U=0., \n",
    "              name='Adopted')"
   ]
  },
  {
   "cell_type": "markdown",
   "metadata": {},
   "source": [
    "## Calculate raw"
   ]
  },
  {
   "cell_type": "code",
   "execution_count": 11,
   "metadata": {},
   "outputs": [],
   "source": [
    "# Raw priors\n",
    "raw_prior_Oi = bayesian.raw_prior_Oi(priors['O'], \n",
    "                                     candidates.VLT_FORS2_g.values, \n",
    "                                     half_light=candidates.half_light.values)"
   ]
  },
  {
   "cell_type": "code",
   "execution_count": 12,
   "metadata": {},
   "outputs": [
    {
     "data": {
      "text/html": [
       "<div>\n",
       "<style scoped>\n",
       "    .dataframe tbody tr th:only-of-type {\n",
       "        vertical-align: middle;\n",
       "    }\n",
       "\n",
       "    .dataframe tbody tr th {\n",
       "        vertical-align: top;\n",
       "    }\n",
       "\n",
       "    .dataframe thead th {\n",
       "        text-align: right;\n",
       "    }\n",
       "</style>\n",
       "<table border=\"1\" class=\"dataframe\">\n",
       "  <thead>\n",
       "    <tr style=\"text-align: right;\">\n",
       "      <th></th>\n",
       "      <th>ra</th>\n",
       "      <th>dec</th>\n",
       "      <th>half_light</th>\n",
       "      <th>VLT_FORS2_g</th>\n",
       "      <th>P_O_raw</th>\n",
       "    </tr>\n",
       "  </thead>\n",
       "  <tbody>\n",
       "    <tr>\n",
       "      <th>3</th>\n",
       "      <td>326.101738</td>\n",
       "      <td>-40.899771</td>\n",
       "      <td>0.458869</td>\n",
       "      <td>25.295416</td>\n",
       "      <td>73.150261</td>\n",
       "    </tr>\n",
       "    <tr>\n",
       "      <th>7</th>\n",
       "      <td>326.105365</td>\n",
       "      <td>-40.900239</td>\n",
       "      <td>1.308629</td>\n",
       "      <td>21.319569</td>\n",
       "      <td>2017.091915</td>\n",
       "    </tr>\n",
       "    <tr>\n",
       "      <th>8</th>\n",
       "      <td>326.104186</td>\n",
       "      <td>-40.900180</td>\n",
       "      <td>0.814683</td>\n",
       "      <td>24.272838</td>\n",
       "      <td>157.983590</td>\n",
       "    </tr>\n",
       "    <tr>\n",
       "      <th>9</th>\n",
       "      <td>326.106237</td>\n",
       "      <td>-40.899279</td>\n",
       "      <td>0.501247</td>\n",
       "      <td>25.474828</td>\n",
       "      <td>64.277492</td>\n",
       "    </tr>\n",
       "  </tbody>\n",
       "</table>\n",
       "</div>"
      ],
      "text/plain": [
       "           ra        dec  half_light  VLT_FORS2_g      P_O_raw\n",
       "3  326.101738 -40.899771    0.458869    25.295416    73.150261\n",
       "7  326.105365 -40.900239    1.308629    21.319569  2017.091915\n",
       "8  326.104186 -40.900180    0.814683    24.272838   157.983590\n",
       "9  326.106237 -40.899279    0.501247    25.474828    64.277492"
      ]
     },
     "execution_count": 12,
     "metadata": {},
     "output_type": "execute_result"
    }
   ],
   "source": [
    "candidates['P_O_raw'] = raw_prior_Oi\n",
    "candidates"
   ]
  },
  {
   "cell_type": "markdown",
   "metadata": {},
   "source": [
    "## Normalize"
   ]
  },
  {
   "cell_type": "code",
   "execution_count": 13,
   "metadata": {},
   "outputs": [],
   "source": [
    "candidates['P_O'] = bayesian.renorm_priors(candidates.P_O_raw.values, priors['U'])"
   ]
  },
  {
   "cell_type": "code",
   "execution_count": 14,
   "metadata": {},
   "outputs": [
    {
     "data": {
      "text/html": [
       "<div>\n",
       "<style scoped>\n",
       "    .dataframe tbody tr th:only-of-type {\n",
       "        vertical-align: middle;\n",
       "    }\n",
       "\n",
       "    .dataframe tbody tr th {\n",
       "        vertical-align: top;\n",
       "    }\n",
       "\n",
       "    .dataframe thead th {\n",
       "        text-align: right;\n",
       "    }\n",
       "</style>\n",
       "<table border=\"1\" class=\"dataframe\">\n",
       "  <thead>\n",
       "    <tr style=\"text-align: right;\">\n",
       "      <th></th>\n",
       "      <th>ra</th>\n",
       "      <th>dec</th>\n",
       "      <th>half_light</th>\n",
       "      <th>VLT_FORS2_g</th>\n",
       "      <th>P_O_raw</th>\n",
       "      <th>P_O</th>\n",
       "    </tr>\n",
       "  </thead>\n",
       "  <tbody>\n",
       "    <tr>\n",
       "      <th>3</th>\n",
       "      <td>326.101738</td>\n",
       "      <td>-40.899771</td>\n",
       "      <td>0.458869</td>\n",
       "      <td>25.295416</td>\n",
       "      <td>73.150261</td>\n",
       "      <td>0.031633</td>\n",
       "    </tr>\n",
       "    <tr>\n",
       "      <th>7</th>\n",
       "      <td>326.105365</td>\n",
       "      <td>-40.900239</td>\n",
       "      <td>1.308629</td>\n",
       "      <td>21.319569</td>\n",
       "      <td>2017.091915</td>\n",
       "      <td>0.872255</td>\n",
       "    </tr>\n",
       "    <tr>\n",
       "      <th>8</th>\n",
       "      <td>326.104186</td>\n",
       "      <td>-40.900180</td>\n",
       "      <td>0.814683</td>\n",
       "      <td>24.272838</td>\n",
       "      <td>157.983590</td>\n",
       "      <td>0.068317</td>\n",
       "    </tr>\n",
       "    <tr>\n",
       "      <th>9</th>\n",
       "      <td>326.106237</td>\n",
       "      <td>-40.899279</td>\n",
       "      <td>0.501247</td>\n",
       "      <td>25.474828</td>\n",
       "      <td>64.277492</td>\n",
       "      <td>0.027796</td>\n",
       "    </tr>\n",
       "  </tbody>\n",
       "</table>\n",
       "</div>"
      ],
      "text/plain": [
       "           ra        dec  half_light  VLT_FORS2_g      P_O_raw       P_O\n",
       "3  326.101738 -40.899771    0.458869    25.295416    73.150261  0.031633\n",
       "7  326.105365 -40.900239    1.308629    21.319569  2017.091915  0.872255\n",
       "8  326.104186 -40.900180    0.814683    24.272838   157.983590  0.068317\n",
       "9  326.106237 -40.899279    0.501247    25.474828    64.277492  0.027796"
      ]
     },
     "execution_count": 14,
     "metadata": {},
     "output_type": "execute_result"
    }
   ],
   "source": [
    "candidates"
   ]
  },
  {
   "cell_type": "markdown",
   "metadata": {},
   "source": [
    "# Calculate $p(x|O)$"
   ]
  },
  {
   "cell_type": "markdown",
   "metadata": {},
   "source": [
    "## Original"
   ]
  },
  {
   "cell_type": "code",
   "execution_count": 36,
   "metadata": {},
   "outputs": [
    {
     "data": {
      "text/plain": [
       "array([0.00000000e+00, 5.15677111e-02, 6.97344054e-03, 9.29664168e-20])"
      ]
     },
     "execution_count": 36,
     "metadata": {},
     "output_type": "execute_result"
    }
   ],
   "source": [
    "reload(bayesian)\n",
    "p_xOi = bayesian.px_Oi(30.,  # box radius for grid, in arcsec\n",
    "                       frb_coord,\n",
    "                       eellipse,\n",
    "                       c_coords,\n",
    "                       priors['offset'])\n",
    "p_xOi"
   ]
  },
  {
   "cell_type": "code",
   "execution_count": 31,
   "metadata": {},
   "outputs": [
    {
     "data": {
      "text/plain": [
       "array([0.00000000e+00, 6.25655634e-02, 3.24391542e-03, 1.81710365e-08])"
      ]
     },
     "execution_count": 31,
     "metadata": {},
     "output_type": "execute_result"
    }
   ],
   "source": [
    "reload(localization)\n",
    "reload(bayesian)\n",
    "#\n",
    "p_xOi = bayesian.px_Oi_fixed(30.,  # box radius for grid, in arcsec\n",
    "                       localiz,\n",
    "                       c_coords,\n",
    "                       priors['offset'])\n",
    "p_xOi"
   ]
  },
  {
   "cell_type": "code",
   "execution_count": 21,
   "metadata": {},
   "outputs": [],
   "source": [
    "candidates['p_xO'] = p_xOi"
   ]
  },
  {
   "cell_type": "code",
   "execution_count": 22,
   "metadata": {},
   "outputs": [
    {
     "data": {
      "text/html": [
       "<div>\n",
       "<style scoped>\n",
       "    .dataframe tbody tr th:only-of-type {\n",
       "        vertical-align: middle;\n",
       "    }\n",
       "\n",
       "    .dataframe tbody tr th {\n",
       "        vertical-align: top;\n",
       "    }\n",
       "\n",
       "    .dataframe thead th {\n",
       "        text-align: right;\n",
       "    }\n",
       "</style>\n",
       "<table border=\"1\" class=\"dataframe\">\n",
       "  <thead>\n",
       "    <tr style=\"text-align: right;\">\n",
       "      <th></th>\n",
       "      <th>ra</th>\n",
       "      <th>dec</th>\n",
       "      <th>half_light</th>\n",
       "      <th>VLT_FORS2_g</th>\n",
       "      <th>P_O_raw</th>\n",
       "      <th>P_O</th>\n",
       "      <th>p_xO</th>\n",
       "    </tr>\n",
       "  </thead>\n",
       "  <tbody>\n",
       "    <tr>\n",
       "      <th>3</th>\n",
       "      <td>326.101738</td>\n",
       "      <td>-40.899771</td>\n",
       "      <td>0.458869</td>\n",
       "      <td>25.295416</td>\n",
       "      <td>73.150261</td>\n",
       "      <td>0.031633</td>\n",
       "      <td>0.992440</td>\n",
       "    </tr>\n",
       "    <tr>\n",
       "      <th>7</th>\n",
       "      <td>326.105365</td>\n",
       "      <td>-40.900239</td>\n",
       "      <td>1.308629</td>\n",
       "      <td>21.319569</td>\n",
       "      <td>2017.091915</td>\n",
       "      <td>0.872255</td>\n",
       "      <td>0.130361</td>\n",
       "    </tr>\n",
       "    <tr>\n",
       "      <th>8</th>\n",
       "      <td>326.104186</td>\n",
       "      <td>-40.900180</td>\n",
       "      <td>0.814683</td>\n",
       "      <td>24.272838</td>\n",
       "      <td>157.983590</td>\n",
       "      <td>0.068317</td>\n",
       "      <td>0.318530</td>\n",
       "    </tr>\n",
       "    <tr>\n",
       "      <th>9</th>\n",
       "      <td>326.106237</td>\n",
       "      <td>-40.899279</td>\n",
       "      <td>0.501247</td>\n",
       "      <td>25.474828</td>\n",
       "      <td>64.277492</td>\n",
       "      <td>0.027796</td>\n",
       "      <td>0.836039</td>\n",
       "    </tr>\n",
       "  </tbody>\n",
       "</table>\n",
       "</div>"
      ],
      "text/plain": [
       "           ra        dec  half_light  VLT_FORS2_g      P_O_raw       P_O  \\\n",
       "3  326.101738 -40.899771    0.458869    25.295416    73.150261  0.031633   \n",
       "7  326.105365 -40.900239    1.308629    21.319569  2017.091915  0.872255   \n",
       "8  326.104186 -40.900180    0.814683    24.272838   157.983590  0.068317   \n",
       "9  326.106237 -40.899279    0.501247    25.474828    64.277492  0.027796   \n",
       "\n",
       "       p_xO  \n",
       "3  0.992440  \n",
       "7  0.130361  \n",
       "8  0.318530  \n",
       "9  0.836039  "
      ]
     },
     "execution_count": 22,
     "metadata": {},
     "output_type": "execute_result"
    }
   ],
   "source": [
    "candidates"
   ]
  },
  {
   "cell_type": "markdown",
   "metadata": {},
   "source": [
    "# $p(x)$"
   ]
  },
  {
   "cell_type": "code",
   "execution_count": 14,
   "metadata": {},
   "outputs": [
    {
     "data": {
      "text/plain": [
       "4.1327985693607774e-06"
      ]
     },
     "execution_count": 14,
     "metadata": {},
     "output_type": "execute_result"
    }
   ],
   "source": [
    "p_x = np.sum(candidates.P_O * candidates.p_xO)\n",
    "p_x"
   ]
  },
  {
   "cell_type": "markdown",
   "metadata": {},
   "source": [
    "# Posteriors $P(O|x)$"
   ]
  },
  {
   "cell_type": "code",
   "execution_count": 15,
   "metadata": {},
   "outputs": [],
   "source": [
    "P_Oix = candidates.P_O * p_xOi / p_x\n",
    "candidates['P_Ox'] = P_Oix"
   ]
  },
  {
   "cell_type": "code",
   "execution_count": 16,
   "metadata": {},
   "outputs": [
    {
     "data": {
      "text/html": [
       "<div>\n",
       "<style scoped>\n",
       "    .dataframe tbody tr th:only-of-type {\n",
       "        vertical-align: middle;\n",
       "    }\n",
       "\n",
       "    .dataframe tbody tr th {\n",
       "        vertical-align: top;\n",
       "    }\n",
       "\n",
       "    .dataframe thead th {\n",
       "        text-align: right;\n",
       "    }\n",
       "</style>\n",
       "<table border=\"1\" class=\"dataframe\">\n",
       "  <thead>\n",
       "    <tr style=\"text-align: right;\">\n",
       "      <th></th>\n",
       "      <th>ra</th>\n",
       "      <th>dec</th>\n",
       "      <th>half_light</th>\n",
       "      <th>VLT_FORS2_g</th>\n",
       "      <th>P_O_raw</th>\n",
       "      <th>P_O</th>\n",
       "      <th>p_xO</th>\n",
       "      <th>P_Ox</th>\n",
       "    </tr>\n",
       "  </thead>\n",
       "  <tbody>\n",
       "    <tr>\n",
       "      <th>3</th>\n",
       "      <td>326.101738</td>\n",
       "      <td>-40.899771</td>\n",
       "      <td>0.458869</td>\n",
       "      <td>25.295416</td>\n",
       "      <td>73.150261</td>\n",
       "      <td>0.031633</td>\n",
       "      <td>0.000000e+00</td>\n",
       "      <td>0.000000e+00</td>\n",
       "    </tr>\n",
       "    <tr>\n",
       "      <th>7</th>\n",
       "      <td>326.105365</td>\n",
       "      <td>-40.900239</td>\n",
       "      <td>1.308629</td>\n",
       "      <td>21.319569</td>\n",
       "      <td>2017.091915</td>\n",
       "      <td>0.872255</td>\n",
       "      <td>4.564015e-06</td>\n",
       "      <td>9.632657e-01</td>\n",
       "    </tr>\n",
       "    <tr>\n",
       "      <th>8</th>\n",
       "      <td>326.104186</td>\n",
       "      <td>-40.900180</td>\n",
       "      <td>0.814683</td>\n",
       "      <td>24.272838</td>\n",
       "      <td>157.983590</td>\n",
       "      <td>0.068317</td>\n",
       "      <td>2.222214e-06</td>\n",
       "      <td>3.673426e-02</td>\n",
       "    </tr>\n",
       "    <tr>\n",
       "      <th>9</th>\n",
       "      <td>326.106237</td>\n",
       "      <td>-40.899279</td>\n",
       "      <td>0.501247</td>\n",
       "      <td>25.474828</td>\n",
       "      <td>64.277492</td>\n",
       "      <td>0.027796</td>\n",
       "      <td>3.099763e-23</td>\n",
       "      <td>2.084783e-19</td>\n",
       "    </tr>\n",
       "  </tbody>\n",
       "</table>\n",
       "</div>"
      ],
      "text/plain": [
       "           ra        dec  half_light  VLT_FORS2_g      P_O_raw       P_O  \\\n",
       "3  326.101738 -40.899771    0.458869    25.295416    73.150261  0.031633   \n",
       "7  326.105365 -40.900239    1.308629    21.319569  2017.091915  0.872255   \n",
       "8  326.104186 -40.900180    0.814683    24.272838   157.983590  0.068317   \n",
       "9  326.106237 -40.899279    0.501247    25.474828    64.277492  0.027796   \n",
       "\n",
       "           p_xO          P_Ox  \n",
       "3  0.000000e+00  0.000000e+00  \n",
       "7  4.564015e-06  9.632657e-01  \n",
       "8  2.222214e-06  3.673426e-02  \n",
       "9  3.099763e-23  2.084783e-19  "
      ]
     },
     "execution_count": 16,
     "metadata": {},
     "output_type": "execute_result"
    }
   ],
   "source": [
    "candidates"
   ]
  },
  {
   "cell_type": "code",
   "execution_count": null,
   "metadata": {},
   "outputs": [],
   "source": []
  }
 ],
 "metadata": {
  "kernelspec": {
   "display_name": "Python 3",
   "language": "python",
   "name": "python3"
  },
  "language_info": {
   "codemirror_mode": {
    "name": "ipython",
    "version": 3
   },
   "file_extension": ".py",
   "mimetype": "text/x-python",
   "name": "python",
   "nbconvert_exporter": "python",
   "pygments_lexer": "ipython3",
   "version": "3.8.5"
  }
 },
 "nbformat": 4,
 "nbformat_minor": 4
}
