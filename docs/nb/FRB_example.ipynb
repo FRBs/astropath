{
 "cells": [
  {
   "cell_type": "markdown",
   "metadata": {},
   "source": [
    "# FRB example"
   ]
  },
  {
   "cell_type": "code",
   "execution_count": 1,
   "metadata": {},
   "outputs": [],
   "source": [
    "# imports\n",
    "from importlib import reload\n",
    "import os\n",
    "from pkg_resources import resource_filename\n",
    "\n",
    "import numpy as np\n",
    "\n",
    "import pandas\n",
    "\n",
    "from astropy.coordinates import SkyCoord\n",
    "#from astropy.io import fits\n",
    "\n",
    "from astropath import bayesian\n",
    "from astropath import localization"
   ]
  },
  {
   "cell_type": "markdown",
   "metadata": {},
   "source": [
    "# Dummy FRB (based on 180924)"
   ]
  },
  {
   "cell_type": "markdown",
   "metadata": {},
   "source": [
    "## Coord"
   ]
  },
  {
   "cell_type": "code",
   "execution_count": 2,
   "metadata": {},
   "outputs": [
    {
     "data": {
      "text/plain": [
       "<SkyCoord (ICRS): (ra, dec) in deg\n",
       "    (326.10522917, -40.90002778)>"
      ]
     },
     "execution_count": 2,
     "metadata": {},
     "output_type": "execute_result"
    }
   ],
   "source": [
    "frb_coord = SkyCoord('21h44m25.255s -40d54m00.10s', frame='icrs')\n",
    "frb_coord"
   ]
  },
  {
   "cell_type": "markdown",
   "metadata": {},
   "source": [
    "## Error ellipse"
   ]
  },
  {
   "cell_type": "code",
   "execution_count": 64,
   "metadata": {},
   "outputs": [],
   "source": [
    "#eellipse = dict(a=0.3, b=0.1, theta=45.)\n",
    "eellipse = dict(a=3, b=3, theta=90.)\n",
    "\n",
    "#eellipse = dict(a=0.1, b=0.1, theta=0.)"
   ]
  },
  {
   "cell_type": "markdown",
   "metadata": {},
   "source": [
    "## Localization dict\n",
    "\n",
    "### See astropath/localization.py for the Data model"
   ]
  },
  {
   "cell_type": "code",
   "execution_count": 65,
   "metadata": {},
   "outputs": [],
   "source": [
    "localiz = dict(type='eellipse', frb_coord=frb_coord, frb_eellipse=eellipse)"
   ]
  },
  {
   "cell_type": "code",
   "execution_count": 5,
   "metadata": {},
   "outputs": [],
   "source": [
    "assert localization.vette_localization(localiz)"
   ]
  },
  {
   "cell_type": "markdown",
   "metadata": {},
   "source": [
    "# Candidates"
   ]
  },
  {
   "cell_type": "markdown",
   "metadata": {},
   "source": [
    "## Load"
   ]
  },
  {
   "cell_type": "code",
   "execution_count": 6,
   "metadata": {},
   "outputs": [],
   "source": [
    "cand_file = os.path.join(resource_filename('astropath', 'data'), 'frb_example', 'frb180924_candidates.csv')"
   ]
  },
  {
   "cell_type": "code",
   "execution_count": 7,
   "metadata": {},
   "outputs": [
    {
     "data": {
      "text/html": [
       "<div>\n",
       "<style scoped>\n",
       "    .dataframe tbody tr th:only-of-type {\n",
       "        vertical-align: middle;\n",
       "    }\n",
       "\n",
       "    .dataframe tbody tr th {\n",
       "        vertical-align: top;\n",
       "    }\n",
       "\n",
       "    .dataframe thead th {\n",
       "        text-align: right;\n",
       "    }\n",
       "</style>\n",
       "<table border=\"1\" class=\"dataframe\">\n",
       "  <thead>\n",
       "    <tr style=\"text-align: right;\">\n",
       "      <th></th>\n",
       "      <th>ra</th>\n",
       "      <th>dec</th>\n",
       "      <th>half_light</th>\n",
       "      <th>VLT_FORS2_g</th>\n",
       "    </tr>\n",
       "  </thead>\n",
       "  <tbody>\n",
       "    <tr>\n",
       "      <th>3</th>\n",
       "      <td>326.101738</td>\n",
       "      <td>-40.899771</td>\n",
       "      <td>0.458869</td>\n",
       "      <td>25.295416</td>\n",
       "    </tr>\n",
       "    <tr>\n",
       "      <th>7</th>\n",
       "      <td>326.105365</td>\n",
       "      <td>-40.900239</td>\n",
       "      <td>1.308629</td>\n",
       "      <td>21.319569</td>\n",
       "    </tr>\n",
       "    <tr>\n",
       "      <th>8</th>\n",
       "      <td>326.104186</td>\n",
       "      <td>-40.900180</td>\n",
       "      <td>0.814683</td>\n",
       "      <td>24.272838</td>\n",
       "    </tr>\n",
       "    <tr>\n",
       "      <th>9</th>\n",
       "      <td>326.106237</td>\n",
       "      <td>-40.899279</td>\n",
       "      <td>0.501247</td>\n",
       "      <td>25.474828</td>\n",
       "    </tr>\n",
       "  </tbody>\n",
       "</table>\n",
       "</div>"
      ],
      "text/plain": [
       "           ra        dec  half_light  VLT_FORS2_g\n",
       "3  326.101738 -40.899771    0.458869    25.295416\n",
       "7  326.105365 -40.900239    1.308629    21.319569\n",
       "8  326.104186 -40.900180    0.814683    24.272838\n",
       "9  326.106237 -40.899279    0.501247    25.474828"
      ]
     },
     "execution_count": 7,
     "metadata": {},
     "output_type": "execute_result"
    }
   ],
   "source": [
    "candidates = pandas.read_csv(cand_file, index_col=0)\n",
    "candidates.head()"
   ]
  },
  {
   "cell_type": "markdown",
   "metadata": {},
   "source": [
    "## Coords"
   ]
  },
  {
   "cell_type": "code",
   "execution_count": 8,
   "metadata": {},
   "outputs": [
    {
     "data": {
      "text/plain": [
       "<SkyCoord (ICRS): (ra, dec) in deg\n",
       "    [(326.1017384 , -40.89977098), (326.10536507, -40.90023897),\n",
       "     (326.10418611, -40.90018023), (326.10623701, -40.8992786 )]>"
      ]
     },
     "execution_count": 8,
     "metadata": {},
     "output_type": "execute_result"
    }
   ],
   "source": [
    "c_coords = SkyCoord(ra=candidates.ra, dec=candidates.dec, unit='deg')\n",
    "c_coords"
   ]
  },
  {
   "cell_type": "markdown",
   "metadata": {},
   "source": [
    "# Priors"
   ]
  },
  {
   "cell_type": "markdown",
   "metadata": {},
   "source": [
    "## Guiding dict"
   ]
  },
  {
   "cell_type": "code",
   "execution_count": 9,
   "metadata": {},
   "outputs": [],
   "source": [
    "offset_prior = dict(method='exp', \n",
    "                    max=6.,\n",
    "                   ang_size=candidates.half_light.values)\n",
    "priors = dict(offset=offset_prior, \n",
    "              O='inverse', \n",
    "              U=0., \n",
    "              name='Adopted')"
   ]
  },
  {
   "cell_type": "markdown",
   "metadata": {},
   "source": [
    "## Calculate raw"
   ]
  },
  {
   "cell_type": "code",
   "execution_count": 10,
   "metadata": {},
   "outputs": [],
   "source": [
    "# Raw priors\n",
    "raw_prior_Oi = bayesian.raw_prior_Oi(priors['O'], \n",
    "                                     candidates.VLT_FORS2_g.values, \n",
    "                                     half_light=candidates.half_light.values)"
   ]
  },
  {
   "cell_type": "code",
   "execution_count": 11,
   "metadata": {},
   "outputs": [
    {
     "data": {
      "text/html": [
       "<div>\n",
       "<style scoped>\n",
       "    .dataframe tbody tr th:only-of-type {\n",
       "        vertical-align: middle;\n",
       "    }\n",
       "\n",
       "    .dataframe tbody tr th {\n",
       "        vertical-align: top;\n",
       "    }\n",
       "\n",
       "    .dataframe thead th {\n",
       "        text-align: right;\n",
       "    }\n",
       "</style>\n",
       "<table border=\"1\" class=\"dataframe\">\n",
       "  <thead>\n",
       "    <tr style=\"text-align: right;\">\n",
       "      <th></th>\n",
       "      <th>ra</th>\n",
       "      <th>dec</th>\n",
       "      <th>half_light</th>\n",
       "      <th>VLT_FORS2_g</th>\n",
       "      <th>P_O_raw</th>\n",
       "    </tr>\n",
       "  </thead>\n",
       "  <tbody>\n",
       "    <tr>\n",
       "      <th>3</th>\n",
       "      <td>326.101738</td>\n",
       "      <td>-40.899771</td>\n",
       "      <td>0.458869</td>\n",
       "      <td>25.295416</td>\n",
       "      <td>73.150261</td>\n",
       "    </tr>\n",
       "    <tr>\n",
       "      <th>7</th>\n",
       "      <td>326.105365</td>\n",
       "      <td>-40.900239</td>\n",
       "      <td>1.308629</td>\n",
       "      <td>21.319569</td>\n",
       "      <td>2017.091915</td>\n",
       "    </tr>\n",
       "    <tr>\n",
       "      <th>8</th>\n",
       "      <td>326.104186</td>\n",
       "      <td>-40.900180</td>\n",
       "      <td>0.814683</td>\n",
       "      <td>24.272838</td>\n",
       "      <td>157.983590</td>\n",
       "    </tr>\n",
       "    <tr>\n",
       "      <th>9</th>\n",
       "      <td>326.106237</td>\n",
       "      <td>-40.899279</td>\n",
       "      <td>0.501247</td>\n",
       "      <td>25.474828</td>\n",
       "      <td>64.277492</td>\n",
       "    </tr>\n",
       "  </tbody>\n",
       "</table>\n",
       "</div>"
      ],
      "text/plain": [
       "           ra        dec  half_light  VLT_FORS2_g      P_O_raw\n",
       "3  326.101738 -40.899771    0.458869    25.295416    73.150261\n",
       "7  326.105365 -40.900239    1.308629    21.319569  2017.091915\n",
       "8  326.104186 -40.900180    0.814683    24.272838   157.983590\n",
       "9  326.106237 -40.899279    0.501247    25.474828    64.277492"
      ]
     },
     "execution_count": 11,
     "metadata": {},
     "output_type": "execute_result"
    }
   ],
   "source": [
    "candidates['P_O_raw'] = raw_prior_Oi\n",
    "candidates"
   ]
  },
  {
   "cell_type": "markdown",
   "metadata": {},
   "source": [
    "## Normalize"
   ]
  },
  {
   "cell_type": "code",
   "execution_count": 12,
   "metadata": {},
   "outputs": [],
   "source": [
    "candidates['P_O'] = bayesian.renorm_priors(candidates.P_O_raw.values, priors['U'])"
   ]
  },
  {
   "cell_type": "code",
   "execution_count": 13,
   "metadata": {},
   "outputs": [
    {
     "data": {
      "text/html": [
       "<div>\n",
       "<style scoped>\n",
       "    .dataframe tbody tr th:only-of-type {\n",
       "        vertical-align: middle;\n",
       "    }\n",
       "\n",
       "    .dataframe tbody tr th {\n",
       "        vertical-align: top;\n",
       "    }\n",
       "\n",
       "    .dataframe thead th {\n",
       "        text-align: right;\n",
       "    }\n",
       "</style>\n",
       "<table border=\"1\" class=\"dataframe\">\n",
       "  <thead>\n",
       "    <tr style=\"text-align: right;\">\n",
       "      <th></th>\n",
       "      <th>ra</th>\n",
       "      <th>dec</th>\n",
       "      <th>half_light</th>\n",
       "      <th>VLT_FORS2_g</th>\n",
       "      <th>P_O_raw</th>\n",
       "      <th>P_O</th>\n",
       "    </tr>\n",
       "  </thead>\n",
       "  <tbody>\n",
       "    <tr>\n",
       "      <th>3</th>\n",
       "      <td>326.101738</td>\n",
       "      <td>-40.899771</td>\n",
       "      <td>0.458869</td>\n",
       "      <td>25.295416</td>\n",
       "      <td>73.150261</td>\n",
       "      <td>0.031633</td>\n",
       "    </tr>\n",
       "    <tr>\n",
       "      <th>7</th>\n",
       "      <td>326.105365</td>\n",
       "      <td>-40.900239</td>\n",
       "      <td>1.308629</td>\n",
       "      <td>21.319569</td>\n",
       "      <td>2017.091915</td>\n",
       "      <td>0.872255</td>\n",
       "    </tr>\n",
       "    <tr>\n",
       "      <th>8</th>\n",
       "      <td>326.104186</td>\n",
       "      <td>-40.900180</td>\n",
       "      <td>0.814683</td>\n",
       "      <td>24.272838</td>\n",
       "      <td>157.983590</td>\n",
       "      <td>0.068317</td>\n",
       "    </tr>\n",
       "    <tr>\n",
       "      <th>9</th>\n",
       "      <td>326.106237</td>\n",
       "      <td>-40.899279</td>\n",
       "      <td>0.501247</td>\n",
       "      <td>25.474828</td>\n",
       "      <td>64.277492</td>\n",
       "      <td>0.027796</td>\n",
       "    </tr>\n",
       "  </tbody>\n",
       "</table>\n",
       "</div>"
      ],
      "text/plain": [
       "           ra        dec  half_light  VLT_FORS2_g      P_O_raw       P_O\n",
       "3  326.101738 -40.899771    0.458869    25.295416    73.150261  0.031633\n",
       "7  326.105365 -40.900239    1.308629    21.319569  2017.091915  0.872255\n",
       "8  326.104186 -40.900180    0.814683    24.272838   157.983590  0.068317\n",
       "9  326.106237 -40.899279    0.501247    25.474828    64.277492  0.027796"
      ]
     },
     "execution_count": 13,
     "metadata": {},
     "output_type": "execute_result"
    }
   ],
   "source": [
    "candidates"
   ]
  },
  {
   "cell_type": "markdown",
   "metadata": {},
   "source": [
    "# Calculate $p(x|O)$"
   ]
  },
  {
   "cell_type": "markdown",
   "metadata": {},
   "source": [
    "## Original"
   ]
  },
  {
   "cell_type": "code",
   "execution_count": 26,
   "metadata": {},
   "outputs": [
    {
     "data": {
      "text/plain": [
       "326.1052291666667"
      ]
     },
     "execution_count": 26,
     "metadata": {},
     "output_type": "execute_result"
    }
   ],
   "source": [
    "frb_coord.ra.deg"
   ]
  },
  {
   "cell_type": "code",
   "execution_count": 52,
   "metadata": {},
   "outputs": [
    {
     "name": "stdout",
     "output_type": "stream",
     "text": [
      "> \u001b[0;32m/data/Projects/FRB_Software/astropath/astropath/bayesian.py\u001b[0m(262)\u001b[0;36mpx_Oi\u001b[0;34m()\u001b[0m\n",
      "\u001b[0;32m    260 \u001b[0;31m    \u001b[0;32mimport\u001b[0m \u001b[0mpdb\u001b[0m\u001b[0;34m;\u001b[0m \u001b[0mpdb\u001b[0m\u001b[0;34m.\u001b[0m\u001b[0mset_trace\u001b[0m\u001b[0;34m(\u001b[0m\u001b[0;34m)\u001b[0m\u001b[0;34m\u001b[0m\u001b[0;34m\u001b[0m\u001b[0m\n",
      "\u001b[0m\u001b[0;32m    261 \u001b[0;31m\u001b[0;34m\u001b[0m\u001b[0m\n",
      "\u001b[0m\u001b[0;32m--> 262 \u001b[0;31m    \u001b[0mp_xOis\u001b[0m\u001b[0;34m,\u001b[0m \u001b[0mgrids\u001b[0m \u001b[0;34m=\u001b[0m \u001b[0;34m[\u001b[0m\u001b[0;34m]\u001b[0m\u001b[0;34m,\u001b[0m \u001b[0;34m[\u001b[0m\u001b[0;34m]\u001b[0m\u001b[0;34m\u001b[0m\u001b[0;34m\u001b[0m\u001b[0m\n",
      "\u001b[0m\u001b[0;32m    263 \u001b[0;31m    \u001b[0;31m# TODO -- multiprocess this\u001b[0m\u001b[0;34m\u001b[0m\u001b[0;34m\u001b[0m\u001b[0;34m\u001b[0m\u001b[0m\n",
      "\u001b[0m\u001b[0;32m    264 \u001b[0;31m    \u001b[0;32mfor\u001b[0m \u001b[0micand\u001b[0m\u001b[0;34m,\u001b[0m \u001b[0mcand_coord\u001b[0m \u001b[0;32min\u001b[0m \u001b[0menumerate\u001b[0m\u001b[0;34m(\u001b[0m\u001b[0mcand_coords\u001b[0m\u001b[0;34m)\u001b[0m\u001b[0;34m:\u001b[0m\u001b[0;34m\u001b[0m\u001b[0;34m\u001b[0m\u001b[0m\n",
      "\u001b[0m\n"
     ]
    },
    {
     "name": "stdin",
     "output_type": "stream",
     "text": [
      "ipdb>  np.sum(L_wx)\n"
     ]
    },
    {
     "name": "stdout",
     "output_type": "stream",
     "text": [
      "2498.333611111112\n"
     ]
    },
    {
     "name": "stdin",
     "output_type": "stream",
     "text": [
      "ipdb>  np.sum(L_wx)*0.02**2\n"
     ]
    },
    {
     "name": "stdout",
     "output_type": "stream",
     "text": [
      "0.9993334444444448\n"
     ]
    },
    {
     "name": "stdin",
     "output_type": "stream",
     "text": [
      "ipdb>  exit\n"
     ]
    },
    {
     "ename": "BdbQuit",
     "evalue": "",
     "output_type": "error",
     "traceback": [
      "\u001b[0;31m-------------------------------------------------------------------------\u001b[0m",
      "\u001b[0;31mBdbQuit\u001b[0m                                 Traceback (most recent call last)",
      "\u001b[0;32m<timed exec>\u001b[0m in \u001b[0;36m<module>\u001b[0;34m\u001b[0m\n",
      "\u001b[0;32m/data/Projects/FRB_Software/astropath/astropath/bayesian.py\u001b[0m in \u001b[0;36mpx_Oi\u001b[0;34m(box_hwidth, frb_coord, eellipse, cand_coords, theta_prior, step_size, return_grids)\u001b[0m\n\u001b[1;32m    260\u001b[0m     \u001b[0;32mimport\u001b[0m \u001b[0mpdb\u001b[0m\u001b[0;34m;\u001b[0m \u001b[0mpdb\u001b[0m\u001b[0;34m.\u001b[0m\u001b[0mset_trace\u001b[0m\u001b[0;34m(\u001b[0m\u001b[0;34m)\u001b[0m\u001b[0;34m\u001b[0m\u001b[0;34m\u001b[0m\u001b[0m\n\u001b[1;32m    261\u001b[0m \u001b[0;34m\u001b[0m\u001b[0m\n\u001b[0;32m--> 262\u001b[0;31m     \u001b[0mp_xOis\u001b[0m\u001b[0;34m,\u001b[0m \u001b[0mgrids\u001b[0m \u001b[0;34m=\u001b[0m \u001b[0;34m[\u001b[0m\u001b[0;34m]\u001b[0m\u001b[0;34m,\u001b[0m \u001b[0;34m[\u001b[0m\u001b[0;34m]\u001b[0m\u001b[0;34m\u001b[0m\u001b[0;34m\u001b[0m\u001b[0m\n\u001b[0m\u001b[1;32m    263\u001b[0m     \u001b[0;31m# TODO -- multiprocess this\u001b[0m\u001b[0;34m\u001b[0m\u001b[0;34m\u001b[0m\u001b[0;34m\u001b[0m\u001b[0m\n\u001b[1;32m    264\u001b[0m     \u001b[0;32mfor\u001b[0m \u001b[0micand\u001b[0m\u001b[0;34m,\u001b[0m \u001b[0mcand_coord\u001b[0m \u001b[0;32min\u001b[0m \u001b[0menumerate\u001b[0m\u001b[0;34m(\u001b[0m\u001b[0mcand_coords\u001b[0m\u001b[0;34m)\u001b[0m\u001b[0;34m:\u001b[0m\u001b[0;34m\u001b[0m\u001b[0;34m\u001b[0m\u001b[0m\n",
      "\u001b[0;32m/data/Projects/FRB_Software/astropath/astropath/bayesian.py\u001b[0m in \u001b[0;36mpx_Oi\u001b[0;34m(box_hwidth, frb_coord, eellipse, cand_coords, theta_prior, step_size, return_grids)\u001b[0m\n\u001b[1;32m    260\u001b[0m     \u001b[0;32mimport\u001b[0m \u001b[0mpdb\u001b[0m\u001b[0;34m;\u001b[0m \u001b[0mpdb\u001b[0m\u001b[0;34m.\u001b[0m\u001b[0mset_trace\u001b[0m\u001b[0;34m(\u001b[0m\u001b[0;34m)\u001b[0m\u001b[0;34m\u001b[0m\u001b[0;34m\u001b[0m\u001b[0m\n\u001b[1;32m    261\u001b[0m \u001b[0;34m\u001b[0m\u001b[0m\n\u001b[0;32m--> 262\u001b[0;31m     \u001b[0mp_xOis\u001b[0m\u001b[0;34m,\u001b[0m \u001b[0mgrids\u001b[0m \u001b[0;34m=\u001b[0m \u001b[0;34m[\u001b[0m\u001b[0;34m]\u001b[0m\u001b[0;34m,\u001b[0m \u001b[0;34m[\u001b[0m\u001b[0;34m]\u001b[0m\u001b[0;34m\u001b[0m\u001b[0;34m\u001b[0m\u001b[0m\n\u001b[0m\u001b[1;32m    263\u001b[0m     \u001b[0;31m# TODO -- multiprocess this\u001b[0m\u001b[0;34m\u001b[0m\u001b[0;34m\u001b[0m\u001b[0;34m\u001b[0m\u001b[0m\n\u001b[1;32m    264\u001b[0m     \u001b[0;32mfor\u001b[0m \u001b[0micand\u001b[0m\u001b[0;34m,\u001b[0m \u001b[0mcand_coord\u001b[0m \u001b[0;32min\u001b[0m \u001b[0menumerate\u001b[0m\u001b[0;34m(\u001b[0m\u001b[0mcand_coords\u001b[0m\u001b[0;34m)\u001b[0m\u001b[0;34m:\u001b[0m\u001b[0;34m\u001b[0m\u001b[0;34m\u001b[0m\u001b[0m\n",
      "\u001b[0;32m~/Projects/anaconda3/lib/python3.8/bdb.py\u001b[0m in \u001b[0;36mtrace_dispatch\u001b[0;34m(self, frame, event, arg)\u001b[0m\n\u001b[1;32m     86\u001b[0m             \u001b[0;32mreturn\u001b[0m \u001b[0;31m# None\u001b[0m\u001b[0;34m\u001b[0m\u001b[0;34m\u001b[0m\u001b[0m\n\u001b[1;32m     87\u001b[0m         \u001b[0;32mif\u001b[0m \u001b[0mevent\u001b[0m \u001b[0;34m==\u001b[0m \u001b[0;34m'line'\u001b[0m\u001b[0;34m:\u001b[0m\u001b[0;34m\u001b[0m\u001b[0;34m\u001b[0m\u001b[0m\n\u001b[0;32m---> 88\u001b[0;31m             \u001b[0;32mreturn\u001b[0m \u001b[0mself\u001b[0m\u001b[0;34m.\u001b[0m\u001b[0mdispatch_line\u001b[0m\u001b[0;34m(\u001b[0m\u001b[0mframe\u001b[0m\u001b[0;34m)\u001b[0m\u001b[0;34m\u001b[0m\u001b[0;34m\u001b[0m\u001b[0m\n\u001b[0m\u001b[1;32m     89\u001b[0m         \u001b[0;32mif\u001b[0m \u001b[0mevent\u001b[0m \u001b[0;34m==\u001b[0m \u001b[0;34m'call'\u001b[0m\u001b[0;34m:\u001b[0m\u001b[0;34m\u001b[0m\u001b[0;34m\u001b[0m\u001b[0m\n\u001b[1;32m     90\u001b[0m             \u001b[0;32mreturn\u001b[0m \u001b[0mself\u001b[0m\u001b[0;34m.\u001b[0m\u001b[0mdispatch_call\u001b[0m\u001b[0;34m(\u001b[0m\u001b[0mframe\u001b[0m\u001b[0;34m,\u001b[0m \u001b[0marg\u001b[0m\u001b[0;34m)\u001b[0m\u001b[0;34m\u001b[0m\u001b[0;34m\u001b[0m\u001b[0m\n",
      "\u001b[0;32m~/Projects/anaconda3/lib/python3.8/bdb.py\u001b[0m in \u001b[0;36mdispatch_line\u001b[0;34m(self, frame)\u001b[0m\n\u001b[1;32m    111\u001b[0m         \u001b[0;32mif\u001b[0m \u001b[0mself\u001b[0m\u001b[0;34m.\u001b[0m\u001b[0mstop_here\u001b[0m\u001b[0;34m(\u001b[0m\u001b[0mframe\u001b[0m\u001b[0;34m)\u001b[0m \u001b[0;32mor\u001b[0m \u001b[0mself\u001b[0m\u001b[0;34m.\u001b[0m\u001b[0mbreak_here\u001b[0m\u001b[0;34m(\u001b[0m\u001b[0mframe\u001b[0m\u001b[0;34m)\u001b[0m\u001b[0;34m:\u001b[0m\u001b[0;34m\u001b[0m\u001b[0;34m\u001b[0m\u001b[0m\n\u001b[1;32m    112\u001b[0m             \u001b[0mself\u001b[0m\u001b[0;34m.\u001b[0m\u001b[0muser_line\u001b[0m\u001b[0;34m(\u001b[0m\u001b[0mframe\u001b[0m\u001b[0;34m)\u001b[0m\u001b[0;34m\u001b[0m\u001b[0;34m\u001b[0m\u001b[0m\n\u001b[0;32m--> 113\u001b[0;31m             \u001b[0;32mif\u001b[0m \u001b[0mself\u001b[0m\u001b[0;34m.\u001b[0m\u001b[0mquitting\u001b[0m\u001b[0;34m:\u001b[0m \u001b[0;32mraise\u001b[0m \u001b[0mBdbQuit\u001b[0m\u001b[0;34m\u001b[0m\u001b[0;34m\u001b[0m\u001b[0m\n\u001b[0m\u001b[1;32m    114\u001b[0m         \u001b[0;32mreturn\u001b[0m \u001b[0mself\u001b[0m\u001b[0;34m.\u001b[0m\u001b[0mtrace_dispatch\u001b[0m\u001b[0;34m\u001b[0m\u001b[0;34m\u001b[0m\u001b[0m\n\u001b[1;32m    115\u001b[0m \u001b[0;34m\u001b[0m\u001b[0m\n",
      "\u001b[0;31mBdbQuit\u001b[0m: "
     ]
    }
   ],
   "source": [
    "%%time\n",
    "reload(bayesian)\n",
    "p_xOi = bayesian.px_Oi(30.,  # box radius for grid, in arcsec\n",
    "                       frb_coord,\n",
    "                       eellipse,\n",
    "                       c_coords,\n",
    "                       priors['offset'], step_size=0.02)\n",
    "#p_xOi"
   ]
  },
  {
   "cell_type": "code",
   "execution_count": null,
   "metadata": {},
   "outputs": [
    {
     "name": "stdout",
     "output_type": "stream",
     "text": [
      "Grid spacing = 0.050041701417846696\n",
      "> \u001b[0;32m/data/Projects/FRB_Software/astropath/astropath/bayesian.py\u001b[0m(172)\u001b[0;36mpx_Oi_fixed\u001b[0;34m()\u001b[0m\n",
      "\u001b[0;32m    170 \u001b[0;31m    \u001b[0mdec\u001b[0m \u001b[0;34m=\u001b[0m \u001b[0mlocaliz\u001b[0m\u001b[0;34m[\u001b[0m\u001b[0;34m'frb_coord'\u001b[0m\u001b[0;34m]\u001b[0m\u001b[0;34m.\u001b[0m\u001b[0mdec\u001b[0m\u001b[0;34m.\u001b[0m\u001b[0mdeg\u001b[0m \u001b[0;34m+\u001b[0m \u001b[0mycoord\u001b[0m\u001b[0;34m/\u001b[0m\u001b[0;36m3600.\u001b[0m\u001b[0;34m\u001b[0m\u001b[0;34m\u001b[0m\u001b[0m\n",
      "\u001b[0m\u001b[0;32m    171 \u001b[0;31m    \u001b[0;32mimport\u001b[0m \u001b[0mpdb\u001b[0m\u001b[0;34m;\u001b[0m \u001b[0mpdb\u001b[0m\u001b[0;34m.\u001b[0m\u001b[0mset_trace\u001b[0m\u001b[0;34m(\u001b[0m\u001b[0;34m)\u001b[0m\u001b[0;34m\u001b[0m\u001b[0;34m\u001b[0m\u001b[0m\n",
      "\u001b[0m\u001b[0;32m--> 172 \u001b[0;31m    \u001b[0mL_wx\u001b[0m \u001b[0;34m=\u001b[0m \u001b[0mlocalization\u001b[0m\u001b[0;34m.\u001b[0m\u001b[0mcalc_LWx\u001b[0m\u001b[0;34m(\u001b[0m\u001b[0mra\u001b[0m\u001b[0;34m,\u001b[0m \u001b[0mdec\u001b[0m\u001b[0;34m,\u001b[0m \u001b[0mlocaliz\u001b[0m\u001b[0;34m)\u001b[0m\u001b[0;34m\u001b[0m\u001b[0;34m\u001b[0m\u001b[0m\n",
      "\u001b[0m\u001b[0;32m    173 \u001b[0;31m\u001b[0;34m\u001b[0m\u001b[0m\n",
      "\u001b[0m\u001b[0;32m    174 \u001b[0;31m    \u001b[0mp_xOis\u001b[0m\u001b[0;34m,\u001b[0m \u001b[0mgrids\u001b[0m \u001b[0;34m=\u001b[0m \u001b[0;34m[\u001b[0m\u001b[0;34m]\u001b[0m\u001b[0;34m,\u001b[0m \u001b[0;34m[\u001b[0m\u001b[0;34m]\u001b[0m\u001b[0;34m\u001b[0m\u001b[0;34m\u001b[0m\u001b[0m\n",
      "\u001b[0m\n"
     ]
    },
    {
     "name": "stdin",
     "output_type": "stream",
     "text": [
      "ipdb>  xcoord[0,0]\n"
     ]
    },
    {
     "name": "stdout",
     "output_type": "stream",
     "text": [
      "-30.0\n"
     ]
    },
    {
     "name": "stdin",
     "output_type": "stream",
     "text": [
      "ipdb>  localiz['frb_coord'].ra.deg \n"
     ]
    },
    {
     "name": "stdout",
     "output_type": "stream",
     "text": [
      "326.1052291666667\n"
     ]
    },
    {
     "name": "stdin",
     "output_type": "stream",
     "text": [
      "ipdb>  type(localiz['frb_coord'].ra.deg) \n"
     ]
    },
    {
     "name": "stdout",
     "output_type": "stream",
     "text": [
      "<class 'numpy.float64'>\n"
     ]
    },
    {
     "name": "stdin",
     "output_type": "stream",
     "text": [
      "ipdb>      ra = localiz['frb_coord'].ra.deg + xcoord/3600.\n",
      "ipdb>  ra[0,0]\n"
     ]
    },
    {
     "name": "stdout",
     "output_type": "stream",
     "text": [
      "326.09689583333335\n"
     ]
    },
    {
     "name": "stdin",
     "output_type": "stream",
     "text": [
      "ipdb>  ra[0,0] - localiz['frb_coord'].ra.deg \n"
     ]
    },
    {
     "name": "stdout",
     "output_type": "stream",
     "text": [
      "-0.008333333333325754\n"
     ]
    },
    {
     "name": "stdin",
     "output_type": "stream",
     "text": [
      "ipdb>  3600*(ra[0,0] - localiz['frb_coord'].ra.deg)\n"
     ]
    },
    {
     "name": "stdout",
     "output_type": "stream",
     "text": [
      "-29.999999999972715\n"
     ]
    },
    {
     "name": "stdin",
     "output_type": "stream",
     "text": [
      "ipdb>  exit\n"
     ]
    }
   ],
   "source": [
    "%%time\n",
    "reload(localization)\n",
    "reload(bayesian)\n",
    "#\n",
    "p_xOi = bayesian.px_Oi_fixed(30.,  # box radius for grid, in arcsec\n",
    "                       localiz,\n",
    "                       c_coords,\n",
    "                       priors['offset'], step_size=0.05)\n",
    "#p_xOi"
   ]
  },
  {
   "cell_type": "code",
   "execution_count": 21,
   "metadata": {},
   "outputs": [],
   "source": [
    "candidates['p_xO'] = p_xOi"
   ]
  },
  {
   "cell_type": "code",
   "execution_count": 22,
   "metadata": {},
   "outputs": [
    {
     "data": {
      "text/html": [
       "<div>\n",
       "<style scoped>\n",
       "    .dataframe tbody tr th:only-of-type {\n",
       "        vertical-align: middle;\n",
       "    }\n",
       "\n",
       "    .dataframe tbody tr th {\n",
       "        vertical-align: top;\n",
       "    }\n",
       "\n",
       "    .dataframe thead th {\n",
       "        text-align: right;\n",
       "    }\n",
       "</style>\n",
       "<table border=\"1\" class=\"dataframe\">\n",
       "  <thead>\n",
       "    <tr style=\"text-align: right;\">\n",
       "      <th></th>\n",
       "      <th>ra</th>\n",
       "      <th>dec</th>\n",
       "      <th>half_light</th>\n",
       "      <th>VLT_FORS2_g</th>\n",
       "      <th>P_O_raw</th>\n",
       "      <th>P_O</th>\n",
       "      <th>p_xO</th>\n",
       "    </tr>\n",
       "  </thead>\n",
       "  <tbody>\n",
       "    <tr>\n",
       "      <th>3</th>\n",
       "      <td>326.101738</td>\n",
       "      <td>-40.899771</td>\n",
       "      <td>0.458869</td>\n",
       "      <td>25.295416</td>\n",
       "      <td>73.150261</td>\n",
       "      <td>0.031633</td>\n",
       "      <td>0.992440</td>\n",
       "    </tr>\n",
       "    <tr>\n",
       "      <th>7</th>\n",
       "      <td>326.105365</td>\n",
       "      <td>-40.900239</td>\n",
       "      <td>1.308629</td>\n",
       "      <td>21.319569</td>\n",
       "      <td>2017.091915</td>\n",
       "      <td>0.872255</td>\n",
       "      <td>0.130361</td>\n",
       "    </tr>\n",
       "    <tr>\n",
       "      <th>8</th>\n",
       "      <td>326.104186</td>\n",
       "      <td>-40.900180</td>\n",
       "      <td>0.814683</td>\n",
       "      <td>24.272838</td>\n",
       "      <td>157.983590</td>\n",
       "      <td>0.068317</td>\n",
       "      <td>0.318530</td>\n",
       "    </tr>\n",
       "    <tr>\n",
       "      <th>9</th>\n",
       "      <td>326.106237</td>\n",
       "      <td>-40.899279</td>\n",
       "      <td>0.501247</td>\n",
       "      <td>25.474828</td>\n",
       "      <td>64.277492</td>\n",
       "      <td>0.027796</td>\n",
       "      <td>0.836039</td>\n",
       "    </tr>\n",
       "  </tbody>\n",
       "</table>\n",
       "</div>"
      ],
      "text/plain": [
       "           ra        dec  half_light  VLT_FORS2_g      P_O_raw       P_O  \\\n",
       "3  326.101738 -40.899771    0.458869    25.295416    73.150261  0.031633   \n",
       "7  326.105365 -40.900239    1.308629    21.319569  2017.091915  0.872255   \n",
       "8  326.104186 -40.900180    0.814683    24.272838   157.983590  0.068317   \n",
       "9  326.106237 -40.899279    0.501247    25.474828    64.277492  0.027796   \n",
       "\n",
       "       p_xO  \n",
       "3  0.992440  \n",
       "7  0.130361  \n",
       "8  0.318530  \n",
       "9  0.836039  "
      ]
     },
     "execution_count": 22,
     "metadata": {},
     "output_type": "execute_result"
    }
   ],
   "source": [
    "candidates"
   ]
  },
  {
   "cell_type": "markdown",
   "metadata": {
    "jupyter": {
     "source_hidden": true
    }
   },
   "source": [
    "# $p(x)$"
   ]
  },
  {
   "cell_type": "code",
   "execution_count": 14,
   "metadata": {},
   "outputs": [
    {
     "data": {
      "text/plain": [
       "4.1327985693607774e-06"
      ]
     },
     "execution_count": 14,
     "metadata": {},
     "output_type": "execute_result"
    }
   ],
   "source": [
    "p_x = np.sum(candidates.P_O * candidates.p_xO)\n",
    "p_x"
   ]
  },
  {
   "cell_type": "markdown",
   "metadata": {},
   "source": [
    "# Posteriors $P(O|x)$"
   ]
  },
  {
   "cell_type": "code",
   "execution_count": 15,
   "metadata": {},
   "outputs": [],
   "source": [
    "P_Oix = candidates.P_O * p_xOi / p_x\n",
    "candidates['P_Ox'] = P_Oix"
   ]
  },
  {
   "cell_type": "code",
   "execution_count": 16,
   "metadata": {},
   "outputs": [
    {
     "data": {
      "text/html": [
       "<div>\n",
       "<style scoped>\n",
       "    .dataframe tbody tr th:only-of-type {\n",
       "        vertical-align: middle;\n",
       "    }\n",
       "\n",
       "    .dataframe tbody tr th {\n",
       "        vertical-align: top;\n",
       "    }\n",
       "\n",
       "    .dataframe thead th {\n",
       "        text-align: right;\n",
       "    }\n",
       "</style>\n",
       "<table border=\"1\" class=\"dataframe\">\n",
       "  <thead>\n",
       "    <tr style=\"text-align: right;\">\n",
       "      <th></th>\n",
       "      <th>ra</th>\n",
       "      <th>dec</th>\n",
       "      <th>half_light</th>\n",
       "      <th>VLT_FORS2_g</th>\n",
       "      <th>P_O_raw</th>\n",
       "      <th>P_O</th>\n",
       "      <th>p_xO</th>\n",
       "      <th>P_Ox</th>\n",
       "    </tr>\n",
       "  </thead>\n",
       "  <tbody>\n",
       "    <tr>\n",
       "      <th>3</th>\n",
       "      <td>326.101738</td>\n",
       "      <td>-40.899771</td>\n",
       "      <td>0.458869</td>\n",
       "      <td>25.295416</td>\n",
       "      <td>73.150261</td>\n",
       "      <td>0.031633</td>\n",
       "      <td>0.000000e+00</td>\n",
       "      <td>0.000000e+00</td>\n",
       "    </tr>\n",
       "    <tr>\n",
       "      <th>7</th>\n",
       "      <td>326.105365</td>\n",
       "      <td>-40.900239</td>\n",
       "      <td>1.308629</td>\n",
       "      <td>21.319569</td>\n",
       "      <td>2017.091915</td>\n",
       "      <td>0.872255</td>\n",
       "      <td>4.564015e-06</td>\n",
       "      <td>9.632657e-01</td>\n",
       "    </tr>\n",
       "    <tr>\n",
       "      <th>8</th>\n",
       "      <td>326.104186</td>\n",
       "      <td>-40.900180</td>\n",
       "      <td>0.814683</td>\n",
       "      <td>24.272838</td>\n",
       "      <td>157.983590</td>\n",
       "      <td>0.068317</td>\n",
       "      <td>2.222214e-06</td>\n",
       "      <td>3.673426e-02</td>\n",
       "    </tr>\n",
       "    <tr>\n",
       "      <th>9</th>\n",
       "      <td>326.106237</td>\n",
       "      <td>-40.899279</td>\n",
       "      <td>0.501247</td>\n",
       "      <td>25.474828</td>\n",
       "      <td>64.277492</td>\n",
       "      <td>0.027796</td>\n",
       "      <td>3.099763e-23</td>\n",
       "      <td>2.084783e-19</td>\n",
       "    </tr>\n",
       "  </tbody>\n",
       "</table>\n",
       "</div>"
      ],
      "text/plain": [
       "           ra        dec  half_light  VLT_FORS2_g      P_O_raw       P_O  \\\n",
       "3  326.101738 -40.899771    0.458869    25.295416    73.150261  0.031633   \n",
       "7  326.105365 -40.900239    1.308629    21.319569  2017.091915  0.872255   \n",
       "8  326.104186 -40.900180    0.814683    24.272838   157.983590  0.068317   \n",
       "9  326.106237 -40.899279    0.501247    25.474828    64.277492  0.027796   \n",
       "\n",
       "           p_xO          P_Ox  \n",
       "3  0.000000e+00  0.000000e+00  \n",
       "7  4.564015e-06  9.632657e-01  \n",
       "8  2.222214e-06  3.673426e-02  \n",
       "9  3.099763e-23  2.084783e-19  "
      ]
     },
     "execution_count": 16,
     "metadata": {},
     "output_type": "execute_result"
    }
   ],
   "source": [
    "candidates"
   ]
  },
  {
   "cell_type": "code",
   "execution_count": null,
   "metadata": {},
   "outputs": [],
   "source": []
  }
 ],
 "metadata": {
  "kernelspec": {
   "display_name": "Python 3",
   "language": "python",
   "name": "python3"
  },
  "language_info": {
   "codemirror_mode": {
    "name": "ipython",
    "version": 3
   },
   "file_extension": ".py",
   "mimetype": "text/x-python",
   "name": "python",
   "nbconvert_exporter": "python",
   "pygments_lexer": "ipython3",
   "version": "3.8.5"
  }
 },
 "nbformat": 4,
 "nbformat_minor": 4
}
