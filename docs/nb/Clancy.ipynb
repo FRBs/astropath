{
 "cells": [
  {
   "cell_type": "markdown",
   "id": "df587c99-8e94-4af9-97c4-50fe914fd6fc",
   "metadata": {},
   "source": [
    "# Fussing for Clancy"
   ]
  },
  {
   "cell_type": "code",
   "execution_count": 2,
   "id": "b37e4f97-8eb2-48dc-bb3c-fbf556a7927a",
   "metadata": {},
   "outputs": [],
   "source": [
    "# imports\n",
    "import pandas\n",
    "from importlib import resources\n",
    "import os\n",
    "from frb.frb import FRB\n",
    "\n",
    "from astropath.priors import load_std_priors\n",
    "from astropath.path  import PATH"
   ]
  },
  {
   "cell_type": "markdown",
   "id": "e2cdd62d-7bd8-46cd-a513-3c65e98a89ce",
   "metadata": {},
   "source": [
    "# Load"
   ]
  },
  {
   "cell_type": "code",
   "execution_count": 3,
   "id": "ce809b35-364e-4fcc-9472-3e9cec7a9445",
   "metadata": {},
   "outputs": [],
   "source": [
    "my_frb = FRB.by_name('FRB20181112A')"
   ]
  },
  {
   "cell_type": "code",
   "execution_count": 4,
   "id": "57a6d4a2-635f-453e-b346-c50c1e05060f",
   "metadata": {},
   "outputs": [],
   "source": [
    "ppath = os.path.join(resources.files('frb'), 'data', 'Galaxies', 'PATH')\n",
    "pfile = os.path.join(ppath, f'{my_frb.frb_name}_PATH.csv')\n",
    "ptbl = pandas.read_csv(pfile)"
   ]
  },
  {
   "cell_type": "code",
   "execution_count": 5,
   "id": "14e56124-5d89-4d3f-a741-f082e42b9297",
   "metadata": {},
   "outputs": [
    {
     "data": {
      "text/html": [
       "<div>\n",
       "<style scoped>\n",
       "    .dataframe tbody tr th:only-of-type {\n",
       "        vertical-align: middle;\n",
       "    }\n",
       "\n",
       "    .dataframe tbody tr th {\n",
       "        vertical-align: top;\n",
       "    }\n",
       "\n",
       "    .dataframe thead th {\n",
       "        text-align: right;\n",
       "    }\n",
       "</style>\n",
       "<table border=\"1\" class=\"dataframe\">\n",
       "  <thead>\n",
       "    <tr style=\"text-align: right;\">\n",
       "      <th></th>\n",
       "      <th>Unnamed: 0</th>\n",
       "      <th>label</th>\n",
       "      <th>xcentroid</th>\n",
       "      <th>ycentroid</th>\n",
       "      <th>sky_centroid</th>\n",
       "      <th>bbox_xmin</th>\n",
       "      <th>bbox_xmax</th>\n",
       "      <th>bbox_ymin</th>\n",
       "      <th>bbox_ymax</th>\n",
       "      <th>area</th>\n",
       "      <th>...</th>\n",
       "      <th>separation</th>\n",
       "      <th>ang_size</th>\n",
       "      <th>P_c</th>\n",
       "      <th>Sigma_m</th>\n",
       "      <th>mag</th>\n",
       "      <th>P_O</th>\n",
       "      <th>p_xO</th>\n",
       "      <th>P_Ox</th>\n",
       "      <th>P_Ux</th>\n",
       "      <th>P_U</th>\n",
       "    </tr>\n",
       "  </thead>\n",
       "  <tbody>\n",
       "    <tr>\n",
       "      <th>0</th>\n",
       "      <td>7</td>\n",
       "      <td>8</td>\n",
       "      <td>56.991932</td>\n",
       "      <td>58.993064</td>\n",
       "      <td>NaN</td>\n",
       "      <td>51</td>\n",
       "      <td>63</td>\n",
       "      <td>53</td>\n",
       "      <td>67</td>\n",
       "      <td>123.0</td>\n",
       "      <td>...</td>\n",
       "      <td>0.428627</td>\n",
       "      <td>0.666238</td>\n",
       "      <td>0.061913</td>\n",
       "      <td>0.000579</td>\n",
       "      <td>21.485312</td>\n",
       "      <td>0.078456</td>\n",
       "      <td>1.773427e-02</td>\n",
       "      <td>9.273796e-01</td>\n",
       "      <td>0.0</td>\n",
       "      <td>0.0</td>\n",
       "    </tr>\n",
       "    <tr>\n",
       "      <th>1</th>\n",
       "      <td>8</td>\n",
       "      <td>9</td>\n",
       "      <td>48.844482</td>\n",
       "      <td>77.801460</td>\n",
       "      <td>NaN</td>\n",
       "      <td>38</td>\n",
       "      <td>61</td>\n",
       "      <td>65</td>\n",
       "      <td>90</td>\n",
       "      <td>436.0</td>\n",
       "      <td>...</td>\n",
       "      <td>5.450290</td>\n",
       "      <td>1.057988</td>\n",
       "      <td>0.011065</td>\n",
       "      <td>0.000053</td>\n",
       "      <td>19.098769</td>\n",
       "      <td>0.864243</td>\n",
       "      <td>1.257059e-04</td>\n",
       "      <td>7.241203e-02</td>\n",
       "      <td>0.0</td>\n",
       "      <td>0.0</td>\n",
       "    </tr>\n",
       "    <tr>\n",
       "      <th>2</th>\n",
       "      <td>3</td>\n",
       "      <td>4</td>\n",
       "      <td>59.330280</td>\n",
       "      <td>31.046651</td>\n",
       "      <td>NaN</td>\n",
       "      <td>54</td>\n",
       "      <td>64</td>\n",
       "      <td>26</td>\n",
       "      <td>36</td>\n",
       "      <td>84.0</td>\n",
       "      <td>...</td>\n",
       "      <td>6.920492</td>\n",
       "      <td>0.574254</td>\n",
       "      <td>0.214769</td>\n",
       "      <td>0.000934</td>\n",
       "      <td>22.003945</td>\n",
       "      <td>0.048651</td>\n",
       "      <td>6.410474e-06</td>\n",
       "      <td>2.078764e-04</td>\n",
       "      <td>0.0</td>\n",
       "      <td>0.0</td>\n",
       "    </tr>\n",
       "    <tr>\n",
       "      <th>3</th>\n",
       "      <td>4</td>\n",
       "      <td>5</td>\n",
       "      <td>73.942374</td>\n",
       "      <td>33.956103</td>\n",
       "      <td>NaN</td>\n",
       "      <td>72</td>\n",
       "      <td>76</td>\n",
       "      <td>32</td>\n",
       "      <td>36</td>\n",
       "      <td>19.0</td>\n",
       "      <td>...</td>\n",
       "      <td>7.290851</td>\n",
       "      <td>0.317543</td>\n",
       "      <td>0.761111</td>\n",
       "      <td>0.005256</td>\n",
       "      <td>24.036615</td>\n",
       "      <td>0.008649</td>\n",
       "      <td>8.714528e-08</td>\n",
       "      <td>5.023954e-07</td>\n",
       "      <td>0.0</td>\n",
       "      <td>0.0</td>\n",
       "    </tr>\n",
       "  </tbody>\n",
       "</table>\n",
       "<p>4 rows × 35 columns</p>\n",
       "</div>"
      ],
      "text/plain": [
       "   Unnamed: 0  label  xcentroid  ycentroid  sky_centroid  bbox_xmin  \\\n",
       "0           7      8  56.991932  58.993064           NaN         51   \n",
       "1           8      9  48.844482  77.801460           NaN         38   \n",
       "2           3      4  59.330280  31.046651           NaN         54   \n",
       "3           4      5  73.942374  33.956103           NaN         72   \n",
       "\n",
       "   bbox_xmax  bbox_ymin  bbox_ymax   area  ...  separation  ang_size  \\\n",
       "0         63         53         67  123.0  ...    0.428627  0.666238   \n",
       "1         61         65         90  436.0  ...    5.450290  1.057988   \n",
       "2         64         26         36   84.0  ...    6.920492  0.574254   \n",
       "3         76         32         36   19.0  ...    7.290851  0.317543   \n",
       "\n",
       "        P_c   Sigma_m        mag       P_O          p_xO          P_Ox  P_Ux  \\\n",
       "0  0.061913  0.000579  21.485312  0.078456  1.773427e-02  9.273796e-01   0.0   \n",
       "1  0.011065  0.000053  19.098769  0.864243  1.257059e-04  7.241203e-02   0.0   \n",
       "2  0.214769  0.000934  22.003945  0.048651  6.410474e-06  2.078764e-04   0.0   \n",
       "3  0.761111  0.005256  24.036615  0.008649  8.714528e-08  5.023954e-07   0.0   \n",
       "\n",
       "   P_U  \n",
       "0  0.0  \n",
       "1  0.0  \n",
       "2  0.0  \n",
       "3  0.0  \n",
       "\n",
       "[4 rows x 35 columns]"
      ]
     },
     "execution_count": 5,
     "metadata": {},
     "output_type": "execute_result"
    }
   ],
   "source": [
    "ptbl.head()"
   ]
  },
  {
   "cell_type": "markdown",
   "id": "0f7d41bd-87b4-465a-9b24-eba19b572e6c",
   "metadata": {},
   "source": [
    "# Priors"
   ]
  },
  {
   "cell_type": "code",
   "execution_count": 6,
   "id": "d5c3c44f-56a7-4e0a-b1a1-1604d14e3422",
   "metadata": {},
   "outputs": [],
   "source": [
    "# Load prior\n",
    "priors = load_std_priors()\n",
    "prior = priors['adopted'] # Default"
   ]
  },
  {
   "cell_type": "code",
   "execution_count": 7,
   "id": "3c654a27-4eba-4d45-9b66-203d1fb78d2a",
   "metadata": {},
   "outputs": [],
   "source": [
    "theta_new = dict(method='exp', \n",
    "    max=priors['adopted']['theta']['max'], \n",
    "    scale=0.5)\n",
    "prior['theta'] = theta_new"
   ]
  },
  {
   "cell_type": "markdown",
   "id": "ba94146d-b508-4080-b140-0495899c6301",
   "metadata": {},
   "source": [
    "# Candidates"
   ]
  },
  {
   "cell_type": "code",
   "execution_count": 8,
   "id": "23fb9a55-48ed-498c-b6bb-221f2633e733",
   "metadata": {},
   "outputs": [],
   "source": [
    "candidates = ptbl[['ang_size', 'mag', 'ra', 'dec', 'separation']]"
   ]
  },
  {
   "cell_type": "code",
   "execution_count": 9,
   "id": "fb5988e8-0f63-42f0-a833-d8e72709d32e",
   "metadata": {},
   "outputs": [
    {
     "data": {
      "text/html": [
       "<div>\n",
       "<style scoped>\n",
       "    .dataframe tbody tr th:only-of-type {\n",
       "        vertical-align: middle;\n",
       "    }\n",
       "\n",
       "    .dataframe tbody tr th {\n",
       "        vertical-align: top;\n",
       "    }\n",
       "\n",
       "    .dataframe thead th {\n",
       "        text-align: right;\n",
       "    }\n",
       "</style>\n",
       "<table border=\"1\" class=\"dataframe\">\n",
       "  <thead>\n",
       "    <tr style=\"text-align: right;\">\n",
       "      <th></th>\n",
       "      <th>ang_size</th>\n",
       "      <th>mag</th>\n",
       "      <th>ra</th>\n",
       "      <th>dec</th>\n",
       "      <th>separation</th>\n",
       "    </tr>\n",
       "  </thead>\n",
       "  <tbody>\n",
       "    <tr>\n",
       "      <th>0</th>\n",
       "      <td>0.666238</td>\n",
       "      <td>21.485312</td>\n",
       "      <td>327.348648</td>\n",
       "      <td>-52.970910</td>\n",
       "      <td>0.428627</td>\n",
       "    </tr>\n",
       "    <tr>\n",
       "      <th>1</th>\n",
       "      <td>1.057988</td>\n",
       "      <td>19.098769</td>\n",
       "      <td>327.349594</td>\n",
       "      <td>-52.969594</td>\n",
       "      <td>5.450290</td>\n",
       "    </tr>\n",
       "    <tr>\n",
       "      <th>2</th>\n",
       "      <td>0.574254</td>\n",
       "      <td>22.003945</td>\n",
       "      <td>327.348376</td>\n",
       "      <td>-52.972866</td>\n",
       "      <td>6.920492</td>\n",
       "    </tr>\n",
       "    <tr>\n",
       "      <th>3</th>\n",
       "      <td>0.317543</td>\n",
       "      <td>24.036615</td>\n",
       "      <td>327.346678</td>\n",
       "      <td>-52.972663</td>\n",
       "      <td>7.290851</td>\n",
       "    </tr>\n",
       "  </tbody>\n",
       "</table>\n",
       "</div>"
      ],
      "text/plain": [
       "   ang_size        mag          ra        dec  separation\n",
       "0  0.666238  21.485312  327.348648 -52.970910    0.428627\n",
       "1  1.057988  19.098769  327.349594 -52.969594    5.450290\n",
       "2  0.574254  22.003945  327.348376 -52.972866    6.920492\n",
       "3  0.317543  24.036615  327.346678 -52.972663    7.290851"
      ]
     },
     "execution_count": 9,
     "metadata": {},
     "output_type": "execute_result"
    }
   ],
   "source": [
    "candidates.head()"
   ]
  },
  {
   "cell_type": "code",
   "execution_count": 10,
   "id": "783a301c-0c74-4998-8a48-1777df4e52cc",
   "metadata": {},
   "outputs": [
    {
     "data": {
      "text/plain": [
       "array([21.48531197, 19.09876882, 22.00394499, 24.03661513])"
      ]
     },
     "execution_count": 10,
     "metadata": {},
     "output_type": "execute_result"
    }
   ],
   "source": [
    "candidates.mag.values"
   ]
  },
  {
   "cell_type": "markdown",
   "id": "aec216d5-cbee-4098-8ce2-24994260c5f2",
   "metadata": {},
   "source": [
    "# PATH time"
   ]
  },
  {
   "cell_type": "code",
   "execution_count": 11,
   "id": "e5be321b-7474-4d09-9065-ce8449811c4d",
   "metadata": {},
   "outputs": [],
   "source": [
    "path_181112 = PATH()\n",
    "path_181112.init_candidates(candidates.ra.values,\n",
    "                         candidates.dec.values,\n",
    "                         candidates.ang_size.values,\n",
    "                         mag=candidates.mag.values)\n",
    "path_181112.frb = my_frb"
   ]
  },
  {
   "cell_type": "markdown",
   "id": "18232fd2-8564-49b1-97e7-2089c43a8f69",
   "metadata": {},
   "source": [
    "## Localization"
   ]
  },
  {
   "cell_type": "code",
   "execution_count": 12,
   "id": "4ac631b7-65ca-4df0-b137-e745d5adfe9c",
   "metadata": {},
   "outputs": [],
   "source": [
    "frb_eellipse = dict(a=my_frb.sig_a,\n",
    "                    b=my_frb.sig_b,\n",
    "                    theta=my_frb.eellipse['theta'])"
   ]
  },
  {
   "cell_type": "code",
   "execution_count": 13,
   "id": "d18f736e-e0a3-4c7c-a399-2bab4030f626",
   "metadata": {},
   "outputs": [],
   "source": [
    "path_181112.init_localization('eellipse', \n",
    "                            center_coord=path_181112.frb.coord,\n",
    "                            eellipse=frb_eellipse)"
   ]
  },
  {
   "cell_type": "markdown",
   "id": "21792f29-c86f-4481-8cce-4e6a2d4c9a54",
   "metadata": {},
   "source": [
    "## Priors"
   ]
  },
  {
   "cell_type": "code",
   "execution_count": 14,
   "id": "7c3c901f-f99b-4922-8f00-3e47f68e2a11",
   "metadata": {},
   "outputs": [],
   "source": [
    "path_181112.init_cand_prior('inverse', P_U=prior['U'])\n",
    "path_181112.init_theta_prior(prior['theta']['method'], \n",
    "                            prior['theta']['max'],\n",
    "                            prior['theta']['scale'])"
   ]
  },
  {
   "cell_type": "code",
   "execution_count": 15,
   "id": "f33187f0-b6e9-4066-b1ca-9cbb210043f8",
   "metadata": {},
   "outputs": [
    {
     "data": {
      "text/plain": [
       "array([0.07845585, 0.86424333, 0.04865148, 0.00864934])"
      ]
     },
     "execution_count": 15,
     "metadata": {},
     "output_type": "execute_result"
    }
   ],
   "source": [
    "path_181112.calc_priors()                            "
   ]
  },
  {
   "cell_type": "markdown",
   "id": "dd275481-e2c7-4b13-bc0b-eab6bf0e15b2",
   "metadata": {},
   "source": [
    "## Posterior"
   ]
  },
  {
   "cell_type": "code",
   "execution_count": 16,
   "id": "40fdf838-7677-4ee7-ab38-e0e26ae81024",
   "metadata": {},
   "outputs": [
    {
     "data": {
      "text/plain": [
       "(array([9.27379594e-01, 7.24120274e-02, 2.07876354e-04, 5.02395446e-07]),\n",
       " np.float64(0.0))"
      ]
     },
     "execution_count": 16,
     "metadata": {},
     "output_type": "execute_result"
    }
   ],
   "source": [
    "# Calculate p(O_i|x)\n",
    "debug = True\n",
    "path_181112.calc_posteriors('fixed', \n",
    "                         box_hwidth=10., \n",
    "                         max_radius=10., \n",
    "                         debug=debug)"
   ]
  },
  {
   "cell_type": "code",
   "execution_count": 20,
   "id": "558697f7-0657-4311-a604-6597099ffc38",
   "metadata": {},
   "outputs": [
    {
     "data": {
      "text/html": [
       "<div>\n",
       "<style scoped>\n",
       "    .dataframe tbody tr th:only-of-type {\n",
       "        vertical-align: middle;\n",
       "    }\n",
       "\n",
       "    .dataframe tbody tr th {\n",
       "        vertical-align: top;\n",
       "    }\n",
       "\n",
       "    .dataframe thead th {\n",
       "        text-align: right;\n",
       "    }\n",
       "</style>\n",
       "<table border=\"1\" class=\"dataframe\">\n",
       "  <thead>\n",
       "    <tr style=\"text-align: right;\">\n",
       "      <th></th>\n",
       "      <th>ra</th>\n",
       "      <th>dec</th>\n",
       "      <th>ang_size</th>\n",
       "      <th>mag</th>\n",
       "      <th>P_O</th>\n",
       "      <th>p_xO</th>\n",
       "      <th>P_Ox</th>\n",
       "      <th>P_Ux</th>\n",
       "    </tr>\n",
       "  </thead>\n",
       "  <tbody>\n",
       "    <tr>\n",
       "      <th>0</th>\n",
       "      <td>327.348648</td>\n",
       "      <td>-52.970910</td>\n",
       "      <td>0.666238</td>\n",
       "      <td>21.485312</td>\n",
       "      <td>0.078456</td>\n",
       "      <td>1.773427e-02</td>\n",
       "      <td>9.273796e-01</td>\n",
       "      <td>0.0</td>\n",
       "    </tr>\n",
       "    <tr>\n",
       "      <th>1</th>\n",
       "      <td>327.349594</td>\n",
       "      <td>-52.969594</td>\n",
       "      <td>1.057988</td>\n",
       "      <td>19.098769</td>\n",
       "      <td>0.864243</td>\n",
       "      <td>1.257059e-04</td>\n",
       "      <td>7.241203e-02</td>\n",
       "      <td>0.0</td>\n",
       "    </tr>\n",
       "    <tr>\n",
       "      <th>2</th>\n",
       "      <td>327.348376</td>\n",
       "      <td>-52.972866</td>\n",
       "      <td>0.574254</td>\n",
       "      <td>22.003945</td>\n",
       "      <td>0.048651</td>\n",
       "      <td>6.410474e-06</td>\n",
       "      <td>2.078764e-04</td>\n",
       "      <td>0.0</td>\n",
       "    </tr>\n",
       "    <tr>\n",
       "      <th>3</th>\n",
       "      <td>327.346678</td>\n",
       "      <td>-52.972663</td>\n",
       "      <td>0.317543</td>\n",
       "      <td>24.036615</td>\n",
       "      <td>0.008649</td>\n",
       "      <td>8.714528e-08</td>\n",
       "      <td>5.023954e-07</td>\n",
       "      <td>0.0</td>\n",
       "    </tr>\n",
       "  </tbody>\n",
       "</table>\n",
       "</div>"
      ],
      "text/plain": [
       "           ra        dec  ang_size        mag       P_O          p_xO  \\\n",
       "0  327.348648 -52.970910  0.666238  21.485312  0.078456  1.773427e-02   \n",
       "1  327.349594 -52.969594  1.057988  19.098769  0.864243  1.257059e-04   \n",
       "2  327.348376 -52.972866  0.574254  22.003945  0.048651  6.410474e-06   \n",
       "3  327.346678 -52.972663  0.317543  24.036615  0.008649  8.714528e-08   \n",
       "\n",
       "           P_Ox  P_Ux  \n",
       "0  9.273796e-01   0.0  \n",
       "1  7.241203e-02   0.0  \n",
       "2  2.078764e-04   0.0  \n",
       "3  5.023954e-07   0.0  "
      ]
     },
     "execution_count": 20,
     "metadata": {},
     "output_type": "execute_result"
    }
   ],
   "source": [
    "path_181112.candidates.sort_values('P_Ox', ascending=False)"
   ]
  },
  {
   "cell_type": "code",
   "execution_count": null,
   "id": "3eb9fc28-5231-4d3e-afa1-a82de5936024",
   "metadata": {},
   "outputs": [],
   "source": []
  }
 ],
 "metadata": {
  "kernelspec": {
   "display_name": "Python 3 (ipykernel)",
   "language": "python",
   "name": "python3"
  },
  "language_info": {
   "codemirror_mode": {
    "name": "ipython",
    "version": 3
   },
   "file_extension": ".py",
   "mimetype": "text/x-python",
   "name": "python",
   "nbconvert_exporter": "python",
   "pygments_lexer": "ipython3",
   "version": "3.12.5"
  }
 },
 "nbformat": 4,
 "nbformat_minor": 5
}
