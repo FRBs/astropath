{
 "cells": [
  {
   "cell_type": "markdown",
   "id": "3b3908fb-1d85-4b84-b590-6d5f12dba533",
   "metadata": {},
   "source": [
    "# Exploring $P(U)$ Further  (with Healpix)"
   ]
  },
  {
   "cell_type": "code",
   "execution_count": 61,
   "id": "36ae0025-9282-4462-a544-5e7e89a99ee5",
   "metadata": {},
   "outputs": [],
   "source": [
    "# imports\n",
    "import os\n",
    "from pkg_resources import resource_filename\n",
    "\n",
    "import numpy as np\n",
    "import pandas\n",
    "\n",
    "import astropy_healpix\n",
    "\n",
    "from astropy.table import Table\n",
    "from astropy.io import fits\n",
    "from astropy.coordinates import SkyCoord\n",
    "\n",
    "from astropath import priors\n",
    "from astropath import path\n",
    "\n",
    "from frb.frb import FRB"
   ]
  },
  {
   "cell_type": "markdown",
   "id": "91aefcf1-2e83-43fa-8c40-ce395bea1137",
   "metadata": {},
   "source": [
    "# Config"
   ]
  },
  {
   "cell_type": "code",
   "execution_count": 15,
   "id": "1c6fd48f-2fe3-4b66-941f-15eec646381c",
   "metadata": {},
   "outputs": [],
   "source": [
    "base_config = dict(\n",
    "    max_radius=10.,\n",
    "    cut_size=None,\n",
    "    deblend=False,\n",
    "    cand_bright=None,\n",
    "    cand_separation=None,\n",
    "    skip_bayesian=False,\n",
    "    posterior_method='fixed',\n",
    "    npixels=9,\n",
    ")\n",
    "#\n",
    "# FRB 20201123A (MeerTRAP;  Rajwade+2022)\n",
    "updates = dict(\n",
    "    name='FRB20201123A',\n",
    "    hpix_file = os.path.join(resource_filename('frb', 'data'), \n",
    "                             'FRBs', 'healpix',\n",
    "                             'FRB20201123A_hpix_uniform.fits.gz'),\n",
    "    cand_file=os.path.join(resource_filename('frb', 'data'),\n",
    "                           'Galaxies', '20201123A',\n",
    "                            'FRB20201123A_path_candidates.csv'),\n",
    "    PU = 0.1, # Prior\n",
    "    posterior_method='local',\n",
    "    cut_size = 30.,\n",
    "    filter = 'GMOS-r',\n",
    ")\n",
    "\n",
    "config = {**base_config, **updates} "
   ]
  },
  {
   "cell_type": "markdown",
   "id": "3fefa547-9b70-4623-86dc-61754c7242f7",
   "metadata": {},
   "source": [
    "# FRB"
   ]
  },
  {
   "cell_type": "code",
   "execution_count": 65,
   "id": "51109fc9-5c37-491c-ba2b-1951c89635c6",
   "metadata": {},
   "outputs": [],
   "source": [
    "ifrb = FRB.by_name(config['name'])"
   ]
  },
  {
   "cell_type": "markdown",
   "id": "94b24463-e938-45f8-9cf5-0d8d54a66afa",
   "metadata": {},
   "source": [
    "# PATH object"
   ]
  },
  {
   "cell_type": "code",
   "execution_count": 69,
   "id": "09e83c91-7ac5-4482-8e13-c34c3e907257",
   "metadata": {},
   "outputs": [],
   "source": [
    "path_obj = path.PATH()\n",
    "path_obj.frb = ifrb"
   ]
  },
  {
   "cell_type": "markdown",
   "id": "1830bda7-1130-4148-9b80-396b71d39ed2",
   "metadata": {},
   "source": [
    "# Load Candidates"
   ]
  },
  {
   "cell_type": "code",
   "execution_count": 70,
   "id": "dc281796-8f06-428e-9268-87594701146c",
   "metadata": {},
   "outputs": [],
   "source": [
    "# Read\n",
    "path_obj.candidates = pandas.read_csv(config['cand_file'])\n",
    "# Coords\n",
    "path_obj.coords = SkyCoord(ra=path_obj.candidates.ra.values,\n",
    "                           dec=path_obj.candidates.dec.values,\n",
    "                           unit='deg')\n",
    "# Add separation?\n",
    "if 'separation' not in path_obj.candidates.keys():\n",
    "    seps = path_obj.frb.coord.separation(path_obj.coords)\n",
    "    path_obj.candidates['separation'] = seps.to('arcsec').value"
   ]
  },
  {
   "cell_type": "markdown",
   "id": "3681ce05-cbc9-41d8-a700-1eb2608b6a35",
   "metadata": {},
   "source": [
    "## Coords"
   ]
  },
  {
   "cell_type": "code",
   "execution_count": 94,
   "id": "7d8a12ed-a643-48c8-bd54-17e220a4c901",
   "metadata": {},
   "outputs": [],
   "source": [
    "path_obj.init_cand_coords()"
   ]
  },
  {
   "cell_type": "markdown",
   "id": "4f31e8bd-0180-447e-8b22-cd78a39b5785",
   "metadata": {},
   "source": [
    "# Priors"
   ]
  },
  {
   "cell_type": "code",
   "execution_count": 137,
   "id": "fdf36a38-f7a4-4b26-8160-9dc05d1afc4c",
   "metadata": {},
   "outputs": [
    {
     "data": {
      "text/plain": [
       "{'theta': {'method': 'exp', 'max': 6.0, 'scale': 0.5},\n",
       " 'O': 'inverse',\n",
       " 'U': 0.1,\n",
       " 'name': 'Adopted',\n",
       " 'nhalf': 10.0}"
      ]
     },
     "execution_count": 137,
     "metadata": {},
     "output_type": "execute_result"
    }
   ],
   "source": [
    "prior = priors.load_std_priors()['adopted']\n",
    "prior['theta']['scale'] = 0.5\n",
    "prior['U'] = 0.1 # \n",
    "# \n",
    "prior"
   ]
  },
  {
   "cell_type": "markdown",
   "id": "fc9c0d88-b83d-4750-802c-280554f29480",
   "metadata": {},
   "source": [
    "## Calcs"
   ]
  },
  {
   "cell_type": "code",
   "execution_count": 138,
   "id": "13add491-2591-40de-9bbd-4a63a978a39f",
   "metadata": {},
   "outputs": [],
   "source": [
    "# Set priors\n",
    "path_obj.init_cand_prior('inverse', P_U=prior['U'])\n",
    "path_obj.init_theta_prior(prior['theta']['method'], \n",
    "                            prior['theta']['max'],\n",
    "                            prior['theta']['scale'])\n"
   ]
  },
  {
   "cell_type": "code",
   "execution_count": 139,
   "id": "97af13ff-58ad-4594-ad23-813696f17f6a",
   "metadata": {},
   "outputs": [
    {
     "data": {
      "text/plain": [
       "array([0.8372987 , 0.00591807, 0.00263919, 0.0078417 , 0.00160889,\n",
       "       0.01425449, 0.03043895])"
      ]
     },
     "execution_count": 139,
     "metadata": {},
     "output_type": "execute_result"
    }
   ],
   "source": [
    "P_O = path_obj.calc_priors()                            \n",
    "P_O"
   ]
  },
  {
   "cell_type": "code",
   "execution_count": 140,
   "id": "315525d7-1447-46fb-af26-bff179883f54",
   "metadata": {},
   "outputs": [
    {
     "data": {
      "text/html": [
       "<div>\n",
       "<style scoped>\n",
       "    .dataframe tbody tr th:only-of-type {\n",
       "        vertical-align: middle;\n",
       "    }\n",
       "\n",
       "    .dataframe tbody tr th {\n",
       "        vertical-align: top;\n",
       "    }\n",
       "\n",
       "    .dataframe thead th {\n",
       "        text-align: right;\n",
       "    }\n",
       "</style>\n",
       "<table border=\"1\" class=\"dataframe\">\n",
       "  <thead>\n",
       "    <tr style=\"text-align: right;\">\n",
       "      <th></th>\n",
       "      <th>ra</th>\n",
       "      <th>dec</th>\n",
       "      <th>ang_size</th>\n",
       "      <th>mag</th>\n",
       "      <th>separation</th>\n",
       "      <th>P_O</th>\n",
       "      <th>p_xO</th>\n",
       "      <th>P_Ox</th>\n",
       "    </tr>\n",
       "  </thead>\n",
       "  <tbody>\n",
       "    <tr>\n",
       "      <th>2</th>\n",
       "      <td>263.65963</td>\n",
       "      <td>-50.76407</td>\n",
       "      <td>1.75</td>\n",
       "      <td>16.041294</td>\n",
       "      <td>27.790394</td>\n",
       "      <td>0.837299</td>\n",
       "      <td>0.000463</td>\n",
       "      <td>0.649412</td>\n",
       "    </tr>\n",
       "    <tr>\n",
       "      <th>4</th>\n",
       "      <td>263.65821</td>\n",
       "      <td>-50.76454</td>\n",
       "      <td>0.20</td>\n",
       "      <td>20.431294</td>\n",
       "      <td>31.431113</td>\n",
       "      <td>0.005918</td>\n",
       "      <td>0.000460</td>\n",
       "      <td>0.004560</td>\n",
       "    </tr>\n",
       "    <tr>\n",
       "      <th>7</th>\n",
       "      <td>263.65972</td>\n",
       "      <td>-50.76561</td>\n",
       "      <td>0.15</td>\n",
       "      <td>21.261294</td>\n",
       "      <td>30.916794</td>\n",
       "      <td>0.002639</td>\n",
       "      <td>0.000460</td>\n",
       "      <td>0.002034</td>\n",
       "    </tr>\n",
       "    <tr>\n",
       "      <th>9</th>\n",
       "      <td>263.66119</td>\n",
       "      <td>-50.76641</td>\n",
       "      <td>0.21</td>\n",
       "      <td>20.151294</td>\n",
       "      <td>30.577024</td>\n",
       "      <td>0.007842</td>\n",
       "      <td>0.000460</td>\n",
       "      <td>0.006042</td>\n",
       "    </tr>\n",
       "    <tr>\n",
       "      <th>13</th>\n",
       "      <td>263.66322</td>\n",
       "      <td>-50.76732</td>\n",
       "      <td>0.63</td>\n",
       "      <td>21.791294</td>\n",
       "      <td>30.541401</td>\n",
       "      <td>0.001609</td>\n",
       "      <td>0.000460</td>\n",
       "      <td>0.001240</td>\n",
       "    </tr>\n",
       "    <tr>\n",
       "      <th>18</th>\n",
       "      <td>263.66128</td>\n",
       "      <td>-50.76787</td>\n",
       "      <td>0.24</td>\n",
       "      <td>19.571294</td>\n",
       "      <td>34.597137</td>\n",
       "      <td>0.014254</td>\n",
       "      <td>0.000460</td>\n",
       "      <td>0.010984</td>\n",
       "    </tr>\n",
       "    <tr>\n",
       "      <th>29</th>\n",
       "      <td>263.66560</td>\n",
       "      <td>-50.77039</td>\n",
       "      <td>0.28</td>\n",
       "      <td>18.861294</td>\n",
       "      <td>38.722546</td>\n",
       "      <td>0.030439</td>\n",
       "      <td>0.000460</td>\n",
       "      <td>0.023454</td>\n",
       "    </tr>\n",
       "  </tbody>\n",
       "</table>\n",
       "</div>"
      ],
      "text/plain": [
       "           ra       dec  ang_size        mag  separation       P_O      p_xO  \\\n",
       "2   263.65963 -50.76407      1.75  16.041294   27.790394  0.837299  0.000463   \n",
       "4   263.65821 -50.76454      0.20  20.431294   31.431113  0.005918  0.000460   \n",
       "7   263.65972 -50.76561      0.15  21.261294   30.916794  0.002639  0.000460   \n",
       "9   263.66119 -50.76641      0.21  20.151294   30.577024  0.007842  0.000460   \n",
       "13  263.66322 -50.76732      0.63  21.791294   30.541401  0.001609  0.000460   \n",
       "18  263.66128 -50.76787      0.24  19.571294   34.597137  0.014254  0.000460   \n",
       "29  263.66560 -50.77039      0.28  18.861294   38.722546  0.030439  0.000460   \n",
       "\n",
       "        P_Ox  \n",
       "2   0.649412  \n",
       "4   0.004560  \n",
       "7   0.002034  \n",
       "9   0.006042  \n",
       "13  0.001240  \n",
       "18  0.010984  \n",
       "29  0.023454  "
      ]
     },
     "execution_count": 140,
     "metadata": {},
     "output_type": "execute_result"
    }
   ],
   "source": [
    "path_obj.candidates"
   ]
  },
  {
   "cell_type": "code",
   "execution_count": 141,
   "id": "c39c6d85-d964-4928-a4f4-b995eb3a4b4c",
   "metadata": {},
   "outputs": [
    {
     "data": {
      "text/plain": [
       "0.9"
      ]
     },
     "execution_count": 141,
     "metadata": {},
     "output_type": "execute_result"
    }
   ],
   "source": [
    "np.sum(path_obj.candidates.P_O)"
   ]
  },
  {
   "cell_type": "markdown",
   "id": "55027d07-adb1-4e47-b845-cc2dc6470a5b",
   "metadata": {},
   "source": [
    "# Localization"
   ]
  },
  {
   "cell_type": "code",
   "execution_count": 142,
   "id": "37c27d52-534b-45d0-9478-d4ef779bbedf",
   "metadata": {},
   "outputs": [],
   "source": [
    "# Load healpix\n",
    "hpix = Table.read(config['hpix_file'])\n",
    "header = fits.open(config['hpix_file'])[1].header\n",
    "nside = 2**header['MOCORDER']"
   ]
  },
  {
   "cell_type": "markdown",
   "id": "9525625a-ac93-4b94-8fb7-242b6a58c630",
   "metadata": {},
   "source": [
    "## Check normalization"
   ]
  },
  {
   "cell_type": "code",
   "execution_count": 143,
   "id": "4dbf639e-f0d5-47b4-bb2f-b88d5bc05f1e",
   "metadata": {},
   "outputs": [
    {
     "data": {
      "text/plain": [
       "52786.0"
      ]
     },
     "execution_count": 143,
     "metadata": {},
     "output_type": "execute_result"
    }
   ],
   "source": [
    "np.sum(hpix['PROBDENSITY'])"
   ]
  },
  {
   "cell_type": "markdown",
   "id": "dc28adf4-479c-4410-9580-c230cb6dce08",
   "metadata": {},
   "source": [
    "## Normalize"
   ]
  },
  {
   "cell_type": "code",
   "execution_count": 144,
   "id": "4fbccea2-4c18-48ec-9f66-e087361e739d",
   "metadata": {},
   "outputs": [],
   "source": [
    "healpix = astropy_healpix.HEALPix(nside=nside)"
   ]
  },
  {
   "cell_type": "code",
   "execution_count": 145,
   "id": "557911de-0b6d-4287-874e-02e5f2cf3bd6",
   "metadata": {},
   "outputs": [
    {
     "data": {
      "text/plain": [
       "0.040520897663894"
      ]
     },
     "execution_count": 145,
     "metadata": {},
     "output_type": "execute_result"
    }
   ],
   "source": [
    "healpix.pixel_area.to('arcsec**2').value"
   ]
  },
  {
   "cell_type": "code",
   "execution_count": 146,
   "id": "d2e01599-1694-4324-b561-bd3d9aed998e",
   "metadata": {},
   "outputs": [],
   "source": [
    "heal_area = healpix.pixel_area.to('arcsec**2').value"
   ]
  },
  {
   "cell_type": "code",
   "execution_count": 147,
   "id": "eaaee0c6-0805-455e-ad04-fcada04b4b39",
   "metadata": {},
   "outputs": [
    {
     "data": {
      "text/plain": [
       "2138.9361040863087"
      ]
     },
     "execution_count": 147,
     "metadata": {},
     "output_type": "execute_result"
    }
   ],
   "source": [
    "norm =  np.sum(hpix['PROBDENSITY']) *  healpix.pixel_area.to('arcsec**2').value\n",
    "norm"
   ]
  },
  {
   "cell_type": "code",
   "execution_count": 148,
   "id": "b019342a-8a86-4797-a4e2-935273e788c0",
   "metadata": {},
   "outputs": [],
   "source": [
    "hpix_norm = hpix.copy()\n",
    "hpix_norm['PROBDENSITY'] /= norm"
   ]
  },
  {
   "cell_type": "markdown",
   "id": "a75cc5d6-3265-4899-9fbb-2e3f6eb574b6",
   "metadata": {},
   "source": [
    "## Init"
   ]
  },
  {
   "cell_type": "code",
   "execution_count": 149,
   "id": "e15af832-ec4b-48a0-a860-c993a5935388",
   "metadata": {},
   "outputs": [],
   "source": [
    "localiz = dict(type='healpix',\n",
    "            healpix_data=hpix_norm, \n",
    "            healpix_nside=nside,\n",
    "            healpix_ordering='NUNIQ',\n",
    "            healpix_coord='C')            \n",
    "path_obj.init_localization('healpix', **localiz)"
   ]
  },
  {
   "cell_type": "markdown",
   "id": "35070dee-0313-4033-a0ed-e94c58805cb7",
   "metadata": {},
   "source": [
    "# Posteriors"
   ]
  },
  {
   "cell_type": "markdown",
   "id": "c67fd169-eb0c-4824-b6fc-fc16d53eb086",
   "metadata": {},
   "source": [
    "## Set max_radius \n",
    "\n",
    "#### This should be the box_width of the equivalent area of the uniform localization region"
   ]
  },
  {
   "cell_type": "code",
   "execution_count": 150,
   "id": "ab38cb89-26dd-4410-873c-48af2f080772",
   "metadata": {},
   "outputs": [
    {
     "data": {
      "text/plain": [
       "23.124316768751832"
      ]
     },
     "execution_count": 150,
     "metadata": {},
     "output_type": "execute_result"
    }
   ],
   "source": [
    "path_obj.max_radius = np.sqrt(heal_area * np.sum(hpix['PROBDENSITY'] > 0)) / 2.\n",
    "path_obj.max_radius"
   ]
  },
  {
   "cell_type": "code",
   "execution_count": 151,
   "id": "9642a4fd-1754-4ede-a4e5-8a6b99989d12",
   "metadata": {},
   "outputs": [
    {
     "data": {
      "text/plain": [
       "Index(['ra', 'dec', 'ang_size', 'mag', 'separation', 'P_O', 'p_xO', 'P_Ox'], dtype='object')"
      ]
     },
     "execution_count": 151,
     "metadata": {},
     "output_type": "execute_result"
    }
   ],
   "source": [
    "path_obj.candidates.keys()"
   ]
  },
  {
   "cell_type": "code",
   "execution_count": 152,
   "id": "642da780-5870-41d4-a99a-13e5b4cc7512",
   "metadata": {},
   "outputs": [
    {
     "data": {
      "text/plain": [
       "0.10097678687518034"
      ]
     },
     "execution_count": 152,
     "metadata": {},
     "output_type": "execute_result"
    }
   ],
   "source": [
    "P_Ox, P_Ux = path_obj.calc_posteriors('local', \n",
    "                         box_hwidth=path_obj.max_radius,\n",
    "                         max_radius=path_obj.max_radius)\n",
    "#\n",
    "P_Ux"
   ]
  },
  {
   "cell_type": "markdown",
   "id": "6a3a16a5-8e46-448a-beb2-ca7649cac4ec",
   "metadata": {},
   "source": [
    "## Show"
   ]
  },
  {
   "cell_type": "code",
   "execution_count": 153,
   "id": "09e1f162-8d45-47c2-970e-8a4503c5d0d7",
   "metadata": {},
   "outputs": [
    {
     "data": {
      "text/html": [
       "<div>\n",
       "<style scoped>\n",
       "    .dataframe tbody tr th:only-of-type {\n",
       "        vertical-align: middle;\n",
       "    }\n",
       "\n",
       "    .dataframe tbody tr th {\n",
       "        vertical-align: top;\n",
       "    }\n",
       "\n",
       "    .dataframe thead th {\n",
       "        text-align: right;\n",
       "    }\n",
       "</style>\n",
       "<table border=\"1\" class=\"dataframe\">\n",
       "  <thead>\n",
       "    <tr style=\"text-align: right;\">\n",
       "      <th></th>\n",
       "      <th>ra</th>\n",
       "      <th>dec</th>\n",
       "      <th>ang_size</th>\n",
       "      <th>mag</th>\n",
       "      <th>separation</th>\n",
       "      <th>P_O</th>\n",
       "      <th>p_xO</th>\n",
       "      <th>P_Ox</th>\n",
       "    </tr>\n",
       "  </thead>\n",
       "  <tbody>\n",
       "    <tr>\n",
       "      <th>2</th>\n",
       "      <td>263.65963</td>\n",
       "      <td>-50.76407</td>\n",
       "      <td>1.75</td>\n",
       "      <td>16.041294</td>\n",
       "      <td>27.790394</td>\n",
       "      <td>0.837299</td>\n",
       "      <td>0.000463</td>\n",
       "      <td>0.836771</td>\n",
       "    </tr>\n",
       "    <tr>\n",
       "      <th>4</th>\n",
       "      <td>263.65821</td>\n",
       "      <td>-50.76454</td>\n",
       "      <td>0.20</td>\n",
       "      <td>20.431294</td>\n",
       "      <td>31.431113</td>\n",
       "      <td>0.005918</td>\n",
       "      <td>0.000460</td>\n",
       "      <td>0.005876</td>\n",
       "    </tr>\n",
       "    <tr>\n",
       "      <th>7</th>\n",
       "      <td>263.65972</td>\n",
       "      <td>-50.76561</td>\n",
       "      <td>0.15</td>\n",
       "      <td>21.261294</td>\n",
       "      <td>30.916794</td>\n",
       "      <td>0.002639</td>\n",
       "      <td>0.000460</td>\n",
       "      <td>0.002620</td>\n",
       "    </tr>\n",
       "    <tr>\n",
       "      <th>9</th>\n",
       "      <td>263.66119</td>\n",
       "      <td>-50.76641</td>\n",
       "      <td>0.21</td>\n",
       "      <td>20.151294</td>\n",
       "      <td>30.577024</td>\n",
       "      <td>0.007842</td>\n",
       "      <td>0.000460</td>\n",
       "      <td>0.007786</td>\n",
       "    </tr>\n",
       "    <tr>\n",
       "      <th>13</th>\n",
       "      <td>263.66322</td>\n",
       "      <td>-50.76732</td>\n",
       "      <td>0.63</td>\n",
       "      <td>21.791294</td>\n",
       "      <td>30.541401</td>\n",
       "      <td>0.001609</td>\n",
       "      <td>0.000460</td>\n",
       "      <td>0.001597</td>\n",
       "    </tr>\n",
       "    <tr>\n",
       "      <th>18</th>\n",
       "      <td>263.66128</td>\n",
       "      <td>-50.76787</td>\n",
       "      <td>0.24</td>\n",
       "      <td>19.571294</td>\n",
       "      <td>34.597137</td>\n",
       "      <td>0.014254</td>\n",
       "      <td>0.000460</td>\n",
       "      <td>0.014152</td>\n",
       "    </tr>\n",
       "    <tr>\n",
       "      <th>29</th>\n",
       "      <td>263.66560</td>\n",
       "      <td>-50.77039</td>\n",
       "      <td>0.28</td>\n",
       "      <td>18.861294</td>\n",
       "      <td>38.722546</td>\n",
       "      <td>0.030439</td>\n",
       "      <td>0.000460</td>\n",
       "      <td>0.030221</td>\n",
       "    </tr>\n",
       "  </tbody>\n",
       "</table>\n",
       "</div>"
      ],
      "text/plain": [
       "           ra       dec  ang_size        mag  separation       P_O      p_xO  \\\n",
       "2   263.65963 -50.76407      1.75  16.041294   27.790394  0.837299  0.000463   \n",
       "4   263.65821 -50.76454      0.20  20.431294   31.431113  0.005918  0.000460   \n",
       "7   263.65972 -50.76561      0.15  21.261294   30.916794  0.002639  0.000460   \n",
       "9   263.66119 -50.76641      0.21  20.151294   30.577024  0.007842  0.000460   \n",
       "13  263.66322 -50.76732      0.63  21.791294   30.541401  0.001609  0.000460   \n",
       "18  263.66128 -50.76787      0.24  19.571294   34.597137  0.014254  0.000460   \n",
       "29  263.66560 -50.77039      0.28  18.861294   38.722546  0.030439  0.000460   \n",
       "\n",
       "        P_Ox  \n",
       "2   0.836771  \n",
       "4   0.005876  \n",
       "7   0.002620  \n",
       "9   0.007786  \n",
       "13  0.001597  \n",
       "18  0.014152  \n",
       "29  0.030221  "
      ]
     },
     "execution_count": 153,
     "metadata": {},
     "output_type": "execute_result"
    }
   ],
   "source": [
    "path_obj.candidates"
   ]
  },
  {
   "cell_type": "code",
   "execution_count": null,
   "id": "d29312bb-3799-40d3-9a30-64afe6f87c41",
   "metadata": {},
   "outputs": [],
   "source": []
  }
 ],
 "metadata": {
  "kernelspec": {
   "display_name": "Python 3 (ipykernel)",
   "language": "python",
   "name": "python3"
  },
  "language_info": {
   "codemirror_mode": {
    "name": "ipython",
    "version": 3
   },
   "file_extension": ".py",
   "mimetype": "text/x-python",
   "name": "python",
   "nbconvert_exporter": "python",
   "pygments_lexer": "ipython3",
   "version": "3.9.7"
  }
 },
 "nbformat": 4,
 "nbformat_minor": 5
}
