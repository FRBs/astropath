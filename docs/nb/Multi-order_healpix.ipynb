{
 "cells": [
  {
   "cell_type": "markdown",
   "metadata": {},
   "source": [
    "# Multi-order Healpix"
   ]
  },
  {
   "cell_type": "code",
   "execution_count": 73,
   "metadata": {},
   "outputs": [],
   "source": [
    "# imports\n",
    "import numpy as np\n",
    "\n",
    "import healpy \n",
    "\n",
    "from astropy import units\n",
    "from astropy.coordinates import SkyCoord\n",
    "from astropy.coordinates import Angle\n",
    "from astropy.table import Table\n",
    "from astropy.io import fits\n",
    "\n",
    "import astropy_healpix\n",
    "\n",
    "from matplotlib import pyplot as plt\n",
    "\n",
    "from ligo.skymap.io.fits import write_sky_map\n",
    "import tempfile\n",
    "#from mocpy import MOC"
   ]
  },
  {
   "cell_type": "markdown",
   "metadata": {},
   "source": [
    "# Set nside"
   ]
  },
  {
   "cell_type": "code",
   "execution_count": 2,
   "metadata": {},
   "outputs": [
    {
     "data": {
      "text/plain": [
       "2097152"
      ]
     },
     "execution_count": 2,
     "metadata": {},
     "output_type": "execute_result"
    }
   ],
   "source": [
    "nside = astropy_healpix.pixel_resolution_to_nside(0.1*units.arcsec)\n",
    "nside"
   ]
  },
  {
   "cell_type": "code",
   "execution_count": 17,
   "metadata": {},
   "outputs": [
    {
     "data": {
      "text/plain": [
       "21"
      ]
     },
     "execution_count": 17,
     "metadata": {},
     "output_type": "execute_result"
    }
   ],
   "source": [
    "level = int(np.log2(nside))\n",
    "level"
   ]
  },
  {
   "cell_type": "markdown",
   "metadata": {},
   "source": [
    "## This seems one number to low.."
   ]
  },
  {
   "cell_type": "markdown",
   "metadata": {},
   "source": [
    "# FRB localization centroid (fake)"
   ]
  },
  {
   "cell_type": "code",
   "execution_count": 4,
   "metadata": {},
   "outputs": [],
   "source": [
    "frb_cen = SkyCoord(ra=326.1052292, dec=-40.9000278, unit='deg')"
   ]
  },
  {
   "cell_type": "code",
   "execution_count": 7,
   "metadata": {},
   "outputs": [],
   "source": [
    "pa_FRB = Angle(45, units.deg)\n",
    "a_FRB = Angle(0.4, units.arcsec)\n",
    "b_FRB = Angle(0.3, units.arcsec)"
   ]
  },
  {
   "cell_type": "markdown",
   "metadata": {},
   "source": [
    "# Find pixel indices inside the localization\n",
    "\n",
    "    https://zonca.dev/2020/10/example-healpy-query_disc.html"
   ]
  },
  {
   "cell_type": "code",
   "execution_count": 26,
   "metadata": {},
   "outputs": [],
   "source": [
    "lon_FRB = frb_cen.galactic.l.deg\n",
    "lat_FRB = frb_cen.galactic.b.deg\n",
    "vec = healpy.ang2vec(lon_FRB, lat_FRB, lonlat=True)"
   ]
  },
  {
   "cell_type": "code",
   "execution_count": 43,
   "metadata": {},
   "outputs": [
    {
     "data": {
      "text/plain": [
       "(0.7424470849499389, -49.414664083389745)"
      ]
     },
     "execution_count": 43,
     "metadata": {},
     "output_type": "execute_result"
    }
   ],
   "source": [
    "lon_FRB, lat_FRB"
   ]
  },
  {
   "cell_type": "markdown",
   "metadata": {},
   "source": [
    "## Grab the pixels"
   ]
  },
  {
   "cell_type": "code",
   "execution_count": 20,
   "metadata": {},
   "outputs": [],
   "source": [
    "ipix = healpy.query_disc(nside, vec, radius=3*a_FRB.to('rad').value)"
   ]
  },
  {
   "cell_type": "code",
   "execution_count": 22,
   "metadata": {},
   "outputs": [
    {
     "data": {
      "text/plain": [
       "448"
      ]
     },
     "execution_count": 22,
     "metadata": {},
     "output_type": "execute_result"
    }
   ],
   "source": [
    "len(ipix)"
   ]
  },
  {
   "cell_type": "markdown",
   "metadata": {},
   "source": [
    "## UNIQ"
   ]
  },
  {
   "cell_type": "code",
   "execution_count": 25,
   "metadata": {},
   "outputs": [
    {
     "data": {
      "text/plain": [
       "array([64020621899339, 64020621899340, 64020621899341, 64020621899342,\n",
       "       64020629025693, 64020629025694, 64020629025695, 64020629025696,\n",
       "       64020629025697, 64020629025698], dtype=int64)"
      ]
     },
     "execution_count": 25,
     "metadata": {},
     "output_type": "execute_result"
    }
   ],
   "source": [
    "uniq = astropy_healpix.level_ipix_to_uniq(level, ipix)\n",
    "uniq[0:10]"
   ]
  },
  {
   "cell_type": "markdown",
   "metadata": {},
   "source": [
    "## Healpix coordinates"
   ]
  },
  {
   "cell_type": "code",
   "execution_count": 50,
   "metadata": {},
   "outputs": [],
   "source": [
    "lon_pix, lat_pix = astropy_healpix.healpix_to_lonlat(ipix, nside)#, order='nested')"
   ]
  },
  {
   "cell_type": "code",
   "execution_count": 51,
   "metadata": {},
   "outputs": [
    {
     "data": {
      "text/plain": [
       "(<Longitude 0.01295815 rad>, <Latitude -0.86244859 rad>)"
      ]
     },
     "execution_count": 51,
     "metadata": {},
     "output_type": "execute_result"
    }
   ],
   "source": [
    "frb_cen.galactic.l.to('rad'), frb_cen.galactic.b.to('rad')"
   ]
  },
  {
   "cell_type": "code",
   "execution_count": 52,
   "metadata": {},
   "outputs": [
    {
     "data": {
      "text/plain": [
       "(<Longitude 0.01295677 rad>, <Latitude -0.86244292 rad>)"
      ]
     },
     "execution_count": 52,
     "metadata": {},
     "output_type": "execute_result"
    }
   ],
   "source": [
    "lon_pix[0], lat_pix[0]"
   ]
  },
  {
   "cell_type": "code",
   "execution_count": 54,
   "metadata": {},
   "outputs": [],
   "source": [
    "heal_coord = SkyCoord(lon_pix, lat_pix, frame='galactic')"
   ]
  },
  {
   "cell_type": "code",
   "execution_count": 55,
   "metadata": {},
   "outputs": [
    {
     "data": {
      "text/plain": [
       "<SkyCoord (Galactic): (l, b) in deg\n",
       "    (0.74236819, -49.41433935)>"
      ]
     },
     "execution_count": 55,
     "metadata": {},
     "output_type": "execute_result"
    }
   ],
   "source": [
    "heal_coord[0]"
   ]
  },
  {
   "cell_type": "markdown",
   "metadata": {},
   "source": [
    "### Minimum separation"
   ]
  },
  {
   "cell_type": "code",
   "execution_count": 31,
   "metadata": {},
   "outputs": [
    {
     "data": {
      "text/latex": [
       "$0.117349\\mathrm{{}^{\\prime\\prime}}$"
      ],
      "text/plain": [
       "<Angle 0.11734893 arcsec>"
      ]
     },
     "execution_count": 31,
     "metadata": {},
     "output_type": "execute_result"
    }
   ],
   "source": [
    "np.min(heal_coord[0].separation(heal_coord[1:])).to('arcsec')"
   ]
  },
  {
   "cell_type": "markdown",
   "metadata": {},
   "source": [
    "## PDF"
   ]
  },
  {
   "cell_type": "code",
   "execution_count": 56,
   "metadata": {},
   "outputs": [
    {
     "data": {
      "text/latex": [
       "$0.0605493\\mathrm{{}^{\\prime\\prime}}$"
      ],
      "text/plain": [
       "<Angle 0.06054927 arcsec>"
      ]
     },
     "execution_count": 56,
     "metadata": {},
     "output_type": "execute_result"
    }
   ],
   "source": [
    "sep = frb_cen.separation(heal_coord)\n",
    "np.min(sep).to('arcsec')"
   ]
  },
  {
   "cell_type": "code",
   "execution_count": 57,
   "metadata": {},
   "outputs": [],
   "source": [
    "pa_healpy = frb_cen.position_angle(heal_coord)"
   ]
  },
  {
   "cell_type": "code",
   "execution_count": 58,
   "metadata": {},
   "outputs": [],
   "source": [
    "dtheta = 90.*units.deg - pa_FRB  # Place a of ellipse along the x-axis"
   ]
  },
  {
   "cell_type": "code",
   "execution_count": 59,
   "metadata": {},
   "outputs": [],
   "source": [
    "new_pa_healpy = pa_healpy + dtheta"
   ]
  },
  {
   "cell_type": "code",
   "execution_count": 60,
   "metadata": {},
   "outputs": [],
   "source": [
    "x_hp = -sep * np.sin(new_pa_healpy)\n",
    "y_hp = sep * np.cos(new_pa_healpy)\n",
    "p_xy = np.exp(-x_hp**2 / (2*a_FRB**2)) * np.exp(-y_hp**2 / (2*b_FRB**2))"
   ]
  },
  {
   "cell_type": "code",
   "execution_count": 63,
   "metadata": {},
   "outputs": [
    {
     "data": {
      "text/latex": [
       "$0.98168845 \\; \\mathrm{}$"
      ],
      "text/plain": [
       "<Quantity 0.98168845>"
      ]
     },
     "execution_count": 63,
     "metadata": {},
     "output_type": "execute_result"
    }
   ],
   "source": [
    "np.max(p_xy)"
   ]
  },
  {
   "cell_type": "markdown",
   "metadata": {},
   "source": [
    "## Write"
   ]
  },
  {
   "cell_type": "code",
   "execution_count": 68,
   "metadata": {},
   "outputs": [],
   "source": [
    "tbl = Table()\n",
    "tbl['UNIQ'] = uniq\n",
    "tbl['PROBDENSITY'] = p_xy"
   ]
  },
  {
   "cell_type": "code",
   "execution_count": 74,
   "metadata": {},
   "outputs": [
    {
     "name": "stdout",
     "output_type": "stream",
     "text": [
      "XTENSION= 'BINTABLE'           / binary table extension\n",
      "BITPIX  =                    8 / array data type\n",
      "NAXIS   =                    2 / number of array dimensions\n",
      "NAXIS1  =                   16 / length of dimension 1\n",
      "NAXIS2  =                  448 / length of dimension 2\n",
      "PCOUNT  =                    0 / number of group parameters\n",
      "GCOUNT  =                    1 / number of groups\n",
      "TFIELDS =                    2 / number of table fields\n",
      "TTYPE1  = 'UNIQ    '\n",
      "TFORM1  = 'K       '\n",
      "TTYPE2  = 'PROBDENSITY'\n",
      "TFORM2  = 'D       '\n",
      "TUNIT2  = ''\n",
      "PIXTYPE = 'HEALPIX '           / HEALPIX pixelisation\n",
      "ORDERING= 'NUNIQ   '           / Pixel ordering scheme: RING, NESTED, or NUNIQ\n",
      "COORDSYS= 'C       '           / Ecliptic, Galactic or Celestial (equatorial)\n",
      "MOCORDER=                   21 / MOC resolution (best order)\n",
      "INDXSCHM= 'EXPLICIT'           / Indexing: IMPLICIT or EXPLICIT\n",
      "VCSVERS = 'foo 1.0 '           / Software version\n",
      "VCSREV  = 'bar     '           / Software revision (Git)\n",
      "DATE-BLD= '2018-01-01T00:00:00' / Software build date\n"
     ]
    }
   ],
   "source": [
    "with tempfile.NamedTemporaryFile(suffix='.fits') as f:\n",
    "    write_sky_map(f.name, tbl,\n",
    "                  vcs_version='foo 1.0', vcs_revision='bar',\n",
    "                  build_date='2018-01-01T00:00:00')\n",
    "    for card in fits.getheader(f.name, 1).cards:\n",
    "        print(str(card).rstrip())"
   ]
  },
  {
   "cell_type": "markdown",
   "metadata": {},
   "source": [
    "----"
   ]
  },
  {
   "cell_type": "markdown",
   "metadata": {},
   "source": [
    "## MOC --  deprecated"
   ]
  },
  {
   "cell_type": "code",
   "execution_count": 6,
   "metadata": {},
   "outputs": [
    {
     "data": {
      "text/latex": [
       "$-49^\\circ24{}^\\prime52.7907{}^{\\prime\\prime}$"
      ],
      "text/plain": [
       "<Latitude -49.41466408 deg>"
      ]
     },
     "execution_count": 6,
     "metadata": {},
     "output_type": "execute_result"
    }
   ],
   "source": [
    "frb_cen.galactic.b"
   ]
  },
  {
   "cell_type": "code",
   "execution_count": 7,
   "metadata": {},
   "outputs": [
    {
     "data": {
      "text/plain": [
       "(<Angle 0.74244708 deg>, <Angle -49.41466408 deg>)"
      ]
     },
     "execution_count": 7,
     "metadata": {},
     "output_type": "execute_result"
    }
   ],
   "source": [
    "Angle(frb_cen.galactic.l), Angle(frb_cen.galactic.b)"
   ]
  },
  {
   "cell_type": "code",
   "execution_count": 38,
   "metadata": {},
   "outputs": [],
   "source": []
  },
  {
   "cell_type": "code",
   "execution_count": 54,
   "metadata": {},
   "outputs": [],
   "source": [
    "moc = MOC.from_elliptical_cone(lon=Angle(frb_cen.galactic.l), \n",
    "                               lat=Angle(frb_cen.galactic.b),\n",
    "                                a=3*a_FRB, b=3*b_FRB, \n",
    "                               pa=pa_FRB,\n",
    "                               max_depth=max_order+1) # Note the +1"
   ]
  },
  {
   "cell_type": "code",
   "execution_count": 55,
   "metadata": {},
   "outputs": [
    {
     "data": {
      "text/plain": [
       "array([   868166242011,    868166242032,   3472664968038,   3472664968039,\n",
       "         3472664968041,   3472664968043,   3472664968132,   3472664968134,\n",
       "        13890659872141,  13890659872143,  13890659872147,  13890659872150,\n",
       "        13890659872151,  13890659872163,  13890659872169,  13890659872171,\n",
       "        13890659872202,  13890659872224,  13890659872226,  13890659872532,\n",
       "        13890659872533,  13890659872534,  13890659872540,  13890659872545,\n",
       "        13890659872548,  13890659872549,  13890659872550,  13890659872560,\n",
       "        55562639488569,  55562639488570,  55562639488571,  55562639488583,\n",
       "        55562639488585,  55562639488586,  55562639488587,  55562639488594,\n",
       "        55562639488595,  55562639488645,  55562639488647,  55562639488673,\n",
       "        55562639488675,  55562639488681,  55562639488682,  55562639488683,\n",
       "        55562639488778,  55562639488800,  55562639488802,  55562639488803,\n",
       "        55562639488928,  55562639488929,  55562639488930,  55562639488936,\n",
       "        55562639488938,  55562639490140,  55562639490141,  55562639490142,\n",
       "        55562639490168,  55562639490177,  55562639490179,  55562639490188,\n",
       "        55562639490189,  55562639490204,  55562639490205,  55562639490244,\n",
       "        55562639490248, 222250557954171, 222250557954173, 222250557954174,\n",
       "       222250557954175, 222250557954237, 222250557954239, 222250557954247,\n",
       "       222250557954253, 222250557954254, 222250557954255, 222250557954273,\n",
       "       222250557954274, 222250557954275, 222250557954319, 222250557954330,\n",
       "       222250557954331, 222250557954337, 222250557954338, 222250557954339,\n",
       "       222250557954392, 222250557954394, 222250557954395, 222250557954398,\n",
       "       222250557954585, 222250557954587, 222250557954605, 222250557954607,\n",
       "       222250557954699, 222250557954721, 222250557954723, 222250557955106,\n",
       "       222250557955204, 222250557955206, 222250557955724, 222250557955726,\n",
       "       222250557955748, 222250557955750, 222250557957493, 222250557957495,\n",
       "       222250557957501, 222250557957503, 222250557957589, 222250557957591,\n",
       "       222250557957597, 222250557957599, 222250557960572, 222250557960656,\n",
       "       222250557960657, 222250557960658, 222250557960664, 222250557960676,\n",
       "       222250557960678, 222250557960680, 222250557960681, 222250557960682,\n",
       "       222250557960705, 222250557960707, 222250557960741, 222250557960761,\n",
       "       222250557960764, 222250557960765, 222250557960824, 222250557960825,\n",
       "       222250557960828, 222250557960829, 222250557960980, 222250557960981,\n",
       "       222250557960982, 222250557960984, 222250557960985, 222250557960986,\n",
       "       222250557960996, 222250557961216, 222250557961217, 222250557961218,\n",
       "       222250557961224], dtype=uint64)"
      ]
     },
     "execution_count": 55,
     "metadata": {},
     "output_type": "execute_result"
    }
   ],
   "source": [
    "uniq = moc._uniq_format()\n",
    "uniq"
   ]
  },
  {
   "cell_type": "code",
   "execution_count": 56,
   "metadata": {},
   "outputs": [
    {
     "data": {
      "text/plain": [
       "numpy.ndarray"
      ]
     },
     "execution_count": 56,
     "metadata": {},
     "output_type": "execute_result"
    }
   ],
   "source": [
    "type(uniq)"
   ]
  },
  {
   "cell_type": "code",
   "execution_count": 57,
   "metadata": {},
   "outputs": [
    {
     "data": {
      "text/plain": [
       "22"
      ]
     },
     "execution_count": 57,
     "metadata": {},
     "output_type": "execute_result"
    }
   ],
   "source": [
    "moc.spatial_resolution_to_order(Angle(0.1, units.arcsec))"
   ]
  },
  {
   "cell_type": "markdown",
   "metadata": {},
   "source": [
    "# Grab RA, DEC"
   ]
  },
  {
   "cell_type": "code",
   "execution_count": 77,
   "metadata": {},
   "outputs": [
    {
     "data": {
      "text/plain": [
       "(array([18, 18, 19, 19, 19, 19, 19, 19, 20, 20, 20, 20, 20, 20, 20, 20, 20,\n",
       "        20, 20, 20, 20, 20, 20, 20, 20, 20, 20, 20, 21, 21, 21, 21, 21, 21,\n",
       "        21, 21, 21, 21, 21, 21, 21, 21, 21, 21, 21, 21, 21, 21, 21, 21, 21,\n",
       "        21, 21, 21, 21, 21, 21, 21, 21, 21, 21, 21, 21, 21, 21, 22, 22, 22,\n",
       "        22, 22, 22, 22, 22, 22, 22, 22, 22, 22, 22, 22, 22, 22, 22, 22, 22,\n",
       "        22, 22, 22, 22, 22, 22, 22, 22, 22, 22, 22, 22, 22, 22, 22, 22, 22,\n",
       "        22, 22, 22, 22, 22, 22, 22, 22, 22, 22, 22, 22, 22, 22, 22, 22, 22,\n",
       "        22, 22, 22, 22, 22, 22, 22, 22, 22, 22, 22, 22, 22, 22, 22, 22, 22,\n",
       "        22, 22, 22, 22, 22]),\n",
       " array([   593288335067,    593288335088,   2373153340262,   2373153340263,\n",
       "          2373153340265,   2373153340267,   2373153340356,   2373153340358,\n",
       "          9492613361037,   9492613361039,   9492613361043,   9492613361046,\n",
       "          9492613361047,   9492613361059,   9492613361065,   9492613361067,\n",
       "          9492613361098,   9492613361120,   9492613361122,   9492613361428,\n",
       "          9492613361429,   9492613361430,   9492613361436,   9492613361441,\n",
       "          9492613361444,   9492613361445,   9492613361446,   9492613361456,\n",
       "         37970453444153,  37970453444154,  37970453444155,  37970453444167,\n",
       "         37970453444169,  37970453444170,  37970453444171,  37970453444178,\n",
       "         37970453444179,  37970453444229,  37970453444231,  37970453444257,\n",
       "         37970453444259,  37970453444265,  37970453444266,  37970453444267,\n",
       "         37970453444362,  37970453444384,  37970453444386,  37970453444387,\n",
       "         37970453444512,  37970453444513,  37970453444514,  37970453444520,\n",
       "         37970453444522,  37970453445724,  37970453445725,  37970453445726,\n",
       "         37970453445752,  37970453445761,  37970453445763,  37970453445772,\n",
       "         37970453445773,  37970453445788,  37970453445789,  37970453445828,\n",
       "         37970453445832, 151881813776507, 151881813776509, 151881813776510,\n",
       "        151881813776511, 151881813776573, 151881813776575, 151881813776583,\n",
       "        151881813776589, 151881813776590, 151881813776591, 151881813776609,\n",
       "        151881813776610, 151881813776611, 151881813776655, 151881813776666,\n",
       "        151881813776667, 151881813776673, 151881813776674, 151881813776675,\n",
       "        151881813776728, 151881813776730, 151881813776731, 151881813776734,\n",
       "        151881813776921, 151881813776923, 151881813776941, 151881813776943,\n",
       "        151881813777035, 151881813777057, 151881813777059, 151881813777442,\n",
       "        151881813777540, 151881813777542, 151881813778060, 151881813778062,\n",
       "        151881813778084, 151881813778086, 151881813779829, 151881813779831,\n",
       "        151881813779837, 151881813779839, 151881813779925, 151881813779927,\n",
       "        151881813779933, 151881813779935, 151881813782908, 151881813782992,\n",
       "        151881813782993, 151881813782994, 151881813783000, 151881813783012,\n",
       "        151881813783014, 151881813783016, 151881813783017, 151881813783018,\n",
       "        151881813783041, 151881813783043, 151881813783077, 151881813783097,\n",
       "        151881813783100, 151881813783101, 151881813783160, 151881813783161,\n",
       "        151881813783164, 151881813783165, 151881813783316, 151881813783317,\n",
       "        151881813783318, 151881813783320, 151881813783321, 151881813783322,\n",
       "        151881813783332, 151881813783552, 151881813783553, 151881813783554,\n",
       "        151881813783560]))"
      ]
     },
     "execution_count": 77,
     "metadata": {},
     "output_type": "execute_result"
    }
   ],
   "source": [
    "level, ipix = astropy_healpix.uniq_to_level_ipix(uniq)\n",
    "level, ipix"
   ]
  },
  {
   "cell_type": "markdown",
   "metadata": {},
   "source": [
    "## New nside"
   ]
  },
  {
   "cell_type": "code",
   "execution_count": 59,
   "metadata": {},
   "outputs": [],
   "source": [
    "new_nside = astropy_healpix.level_to_nside(level)\n",
    "#new_nside"
   ]
  },
  {
   "cell_type": "markdown",
   "metadata": {},
   "source": [
    "## lon, lat"
   ]
  },
  {
   "cell_type": "code",
   "execution_count": 61,
   "metadata": {},
   "outputs": [],
   "source": [
    "lon, lat = astropy_healpix.healpix_to_lonlat(ipix, new_nside, order='nested')\n",
    "#lon.to('deg'), lat.to('deg')"
   ]
  },
  {
   "cell_type": "markdown",
   "metadata": {},
   "source": [
    "# PDF"
   ]
  },
  {
   "cell_type": "code",
   "execution_count": 62,
   "metadata": {},
   "outputs": [],
   "source": [
    "heal_coord = SkyCoord(lon, lat, frame='galactic')\n",
    "#heal_coord.icrs.ra, heal_coord.icrs.dec"
   ]
  },
  {
   "cell_type": "code",
   "execution_count": 63,
   "metadata": {},
   "outputs": [
    {
     "data": {
      "text/plain": [
       "<SkyCoord (ICRS): (ra, dec) in deg\n",
       "    (326.1052292, -40.9000278)>"
      ]
     },
     "execution_count": 63,
     "metadata": {},
     "output_type": "execute_result"
    }
   ],
   "source": [
    "frb_cen"
   ]
  },
  {
   "cell_type": "code",
   "execution_count": 65,
   "metadata": {},
   "outputs": [],
   "source": [
    "sep = frb_cen.separation(heal_coord)\n",
    "#sep.to('arcsec')"
   ]
  },
  {
   "cell_type": "markdown",
   "metadata": {},
   "source": [
    "## Ellipse"
   ]
  },
  {
   "cell_type": "code",
   "execution_count": 66,
   "metadata": {},
   "outputs": [],
   "source": [
    "pa_healpy = frb_cen.position_angle(heal_coord)"
   ]
  },
  {
   "cell_type": "code",
   "execution_count": 67,
   "metadata": {},
   "outputs": [],
   "source": [
    "dtheta = 90.*units.deg - pa_FRB  # Place a of ellipse along the x-axis"
   ]
  },
  {
   "cell_type": "code",
   "execution_count": 68,
   "metadata": {},
   "outputs": [],
   "source": [
    "new_pa_healpy = pa_healpy + dtheta"
   ]
  },
  {
   "cell_type": "code",
   "execution_count": 69,
   "metadata": {},
   "outputs": [],
   "source": [
    "x_hp = -sep * np.sin(new_pa_healpy)\n",
    "y_hp = sep * np.cos(new_pa_healpy)"
   ]
  },
  {
   "cell_type": "code",
   "execution_count": 72,
   "metadata": {},
   "outputs": [],
   "source": [
    "p_xy = np.exp(-x_hp**2 / (2*a_FRB**2)) * np.exp(-y_hp**2 / (2*b_FRB**2))"
   ]
  },
  {
   "cell_type": "code",
   "execution_count": 73,
   "metadata": {},
   "outputs": [
    {
     "data": {
      "text/latex": [
       "$[0.52141532,~0.22411896,~0.21935816,~\\dots,~0.00021870589,~0.00039547347,~0.00026958094] \\; \\mathrm{}$"
      ],
      "text/plain": [
       "<Quantity [5.21415321e-01, 2.24118955e-01, 2.19358156e-01, 2.08587279e-01,\n",
       "           6.83937451e-02, 3.26362053e-01, 4.33241358e-01, 7.90175867e-02,\n",
       "           9.71218615e-03, 3.70009170e-02, 8.59151599e-02, 1.38259489e-01,\n",
       "           8.72887660e-02, 2.08184814e-03, 7.50499523e-03, 2.12598685e-02,\n",
       "           1.41564587e-02, 7.97929220e-03, 3.53413115e-03, 4.95978946e-02,\n",
       "           3.02312027e-03, 1.63340131e-02, 4.22698746e-03, 1.04289678e-01,\n",
       "           1.79839068e-01, 1.21664395e-01, 8.58826921e-02, 3.22909394e-02,\n",
       "           3.90820453e-03, 1.81703033e-03, 8.14033088e-03, 4.84933883e-02,\n",
       "           2.34420496e-02, 1.81283078e-02, 4.44950964e-02, 6.97243752e-02,\n",
       "           7.93407306e-02, 7.43879860e-04, 1.62308727e-03, 4.18702281e-04,\n",
       "           8.48346447e-04, 1.61833477e-03, 4.96392313e-04, 2.90663620e-03,\n",
       "           3.41554043e-02, 3.40240075e-02, 3.19108718e-02, 1.02011947e-02,\n",
       "           3.76852406e-03, 6.71531612e-04, 2.18243653e-03, 1.18997836e-03,\n",
       "           6.10890842e-04, 2.44768917e-03, 4.21961583e-04, 1.16683267e-03,\n",
       "           2.86419911e-03, 3.75417267e-02, 3.69069509e-02, 6.31891513e-02,\n",
       "           9.25049024e-02, 7.13158688e-02, 4.09586194e-02, 9.41770929e-03,\n",
       "           1.86171832e-02, 2.64180730e-03, 6.54987378e-03, 5.17531904e-03,\n",
       "           9.56258572e-03, 4.08466778e-04, 6.24702674e-04, 1.39062710e-03,\n",
       "           2.10951865e-03, 1.46772037e-03, 3.15219340e-03, 9.89218436e-04,\n",
       "           6.45847540e-04, 1.49542711e-03, 1.74405854e-02, 2.61499196e-02,\n",
       "           3.69812815e-02, 9.53655207e-03, 8.03003951e-03, 1.37622766e-02,\n",
       "           6.88268201e-02, 8.13633459e-02, 7.20707993e-02, 6.02132840e-02,\n",
       "           3.50230688e-04, 5.25809016e-04, 2.60800827e-04, 3.84361618e-04,\n",
       "           2.44010987e-04, 3.47739850e-04, 4.88153429e-04, 3.98619926e-02,\n",
       "           1.60956804e-02, 1.53366960e-02, 6.72979938e-04, 4.88930017e-04,\n",
       "           3.49903317e-04, 2.46664242e-04, 6.20034407e-04, 8.04455636e-04,\n",
       "           1.02812330e-03, 1.29433025e-03, 1.60509887e-03, 1.96071862e-03,\n",
       "           2.35931293e-03, 2.79648577e-03, 3.68480618e-04, 9.98580103e-04,\n",
       "           4.08612284e-04, 6.65904344e-04, 4.37418915e-04, 1.06833980e-03,\n",
       "           6.99351173e-04, 2.29761896e-03, 1.04810968e-03, 1.52162398e-03,\n",
       "           1.75421611e-02, 1.82188441e-02, 4.19707196e-02, 5.95927223e-02,\n",
       "           6.98806291e-02, 7.72898822e-02, 5.32091410e-02, 4.14348678e-02,\n",
       "           3.04332288e-02, 2.10830037e-02, 4.35114271e-03, 2.13991804e-03,\n",
       "           2.91525211e-03, 7.25580067e-03, 3.84719566e-03, 4.91814810e-03,\n",
       "           1.06542779e-02, 5.71481659e-04, 2.18705889e-04, 3.95473469e-04,\n",
       "           2.69580941e-04]>"
      ]
     },
     "execution_count": 73,
     "metadata": {},
     "output_type": "execute_result"
    }
   ],
   "source": [
    "p_xy"
   ]
  },
  {
   "cell_type": "code",
   "execution_count": 74,
   "metadata": {},
   "outputs": [
    {
     "data": {
      "text/plain": [
       "(0, 138)"
      ]
     },
     "execution_count": 74,
     "metadata": {},
     "output_type": "execute_result"
    }
   ],
   "source": [
    "np.argmax(p_xy), np.argmin(p_xy)"
   ]
  },
  {
   "cell_type": "code",
   "execution_count": 76,
   "metadata": {},
   "outputs": [
    {
     "data": {
      "text/latex": [
       "$0.36465\\mathrm{{}^{\\prime\\prime}}$"
      ],
      "text/plain": [
       "<Angle 0.36464952 arcsec>"
      ]
     },
     "execution_count": 76,
     "metadata": {},
     "output_type": "execute_result"
    }
   ],
   "source": [
    "sep[0].to('arcsec')"
   ]
  },
  {
   "cell_type": "code",
   "execution_count": null,
   "metadata": {},
   "outputs": [],
   "source": []
  }
 ],
 "metadata": {
  "kernelspec": {
   "display_name": "Python 3",
   "language": "python",
   "name": "python3"
  },
  "language_info": {
   "codemirror_mode": {
    "name": "ipython",
    "version": 3
   },
   "file_extension": ".py",
   "mimetype": "text/x-python",
   "name": "python",
   "nbconvert_exporter": "python",
   "pygments_lexer": "ipython3",
   "version": "3.8.5"
  }
 },
 "nbformat": 4,
 "nbformat_minor": 4
}
