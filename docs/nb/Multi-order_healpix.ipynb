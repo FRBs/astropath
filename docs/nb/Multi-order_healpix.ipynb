{
 "cells": [
  {
   "cell_type": "markdown",
   "metadata": {},
   "source": [
    "# Multi-order Healpix"
   ]
  },
  {
   "cell_type": "code",
   "execution_count": 1,
   "metadata": {},
   "outputs": [],
   "source": [
    "# imports\n",
    "import numpy as np\n",
    "\n",
    "import healpy \n",
    "\n",
    "from astropy import units\n",
    "from astropy.coordinates import SkyCoord\n",
    "from astropy.coordinates import Angle\n",
    "\n",
    "import astropy_healpix\n",
    "\n",
    "from mocpy import MOC"
   ]
  },
  {
   "cell_type": "markdown",
   "metadata": {},
   "source": [
    "# Set nside"
   ]
  },
  {
   "cell_type": "code",
   "execution_count": 2,
   "metadata": {},
   "outputs": [
    {
     "data": {
      "text/plain": [
       "2097152"
      ]
     },
     "execution_count": 2,
     "metadata": {},
     "output_type": "execute_result"
    }
   ],
   "source": [
    "nside = astropy_healpix.pixel_resolution_to_nside(0.1*units.arcsec)\n",
    "nside"
   ]
  },
  {
   "cell_type": "code",
   "execution_count": 3,
   "metadata": {},
   "outputs": [
    {
     "data": {
      "text/plain": [
       "21"
      ]
     },
     "execution_count": 3,
     "metadata": {},
     "output_type": "execute_result"
    }
   ],
   "source": [
    "max_order = int(np.log2(nside))\n",
    "max_order"
   ]
  },
  {
   "cell_type": "markdown",
   "metadata": {},
   "source": [
    "## This seems one number to low.."
   ]
  },
  {
   "cell_type": "markdown",
   "metadata": {},
   "source": [
    "# Find pixel indices inside the localization\n",
    "\n",
    "    https://zonca.dev/2020/10/example-healpy-query_disc.html"
   ]
  },
  {
   "cell_type": "markdown",
   "metadata": {},
   "source": [
    "## FRB localization centroid (fake)"
   ]
  },
  {
   "cell_type": "code",
   "execution_count": 4,
   "metadata": {},
   "outputs": [],
   "source": [
    "frb_cen = SkyCoord(ra=326.1052292, dec=-40.9000278, unit='deg')"
   ]
  },
  {
   "cell_type": "code",
   "execution_count": 5,
   "metadata": {},
   "outputs": [
    {
     "data": {
      "text/latex": [
       "$-49^\\circ24{}^\\prime52.7907{}^{\\prime\\prime}$"
      ],
      "text/plain": [
       "<Latitude -49.41466408 deg>"
      ]
     },
     "execution_count": 5,
     "metadata": {},
     "output_type": "execute_result"
    }
   ],
   "source": [
    "frb_cen.galactic.b"
   ]
  },
  {
   "cell_type": "code",
   "execution_count": 15,
   "metadata": {},
   "outputs": [
    {
     "data": {
      "text/plain": [
       "(<Angle 0.74244708 deg>, <Angle -49.41466408 deg>)"
      ]
     },
     "execution_count": 15,
     "metadata": {},
     "output_type": "execute_result"
    }
   ],
   "source": [
    "Angle(frb_cen.galactic.l), Angle(frb_cen.galactic.b)"
   ]
  },
  {
   "cell_type": "code",
   "execution_count": 16,
   "metadata": {},
   "outputs": [],
   "source": [
    "moc = MOC.from_elliptical_cone(lon=Angle(frb_cen.galactic.l), \n",
    "                               lat=Angle(frb_cen.galactic.b),\n",
    "                    a=Angle(0.4, units.arcsec), b=Angle(0.3, units.arcsec), \n",
    "                               pa=Angle(45, units.deg),\n",
    "                               max_depth=max_order+1) # Note the +1"
   ]
  },
  {
   "cell_type": "code",
   "execution_count": 17,
   "metadata": {},
   "outputs": [
    {
     "data": {
      "text/plain": [
       "array([[2488431636922712064, 2488431636922761216],\n",
       "       [2488431636924121088, 2488431636924203008],\n",
       "       [2488431636924219392, 2488431636924334080],\n",
       "       [2488431636924547072, 2488431636924563456],\n",
       "       [2488431636924579840, 2488431636924858368],\n",
       "       [2488431636925104128, 2488431636925120512],\n",
       "       [2488431636925284352, 2488431636925317120],\n",
       "       [2488431636925399040, 2488431636925726720],\n",
       "       [2488431636925743104, 2488431636925906944],\n",
       "       [2488431636926955520, 2488431636927954944],\n",
       "       [2488431636927971328, 2488431636927987712],\n",
       "       [2488431637014069248, 2488431637014085632],\n",
       "       [2488431637014102016, 2488431637014118400],\n",
       "       [2488431637014200320, 2488431637014216704],\n",
       "       [2488431637014249472, 2488431637014511616],\n",
       "       [2488431637014773760, 2488431637014806528],\n",
       "       [2488431637014822912, 2488431637014904832],\n",
       "       [2488431637017133056, 2488431637017460736],\n",
       "       [2488431637017526272, 2488431637017542656],\n",
       "       [2488431637017657344, 2488431637017739264]], dtype=uint64)"
      ]
     },
     "execution_count": 17,
     "metadata": {},
     "output_type": "execute_result"
    }
   ],
   "source": [
    "uniq = moc._interval_set._intervals\n",
    "uniq"
   ]
  },
  {
   "cell_type": "code",
   "execution_count": 18,
   "metadata": {},
   "outputs": [
    {
     "data": {
      "text/plain": [
       "numpy.ndarray"
      ]
     },
     "execution_count": 18,
     "metadata": {},
     "output_type": "execute_result"
    }
   ],
   "source": [
    "type(uniq)"
   ]
  },
  {
   "cell_type": "code",
   "execution_count": 10,
   "metadata": {},
   "outputs": [
    {
     "data": {
      "text/plain": [
       "22"
      ]
     },
     "execution_count": 10,
     "metadata": {},
     "output_type": "execute_result"
    }
   ],
   "source": [
    "moc.spatial_resolution_to_order(Angle(0.1, units.arcsec))"
   ]
  },
  {
   "cell_type": "markdown",
   "metadata": {},
   "source": [
    "# Grab RA, DEC"
   ]
  },
  {
   "cell_type": "code",
   "execution_count": 19,
   "metadata": {},
   "outputs": [
    {
     "data": {
      "text/plain": [
       "(array([[29, 29],\n",
       "        [29, 29],\n",
       "        [29, 29],\n",
       "        [29, 29],\n",
       "        [29, 29],\n",
       "        [29, 29],\n",
       "        [29, 29],\n",
       "        [29, 29],\n",
       "        [29, 29],\n",
       "        [29, 29],\n",
       "        [29, 29],\n",
       "        [29, 29],\n",
       "        [29, 29],\n",
       "        [29, 29],\n",
       "        [29, 29],\n",
       "        [29, 29],\n",
       "        [29, 29],\n",
       "        [29, 29],\n",
       "        [29, 29],\n",
       "        [29, 29]]),\n",
       " array([[1335510132315865088, 1335510132315914240],\n",
       "        [1335510132317274112, 1335510132317356032],\n",
       "        [1335510132317372416, 1335510132317487104],\n",
       "        [1335510132317700096, 1335510132317716480],\n",
       "        [1335510132317732864, 1335510132318011392],\n",
       "        [1335510132318257152, 1335510132318273536],\n",
       "        [1335510132318437376, 1335510132318470144],\n",
       "        [1335510132318552064, 1335510132318879744],\n",
       "        [1335510132318896128, 1335510132319059968],\n",
       "        [1335510132320108544, 1335510132321107968],\n",
       "        [1335510132321124352, 1335510132321140736],\n",
       "        [1335510132407222272, 1335510132407238656],\n",
       "        [1335510132407255040, 1335510132407271424],\n",
       "        [1335510132407353344, 1335510132407369728],\n",
       "        [1335510132407402496, 1335510132407664640],\n",
       "        [1335510132407926784, 1335510132407959552],\n",
       "        [1335510132407975936, 1335510132408057856],\n",
       "        [1335510132410286080, 1335510132410613760],\n",
       "        [1335510132410679296, 1335510132410695680],\n",
       "        [1335510132410810368, 1335510132410892288]]))"
      ]
     },
     "execution_count": 19,
     "metadata": {},
     "output_type": "execute_result"
    }
   ],
   "source": [
    "level, ipix = astropy_healpix.uniq_to_level_ipix(uniq)\n",
    "level, ipix"
   ]
  },
  {
   "cell_type": "markdown",
   "metadata": {},
   "source": [
    "## New nside"
   ]
  },
  {
   "cell_type": "code",
   "execution_count": 20,
   "metadata": {},
   "outputs": [
    {
     "data": {
      "text/plain": [
       "array([[536870912, 536870912],\n",
       "       [536870912, 536870912],\n",
       "       [536870912, 536870912],\n",
       "       [536870912, 536870912],\n",
       "       [536870912, 536870912],\n",
       "       [536870912, 536870912],\n",
       "       [536870912, 536870912],\n",
       "       [536870912, 536870912],\n",
       "       [536870912, 536870912],\n",
       "       [536870912, 536870912],\n",
       "       [536870912, 536870912],\n",
       "       [536870912, 536870912],\n",
       "       [536870912, 536870912],\n",
       "       [536870912, 536870912],\n",
       "       [536870912, 536870912],\n",
       "       [536870912, 536870912],\n",
       "       [536870912, 536870912],\n",
       "       [536870912, 536870912],\n",
       "       [536870912, 536870912],\n",
       "       [536870912, 536870912]])"
      ]
     },
     "execution_count": 20,
     "metadata": {},
     "output_type": "execute_result"
    }
   ],
   "source": [
    "new_nside = astropy_healpix.level_to_nside(level)\n",
    "new_nside"
   ]
  },
  {
   "cell_type": "markdown",
   "metadata": {},
   "source": [
    "## lon, lat"
   ]
  },
  {
   "cell_type": "code",
   "execution_count": 21,
   "metadata": {},
   "outputs": [
    {
     "data": {
      "text/plain": [
       "(<Longitude [[322.4023068 , 322.4021244 ],\n",
       "             [322.40225315, 322.40223169],\n",
       "             [322.40224242, 322.40216732],\n",
       "             [322.40217805, 322.40215659],\n",
       "             [322.40216732, 322.4023819 ],\n",
       "             [322.4023819 , 322.40242481],\n",
       "             [322.40239263, 322.40242481],\n",
       "             [322.40234971, 322.40241408],\n",
       "             [322.40239263, 322.40246773],\n",
       "             [322.40229607, 322.4023068 ],\n",
       "             [322.40228534, 322.40229607],\n",
       "             [322.40215659, 322.40213513],\n",
       "             [322.40214586, 322.40210295],\n",
       "             [322.40213513, 322.40211368],\n",
       "             [322.40216732, 322.40208149],\n",
       "             [322.4021244 , 322.40211368],\n",
       "             [322.4021244 , 322.40210295],\n",
       "             [322.40221024, 322.40227461],\n",
       "             [322.40223169, 322.40224242],\n",
       "             [322.40216732, 322.40219951]] deg>,\n",
       " <Latitude [[-5.75763556, -5.75775455],\n",
       "            [-5.75762641, -5.75762641],\n",
       "            [-5.75761725, -5.75764471],\n",
       "            [-5.75759895, -5.75759895],\n",
       "            [-5.75758979, -5.75768133],\n",
       "            [-5.75762641, -5.75764471],\n",
       "            [-5.75761725, -5.7576081 ],\n",
       "            [-5.75763556, -5.75758064],\n",
       "            [-5.75758064, -5.7576081 ],\n",
       "            [-5.7576081 , -5.75748911],\n",
       "            [-5.75748911, -5.75747996],\n",
       "            [-5.75758064, -5.75758064],\n",
       "            [-5.75757149, -5.75758979],\n",
       "            [-5.75756233, -5.75756233],\n",
       "            [-5.75757149, -5.75757149],\n",
       "            [-5.75753488, -5.75752572],\n",
       "            [-5.75751657, -5.75751657],\n",
       "            [-5.75753488, -5.75747996],\n",
       "            [-5.75747996, -5.7574708 ],\n",
       "            [-5.75749826, -5.7574708 ]] deg>)"
      ]
     },
     "execution_count": 21,
     "metadata": {},
     "output_type": "execute_result"
    }
   ],
   "source": [
    "lon, lat = astropy_healpix.healpix_to_lonlat(ipix, new_nside, order='nested')\n",
    "lon.to('deg'), lat.to('deg')"
   ]
  },
  {
   "cell_type": "code",
   "execution_count": null,
   "metadata": {},
   "outputs": [],
   "source": []
  }
 ],
 "metadata": {
  "kernelspec": {
   "display_name": "Python 3",
   "language": "python",
   "name": "python3"
  },
  "language_info": {
   "codemirror_mode": {
    "name": "ipython",
    "version": 3
   },
   "file_extension": ".py",
   "mimetype": "text/x-python",
   "name": "python",
   "nbconvert_exporter": "python",
   "pygments_lexer": "ipython3",
   "version": "3.8.5"
  }
 },
 "nbformat": 4,
 "nbformat_minor": 4
}
