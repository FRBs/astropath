{
 "cells": [
  {
   "cell_type": "markdown",
   "metadata": {},
   "source": [
    "# Multi-order Healpix"
   ]
  },
  {
   "cell_type": "code",
   "execution_count": 1,
   "metadata": {},
   "outputs": [],
   "source": [
    "# imports\n",
    "import numpy as np\n",
    "\n",
    "import healpy \n",
    "\n",
    "from astropy import units\n",
    "from astropy.coordinates import SkyCoord\n",
    "from astropy.coordinates import Angle\n",
    "\n",
    "import astropy_healpix\n",
    "\n",
    "from mocpy import MOC"
   ]
  },
  {
   "cell_type": "markdown",
   "metadata": {},
   "source": [
    "# Set nside"
   ]
  },
  {
   "cell_type": "code",
   "execution_count": 2,
   "metadata": {},
   "outputs": [
    {
     "data": {
      "text/plain": [
       "2097152"
      ]
     },
     "execution_count": 2,
     "metadata": {},
     "output_type": "execute_result"
    }
   ],
   "source": [
    "nside = astropy_healpix.pixel_resolution_to_nside(0.1*units.arcsec)\n",
    "nside"
   ]
  },
  {
   "cell_type": "code",
   "execution_count": 3,
   "metadata": {},
   "outputs": [
    {
     "data": {
      "text/plain": [
       "21"
      ]
     },
     "execution_count": 3,
     "metadata": {},
     "output_type": "execute_result"
    }
   ],
   "source": [
    "max_order = int(np.log2(nside))\n",
    "max_order"
   ]
  },
  {
   "cell_type": "markdown",
   "metadata": {},
   "source": [
    "## This seems one number to low.."
   ]
  },
  {
   "cell_type": "markdown",
   "metadata": {},
   "source": [
    "# Find pixel indices inside the localization\n",
    "\n",
    "    https://zonca.dev/2020/10/example-healpy-query_disc.html"
   ]
  },
  {
   "cell_type": "markdown",
   "metadata": {},
   "source": [
    "## FRB localization centroid (fake)"
   ]
  },
  {
   "cell_type": "code",
   "execution_count": 4,
   "metadata": {},
   "outputs": [],
   "source": [
    "frb_cen = SkyCoord(ra=326.1052292, dec=-40.9000278, unit='deg')"
   ]
  },
  {
   "cell_type": "code",
   "execution_count": 5,
   "metadata": {},
   "outputs": [
    {
     "data": {
      "text/latex": [
       "$-49^\\circ24{}^\\prime52.7907{}^{\\prime\\prime}$"
      ],
      "text/plain": [
       "<Latitude -49.41466408 deg>"
      ]
     },
     "execution_count": 5,
     "metadata": {},
     "output_type": "execute_result"
    }
   ],
   "source": [
    "frb_cen.galactic.b"
   ]
  },
  {
   "cell_type": "code",
   "execution_count": 15,
   "metadata": {},
   "outputs": [
    {
     "data": {
      "text/plain": [
       "(<Angle 0.74244708 deg>, <Angle -49.41466408 deg>)"
      ]
     },
     "execution_count": 15,
     "metadata": {},
     "output_type": "execute_result"
    }
   ],
   "source": [
    "Angle(frb_cen.galactic.l), Angle(frb_cen.galactic.b)"
   ]
  },
  {
   "cell_type": "code",
   "execution_count": 16,
   "metadata": {},
   "outputs": [],
   "source": [
    "moc = MOC.from_elliptical_cone(lon=Angle(frb_cen.galactic.l), \n",
    "                               lat=Angle(frb_cen.galactic.b),\n",
    "                    a=Angle(0.4, units.arcsec), b=Angle(0.3, units.arcsec), \n",
    "                               pa=Angle(45, units.deg),\n",
    "                               max_depth=max_order+1) # Note the +1"
   ]
  },
  {
   "cell_type": "code",
   "execution_count": 22,
   "metadata": {},
   "outputs": [
    {
     "data": {
      "text/plain": [
       "array([ 13890659872175,  13890659872184,  13890659872185,  13890659872186,\n",
       "        13890659872517,  13890659872528,  55562639488693,  55562639488695,\n",
       "        55562639488713,  55562639488714,  55562639488715,  55562639488716,\n",
       "        55562639488718,  55562639488719,  55562639488748,  55562639488749,\n",
       "        55562639488750,  55562639490077,  55562639490116,  55562639490120,\n",
       "       222250557954685, 222250557954686, 222250557954687, 222250557954771,\n",
       "       222250557954777, 222250557954778, 222250557954779, 222250557954797,\n",
       "       222250557954799, 222250557954831, 222250557954842, 222250557954843,\n",
       "       222250557954849, 222250557954850, 222250557954851, 222250557954868,\n",
       "       222250557954870, 222250557954871, 222250557955004, 222250557955006,\n",
       "       222250557960261, 222250557960263, 222250557960269, 222250557960304,\n",
       "       222250557960305, 222250557960307, 222250557960472, 222250557960484],\n",
       "      dtype=uint64)"
      ]
     },
     "execution_count": 22,
     "metadata": {},
     "output_type": "execute_result"
    }
   ],
   "source": [
    "uniq = moc._uniq_format()\n",
    "uniq"
   ]
  },
  {
   "cell_type": "code",
   "execution_count": 23,
   "metadata": {},
   "outputs": [
    {
     "data": {
      "text/plain": [
       "numpy.ndarray"
      ]
     },
     "execution_count": 23,
     "metadata": {},
     "output_type": "execute_result"
    }
   ],
   "source": [
    "type(uniq)"
   ]
  },
  {
   "cell_type": "code",
   "execution_count": 24,
   "metadata": {},
   "outputs": [
    {
     "data": {
      "text/plain": [
       "22"
      ]
     },
     "execution_count": 24,
     "metadata": {},
     "output_type": "execute_result"
    }
   ],
   "source": [
    "moc.spatial_resolution_to_order(Angle(0.1, units.arcsec))"
   ]
  },
  {
   "cell_type": "markdown",
   "metadata": {},
   "source": [
    "# Grab RA, DEC"
   ]
  },
  {
   "cell_type": "code",
   "execution_count": 25,
   "metadata": {},
   "outputs": [
    {
     "data": {
      "text/plain": [
       "(array([20, 20, 20, 20, 20, 20, 21, 21, 21, 21, 21, 21, 21, 21, 21, 21, 21,\n",
       "        21, 21, 21, 22, 22, 22, 22, 22, 22, 22, 22, 22, 22, 22, 22, 22, 22,\n",
       "        22, 22, 22, 22, 22, 22, 22, 22, 22, 22, 22, 22, 22, 22]),\n",
       " array([  9492613361071,   9492613361080,   9492613361081,   9492613361082,\n",
       "          9492613361413,   9492613361424,  37970453444277,  37970453444279,\n",
       "         37970453444297,  37970453444298,  37970453444299,  37970453444300,\n",
       "         37970453444302,  37970453444303,  37970453444332,  37970453444333,\n",
       "         37970453444334,  37970453445661,  37970453445700,  37970453445704,\n",
       "        151881813777021, 151881813777022, 151881813777023, 151881813777107,\n",
       "        151881813777113, 151881813777114, 151881813777115, 151881813777133,\n",
       "        151881813777135, 151881813777167, 151881813777178, 151881813777179,\n",
       "        151881813777185, 151881813777186, 151881813777187, 151881813777204,\n",
       "        151881813777206, 151881813777207, 151881813777340, 151881813777342,\n",
       "        151881813782597, 151881813782599, 151881813782605, 151881813782640,\n",
       "        151881813782641, 151881813782643, 151881813782808, 151881813782820]))"
      ]
     },
     "execution_count": 25,
     "metadata": {},
     "output_type": "execute_result"
    }
   ],
   "source": [
    "level, ipix = astropy_healpix.uniq_to_level_ipix(uniq)\n",
    "level, ipix"
   ]
  },
  {
   "cell_type": "markdown",
   "metadata": {},
   "source": [
    "## New nside"
   ]
  },
  {
   "cell_type": "code",
   "execution_count": 26,
   "metadata": {},
   "outputs": [
    {
     "data": {
      "text/plain": [
       "array([1048576, 1048576, 1048576, 1048576, 1048576, 1048576, 2097152,\n",
       "       2097152, 2097152, 2097152, 2097152, 2097152, 2097152, 2097152,\n",
       "       2097152, 2097152, 2097152, 2097152, 2097152, 2097152, 4194304,\n",
       "       4194304, 4194304, 4194304, 4194304, 4194304, 4194304, 4194304,\n",
       "       4194304, 4194304, 4194304, 4194304, 4194304, 4194304, 4194304,\n",
       "       4194304, 4194304, 4194304, 4194304, 4194304, 4194304, 4194304,\n",
       "       4194304, 4194304, 4194304, 4194304, 4194304, 4194304])"
      ]
     },
     "execution_count": 26,
     "metadata": {},
     "output_type": "execute_result"
    }
   ],
   "source": [
    "new_nside = astropy_healpix.level_to_nside(level)\n",
    "new_nside"
   ]
  },
  {
   "cell_type": "markdown",
   "metadata": {},
   "source": [
    "## lon, lat"
   ]
  },
  {
   "cell_type": "code",
   "execution_count": 27,
   "metadata": {},
   "outputs": [
    {
     "data": {
      "text/plain": [
       "(<Longitude [0.74234918, 0.74245022, 0.74255042, 0.74244938, 0.74234835,\n",
       "             0.74244855, 0.74237527, 0.74237486, 0.74247631, 0.74242579,\n",
       "             0.74247589, 0.74252641, 0.74252599, 0.74257609, 0.74252474,\n",
       "             0.74257484, 0.74252432, 0.74237277, 0.74252391, 0.74242287,\n",
       "             0.74238832, 0.74236306, 0.74238811, 0.74233759, 0.74233739,\n",
       "             0.74231213, 0.74233718, 0.74228645, 0.74228624, 0.74248915,\n",
       "             0.7425142 , 0.74253925, 0.74243884, 0.74241358, 0.74243863,\n",
       "             0.74256409, 0.74256388, 0.74258893, 0.742562  , 0.74256179,\n",
       "             0.74228603, 0.74228583, 0.74228562, 0.74231025, 0.7423353 ,\n",
       "             0.74233509, 0.74251107, 0.74246055] deg>,\n",
       " <Latitude [-49.4146961 , -49.4146961 , -49.41464853, -49.41464853,\n",
       "            -49.41464853, -49.41460096, -49.41474367, -49.41471988,\n",
       "            -49.41474367, -49.41474367, -49.41471988, -49.41471988,\n",
       "            -49.4146961 , -49.41467231, -49.41462475, -49.41460096,\n",
       "            -49.41460096, -49.41460096, -49.41457718, -49.41457718,\n",
       "            -49.41476745, -49.41476745, -49.41475556, -49.41475556,\n",
       "            -49.41474367, -49.41474367, -49.41473177, -49.41471988,\n",
       "            -49.41470799, -49.41475556, -49.41474367, -49.41473177,\n",
       "            -49.41476745, -49.41476745, -49.41475556, -49.41470799,\n",
       "            -49.4146961 , -49.41468421, -49.41458907, -49.41457718,\n",
       "            -49.4146961 , -49.41468421, -49.41467231, -49.41463664,\n",
       "            -49.41462475, -49.41461286, -49.41456529, -49.41456529] deg>)"
      ]
     },
     "execution_count": 27,
     "metadata": {},
     "output_type": "execute_result"
    }
   ],
   "source": [
    "lon, lat = astropy_healpix.healpix_to_lonlat(ipix, new_nside, order='nested')\n",
    "lon.to('deg'), lat.to('deg')"
   ]
  },
  {
   "cell_type": "code",
   "execution_count": null,
   "metadata": {},
   "outputs": [],
   "source": []
  }
 ],
 "metadata": {
  "kernelspec": {
   "display_name": "Python 3",
   "language": "python",
   "name": "python3"
  },
  "language_info": {
   "codemirror_mode": {
    "name": "ipython",
    "version": 3
   },
   "file_extension": ".py",
   "mimetype": "text/x-python",
   "name": "python",
   "nbconvert_exporter": "python",
   "pygments_lexer": "ipython3",
   "version": "3.8.5"
  }
 },
 "nbformat": 4,
 "nbformat_minor": 4
}
