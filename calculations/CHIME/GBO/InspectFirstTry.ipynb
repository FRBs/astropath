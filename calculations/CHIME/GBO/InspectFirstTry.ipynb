{
 "cells": [
  {
   "cell_type": "markdown",
   "id": "c15b64dc-8764-44fd-8590-a63e6ad053b7",
   "metadata": {},
   "source": [
    "# Inspecting the First Results"
   ]
  },
  {
   "cell_type": "code",
   "execution_count": 1,
   "id": "b5992587-bf32-4f75-a127-5bd47bc0491b",
   "metadata": {},
   "outputs": [],
   "source": [
    "# imports\n",
    "import numpy as np\n",
    "\n",
    "import pandas\n",
    "\n",
    "import seaborn as sns\n",
    "from matplotlib import pyplot as plt"
   ]
  },
  {
   "cell_type": "markdown",
   "id": "2342932d-a524-418e-8c53-80cc6b1af2fa",
   "metadata": {},
   "source": [
    "# Load em up"
   ]
  },
  {
   "cell_type": "markdown",
   "id": "1c370c13-bc72-403d-8291-6b55bfd39ee2",
   "metadata": {},
   "source": [
    "## Path"
   ]
  },
  {
   "cell_type": "code",
   "execution_count": 53,
   "id": "a0acdaa7-104d-4de1-bff5-d479847a39b9",
   "metadata": {},
   "outputs": [
    {
     "data": {
      "text/html": [
       "<div>\n",
       "<style scoped>\n",
       "    .dataframe tbody tr th:only-of-type {\n",
       "        vertical-align: middle;\n",
       "    }\n",
       "\n",
       "    .dataframe tbody tr th {\n",
       "        vertical-align: top;\n",
       "    }\n",
       "\n",
       "    .dataframe thead th {\n",
       "        text-align: right;\n",
       "    }\n",
       "</style>\n",
       "<table border=\"1\" class=\"dataframe\">\n",
       "  <thead>\n",
       "    <tr style=\"text-align: right;\">\n",
       "      <th></th>\n",
       "      <th>ra</th>\n",
       "      <th>dec</th>\n",
       "      <th>ang_size</th>\n",
       "      <th>mag</th>\n",
       "      <th>P_O</th>\n",
       "      <th>p_xO</th>\n",
       "      <th>P_Ox</th>\n",
       "      <th>P_Ux</th>\n",
       "      <th>gal_ID</th>\n",
       "      <th>iFRB</th>\n",
       "    </tr>\n",
       "  </thead>\n",
       "  <tbody>\n",
       "    <tr>\n",
       "      <th>0</th>\n",
       "      <td>149.778723</td>\n",
       "      <td>2.574476</td>\n",
       "      <td>0.981993</td>\n",
       "      <td>20.823986</td>\n",
       "      <td>0.038314</td>\n",
       "      <td>0.000442</td>\n",
       "      <td>0.413031</td>\n",
       "      <td>0.169244</td>\n",
       "      <td>41077</td>\n",
       "      <td>0</td>\n",
       "    </tr>\n",
       "    <tr>\n",
       "      <th>1</th>\n",
       "      <td>149.777524</td>\n",
       "      <td>2.576435</td>\n",
       "      <td>0.412795</td>\n",
       "      <td>22.843554</td>\n",
       "      <td>0.006019</td>\n",
       "      <td>0.002026</td>\n",
       "      <td>0.297228</td>\n",
       "      <td>0.169244</td>\n",
       "      <td>41084</td>\n",
       "      <td>0</td>\n",
       "    </tr>\n",
       "    <tr>\n",
       "      <th>2</th>\n",
       "      <td>149.777955</td>\n",
       "      <td>2.567251</td>\n",
       "      <td>0.311627</td>\n",
       "      <td>21.377703</td>\n",
       "      <td>0.022539</td>\n",
       "      <td>0.000149</td>\n",
       "      <td>0.081925</td>\n",
       "      <td>0.169244</td>\n",
       "      <td>41075</td>\n",
       "      <td>0</td>\n",
       "    </tr>\n",
       "    <tr>\n",
       "      <th>3</th>\n",
       "      <td>149.778309</td>\n",
       "      <td>2.568582</td>\n",
       "      <td>0.842794</td>\n",
       "      <td>23.003826</td>\n",
       "      <td>0.005249</td>\n",
       "      <td>0.000187</td>\n",
       "      <td>0.023906</td>\n",
       "      <td>0.169244</td>\n",
       "      <td>41072</td>\n",
       "      <td>0</td>\n",
       "    </tr>\n",
       "    <tr>\n",
       "      <th>4</th>\n",
       "      <td>149.775524</td>\n",
       "      <td>2.565468</td>\n",
       "      <td>0.686807</td>\n",
       "      <td>21.988901</td>\n",
       "      <td>0.012806</td>\n",
       "      <td>0.000044</td>\n",
       "      <td>0.013701</td>\n",
       "      <td>0.169244</td>\n",
       "      <td>41085</td>\n",
       "      <td>0</td>\n",
       "    </tr>\n",
       "  </tbody>\n",
       "</table>\n",
       "</div>"
      ],
      "text/plain": [
       "           ra       dec  ang_size        mag       P_O      p_xO      P_Ox  \\\n",
       "0  149.778723  2.574476  0.981993  20.823986  0.038314  0.000442  0.413031   \n",
       "1  149.777524  2.576435  0.412795  22.843554  0.006019  0.002026  0.297228   \n",
       "2  149.777955  2.567251  0.311627  21.377703  0.022539  0.000149  0.081925   \n",
       "3  149.778309  2.568582  0.842794  23.003826  0.005249  0.000187  0.023906   \n",
       "4  149.775524  2.565468  0.686807  21.988901  0.012806  0.000044  0.013701   \n",
       "\n",
       "       P_Ux  gal_ID  iFRB  \n",
       "0  0.169244   41077     0  \n",
       "1  0.169244   41084     0  \n",
       "2  0.169244   41075     0  \n",
       "3  0.169244   41072     0  \n",
       "4  0.169244   41085     0  "
      ]
     },
     "execution_count": 53,
     "metadata": {},
     "output_type": "execute_result"
    }
   ],
   "source": [
    "ftry = pandas.read_csv('first_try.csv', index_col=0)\n",
    "ftry.iFRB = ftry.iFRB.values.astype(int)\n",
    "ftry.head()"
   ]
  },
  {
   "cell_type": "code",
   "execution_count": 54,
   "id": "20b1e757-1f9d-4ed6-9085-7b53636ea7da",
   "metadata": {},
   "outputs": [
    {
     "data": {
      "text/plain": [
       "array([ 0,  1,  2,  3,  4,  5,  6,  7,  8,  9, 10, 11, 12, 13, 14, 15, 16,\n",
       "       17, 18, 19, 20, 21, 22, 23, 24, 25, 26, 27, 28, 29, 30, 31, 32, 33,\n",
       "       34, 35, 36, 37, 38, 39, 40, 41, 42, 43, 44, 45, 46, 47, 48, 49])"
      ]
     },
     "execution_count": 54,
     "metadata": {},
     "output_type": "execute_result"
    }
   ],
   "source": [
    "np.unique(ftry.iFRB)"
   ]
  },
  {
   "cell_type": "markdown",
   "id": "127df0ce-7ee0-48df-a44b-c30d8768ccbb",
   "metadata": {},
   "source": [
    "## COSMOS"
   ]
  },
  {
   "cell_type": "code",
   "execution_count": 8,
   "id": "4ebcae25-af98-4e49-8844-9f40481892e8",
   "metadata": {},
   "outputs": [],
   "source": [
    "cosmos = pandas.read_feather('cosmos_acs_iphot_200709.feather')"
   ]
  },
  {
   "cell_type": "code",
   "execution_count": 9,
   "id": "b4dfef71-478f-4174-96f7-c62ed70e46da",
   "metadata": {},
   "outputs": [
    {
     "data": {
      "text/html": [
       "<div>\n",
       "<style scoped>\n",
       "    .dataframe tbody tr th:only-of-type {\n",
       "        vertical-align: middle;\n",
       "    }\n",
       "\n",
       "    .dataframe tbody tr th {\n",
       "        vertical-align: top;\n",
       "    }\n",
       "\n",
       "    .dataframe thead th {\n",
       "        text-align: right;\n",
       "    }\n",
       "</style>\n",
       "<table border=\"1\" class=\"dataframe\">\n",
       "  <thead>\n",
       "    <tr style=\"text-align: right;\">\n",
       "      <th></th>\n",
       "      <th>index</th>\n",
       "      <th>mag_best</th>\n",
       "      <th>flux_radius</th>\n",
       "      <th>a_image</th>\n",
       "      <th>kron_radius</th>\n",
       "      <th>petro_radius</th>\n",
       "      <th>b_image</th>\n",
       "      <th>theta_image</th>\n",
       "      <th>ra</th>\n",
       "      <th>dec</th>\n",
       "      <th>class_star</th>\n",
       "      <th>mu_class</th>\n",
       "    </tr>\n",
       "  </thead>\n",
       "  <tbody>\n",
       "    <tr>\n",
       "      <th>0</th>\n",
       "      <td>0</td>\n",
       "      <td>24.438337</td>\n",
       "      <td>9.132363</td>\n",
       "      <td>6.947580</td>\n",
       "      <td>5.117546</td>\n",
       "      <td>7.259999</td>\n",
       "      <td>2.786127</td>\n",
       "      <td>38.172997</td>\n",
       "      <td>149.495975</td>\n",
       "      <td>2.499467</td>\n",
       "      <td>0.000160</td>\n",
       "      <td>1</td>\n",
       "    </tr>\n",
       "    <tr>\n",
       "      <th>1</th>\n",
       "      <td>1</td>\n",
       "      <td>23.857700</td>\n",
       "      <td>7.268479</td>\n",
       "      <td>4.176589</td>\n",
       "      <td>5.808434</td>\n",
       "      <td>10.560000</td>\n",
       "      <td>3.628767</td>\n",
       "      <td>40.507656</td>\n",
       "      <td>149.494352</td>\n",
       "      <td>2.490427</td>\n",
       "      <td>0.019758</td>\n",
       "      <td>1</td>\n",
       "    </tr>\n",
       "    <tr>\n",
       "      <th>2</th>\n",
       "      <td>2</td>\n",
       "      <td>23.705057</td>\n",
       "      <td>5.845803</td>\n",
       "      <td>4.461428</td>\n",
       "      <td>4.764295</td>\n",
       "      <td>7.259999</td>\n",
       "      <td>4.049543</td>\n",
       "      <td>-21.322527</td>\n",
       "      <td>149.494902</td>\n",
       "      <td>2.494936</td>\n",
       "      <td>0.281359</td>\n",
       "      <td>1</td>\n",
       "    </tr>\n",
       "    <tr>\n",
       "      <th>3</th>\n",
       "      <td>3</td>\n",
       "      <td>24.558876</td>\n",
       "      <td>4.736801</td>\n",
       "      <td>3.580482</td>\n",
       "      <td>4.755221</td>\n",
       "      <td>7.259999</td>\n",
       "      <td>2.802779</td>\n",
       "      <td>-59.909485</td>\n",
       "      <td>149.493794</td>\n",
       "      <td>2.493801</td>\n",
       "      <td>0.087045</td>\n",
       "      <td>1</td>\n",
       "    </tr>\n",
       "    <tr>\n",
       "      <th>4</th>\n",
       "      <td>5</td>\n",
       "      <td>23.348310</td>\n",
       "      <td>12.886220</td>\n",
       "      <td>11.909766</td>\n",
       "      <td>4.670296</td>\n",
       "      <td>6.599999</td>\n",
       "      <td>3.266122</td>\n",
       "      <td>16.987158</td>\n",
       "      <td>149.491495</td>\n",
       "      <td>2.493014</td>\n",
       "      <td>0.000417</td>\n",
       "      <td>1</td>\n",
       "    </tr>\n",
       "  </tbody>\n",
       "</table>\n",
       "</div>"
      ],
      "text/plain": [
       "   index   mag_best  flux_radius    a_image  kron_radius  petro_radius  \\\n",
       "0      0  24.438337     9.132363   6.947580     5.117546      7.259999   \n",
       "1      1  23.857700     7.268479   4.176589     5.808434     10.560000   \n",
       "2      2  23.705057     5.845803   4.461428     4.764295      7.259999   \n",
       "3      3  24.558876     4.736801   3.580482     4.755221      7.259999   \n",
       "4      5  23.348310    12.886220  11.909766     4.670296      6.599999   \n",
       "\n",
       "    b_image  theta_image          ra       dec  class_star  mu_class  \n",
       "0  2.786127    38.172997  149.495975  2.499467    0.000160         1  \n",
       "1  3.628767    40.507656  149.494352  2.490427    0.019758         1  \n",
       "2  4.049543   -21.322527  149.494902  2.494936    0.281359         1  \n",
       "3  2.802779   -59.909485  149.493794  2.493801    0.087045         1  \n",
       "4  3.266122    16.987158  149.491495  2.493014    0.000417         1  "
      ]
     },
     "execution_count": 9,
     "metadata": {},
     "output_type": "execute_result"
    }
   ],
   "source": [
    "cosmos.head()"
   ]
  },
  {
   "cell_type": "markdown",
   "id": "764f7bf4-70f8-41bc-87a9-84de87f33069",
   "metadata": {},
   "source": [
    "## FRBs"
   ]
  },
  {
   "cell_type": "code",
   "execution_count": 24,
   "id": "b45f3084-5c51-4ce9-bdb5-3faa1ea80e80",
   "metadata": {},
   "outputs": [
    {
     "data": {
      "text/html": [
       "<div>\n",
       "<style scoped>\n",
       "    .dataframe tbody tr th:only-of-type {\n",
       "        vertical-align: middle;\n",
       "    }\n",
       "\n",
       "    .dataframe tbody tr th {\n",
       "        vertical-align: top;\n",
       "    }\n",
       "\n",
       "    .dataframe thead th {\n",
       "        text-align: right;\n",
       "    }\n",
       "</style>\n",
       "<table border=\"1\" class=\"dataframe\">\n",
       "  <thead>\n",
       "    <tr style=\"text-align: right;\">\n",
       "      <th></th>\n",
       "      <th>ra</th>\n",
       "      <th>dec</th>\n",
       "      <th>gal_ID</th>\n",
       "      <th>gal_off</th>\n",
       "      <th>loc_off</th>\n",
       "    </tr>\n",
       "  </thead>\n",
       "  <tbody>\n",
       "    <tr>\n",
       "      <th>0</th>\n",
       "      <td>149.776857</td>\n",
       "      <td>2.575833</td>\n",
       "      <td>34519</td>\n",
       "      <td>0.083778</td>\n",
       "      <td>18.608427</td>\n",
       "    </tr>\n",
       "    <tr>\n",
       "      <th>1</th>\n",
       "      <td>150.363021</td>\n",
       "      <td>2.031332</td>\n",
       "      <td>838785</td>\n",
       "      <td>-0.067444</td>\n",
       "      <td>24.033023</td>\n",
       "    </tr>\n",
       "    <tr>\n",
       "      <th>2</th>\n",
       "      <td>150.162163</td>\n",
       "      <td>1.991247</td>\n",
       "      <td>82230</td>\n",
       "      <td>0.003642</td>\n",
       "      <td>1.194143</td>\n",
       "    </tr>\n",
       "    <tr>\n",
       "      <th>3</th>\n",
       "      <td>150.121823</td>\n",
       "      <td>2.680205</td>\n",
       "      <td>84291</td>\n",
       "      <td>0.031814</td>\n",
       "      <td>21.288107</td>\n",
       "    </tr>\n",
       "    <tr>\n",
       "      <th>4</th>\n",
       "      <td>150.279517</td>\n",
       "      <td>1.904798</td>\n",
       "      <td>101272</td>\n",
       "      <td>-0.082825</td>\n",
       "      <td>1.050939</td>\n",
       "    </tr>\n",
       "  </tbody>\n",
       "</table>\n",
       "</div>"
      ],
      "text/plain": [
       "           ra       dec  gal_ID   gal_off    loc_off\n",
       "0  149.776857  2.575833   34519  0.083778  18.608427\n",
       "1  150.363021  2.031332  838785 -0.067444  24.033023\n",
       "2  150.162163  1.991247   82230  0.003642   1.194143\n",
       "3  150.121823  2.680205   84291  0.031814  21.288107\n",
       "4  150.279517  1.904798  101272 -0.082825   1.050939"
      ]
     },
     "execution_count": 24,
     "metadata": {},
     "output_type": "execute_result"
    }
   ],
   "source": [
    "frbs = pandas.read_csv('frb_monte_carlo.csv')\n",
    "frbs.head()"
   ]
  },
  {
   "cell_type": "markdown",
   "id": "222fb322-be17-45ce-ad09-8a2aae9086a1",
   "metadata": {},
   "source": [
    "# Test one"
   ]
  },
  {
   "cell_type": "code",
   "execution_count": 58,
   "id": "2e80d8d0-835d-481c-bfd9-55e02c535665",
   "metadata": {},
   "outputs": [
    {
     "data": {
      "text/plain": [
       "ra             150.279433\n",
       "dec              1.904504\n",
       "ang_size         4.451886\n",
       "mag             16.490265\n",
       "P_O              0.790420\n",
       "p_xO             0.000699\n",
       "P_Ox             0.987528\n",
       "P_Ux             0.012407\n",
       "gal_ID      101272.000000\n",
       "iFRB             4.000000\n",
       "Name: 168, dtype: float64"
      ]
     },
     "execution_count": 58,
     "metadata": {},
     "output_type": "execute_result"
    }
   ],
   "source": [
    "best_i = np.argmax(ftry.P_Ox)\n",
    "best = ftry.iloc[best_i]\n",
    "best"
   ]
  },
  {
   "cell_type": "code",
   "execution_count": 38,
   "id": "c2011627-6b1a-4542-a6e3-4a8c83f49312",
   "metadata": {},
   "outputs": [
    {
     "data": {
      "text/plain": [
       "pandas.core.series.Series"
      ]
     },
     "execution_count": 38,
     "metadata": {},
     "output_type": "execute_result"
    }
   ],
   "source": [
    "type(best)"
   ]
  },
  {
   "cell_type": "markdown",
   "id": "a5a7a878-2df0-4e63-bd80-b061a48f5faf",
   "metadata": {},
   "source": [
    "## Check the galaxy"
   ]
  },
  {
   "cell_type": "code",
   "execution_count": 22,
   "id": "faa9cd1b-731f-4de8-a9a2-84aaa2188fec",
   "metadata": {},
   "outputs": [
    {
     "data": {
      "text/plain": [
       "101272"
      ]
     },
     "execution_count": 22,
     "metadata": {},
     "output_type": "execute_result"
    }
   ],
   "source": [
    "c_idx = np.where(cosmos.index == ftry.index[best_i])[0][0]\n",
    "c_idx"
   ]
  },
  {
   "cell_type": "markdown",
   "id": "34ebca4b-4062-4d55-a996-b8aa335255c3",
   "metadata": {},
   "source": [
    "## Check the FRB"
   ]
  },
  {
   "cell_type": "code",
   "execution_count": 69,
   "id": "92ad176f-b5f4-49d5-91ec-bd4590e93000",
   "metadata": {},
   "outputs": [
    {
     "data": {
      "text/plain": [
       "ra            150.279517\n",
       "dec             1.904798\n",
       "gal_ID     101272.000000\n",
       "gal_off        -0.082825\n",
       "loc_off         1.050939\n",
       "Name: 4, dtype: float64"
      ]
     },
     "execution_count": 69,
     "metadata": {},
     "output_type": "execute_result"
    }
   ],
   "source": [
    "frbs.loc[int(best.iFRB)]"
   ]
  },
  {
   "cell_type": "code",
   "execution_count": 64,
   "id": "89cfdac0-b18d-4e2f-ac75-85e24e3d442c",
   "metadata": {},
   "outputs": [
    {
     "data": {
      "text/plain": [
       "101272"
      ]
     },
     "execution_count": 64,
     "metadata": {},
     "output_type": "execute_result"
    }
   ],
   "source": [
    "frbs.loc[ftry.loc[best_i, 'iFRB'], 'gal_ID']"
   ]
  },
  {
   "cell_type": "markdown",
   "id": "e384d17f-4628-4cfa-8085-6f7b100c59e4",
   "metadata": {},
   "source": [
    "## And so?"
   ]
  },
  {
   "cell_type": "code",
   "execution_count": 68,
   "id": "1d2868fb-6594-4217-9576-045ea422671c",
   "metadata": {},
   "outputs": [],
   "source": [
    "assert frbs.loc[ftry.loc[best_i, 'iFRB'], 'gal_ID'] == ftry.loc[best_i, 'gal_ID']"
   ]
  },
  {
   "cell_type": "code",
   "execution_count": null,
   "id": "02ad8cbc-86a8-4f3d-bfe9-325f1adb63fb",
   "metadata": {},
   "outputs": [],
   "source": []
  }
 ],
 "metadata": {
  "kernelspec": {
   "display_name": "Python 3 (ipykernel)",
   "language": "python",
   "name": "python3"
  },
  "language_info": {
   "codemirror_mode": {
    "name": "ipython",
    "version": 3
   },
   "file_extension": ".py",
   "mimetype": "text/x-python",
   "name": "python",
   "nbconvert_exporter": "python",
   "pygments_lexer": "ipython3",
   "version": "3.10.9"
  }
 },
 "nbformat": 4,
 "nbformat_minor": 5
}
